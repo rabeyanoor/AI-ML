{
 "cells": [
  {
   "cell_type": "markdown",
   "id": "f6bf63b3",
   "metadata": {},
   "source": [
    "- Intro to Function\n",
    "- Function Parameters\n",
    "- Function return types\n",
    "- Iterator and Generator\n",
    "- Lambda function in python\n",
    "- Map function \n",
    "- Filter function\n",
    "- Reduce function \n"
   ]
  },
  {
   "cell_type": "markdown",
   "id": "f0c9ed0e",
   "metadata": {},
   "source": [
    "## Functions"
   ]
  },
  {
   "cell_type": "code",
   "execution_count": 9,
   "id": "eb60ee84",
   "metadata": {},
   "outputs": [
    {
     "name": "stdout",
     "output_type": "stream",
     "text": [
      "hello \n"
     ]
    }
   ],
   "source": [
    "def greet ():\n",
    "    print(\"hello \")\n",
    "greet()"
   ]
  },
  {
   "cell_type": "code",
   "execution_count": 11,
   "id": "c2750037",
   "metadata": {},
   "outputs": [
    {
     "name": "stdout",
     "output_type": "stream",
     "text": [
      "hello guest\n"
     ]
    }
   ],
   "source": [
    "def greet (user=\"guest\"):\n",
    "    print(f\"hello {user}\")\n",
    "greet()\n"
   ]
  },
  {
   "cell_type": "code",
   "execution_count": null,
   "id": "5d44e9bd",
   "metadata": {},
   "outputs": [],
   "source": [
    "def greet (user):\n",
    "    print(f\"hello {user}\")\n"
   ]
  },
  {
   "cell_type": "code",
   "execution_count": 8,
   "id": "21ddbdac",
   "metadata": {},
   "outputs": [
    {
     "name": "stdout",
     "output_type": "stream",
     "text": [
      "hello Rabeya\n"
     ]
    }
   ],
   "source": [
    "greet(\" Rabeya\")\n",
    "\n"
   ]
  },
  {
   "cell_type": "markdown",
   "id": "136f27a8",
   "metadata": {},
   "source": [
    "## Function parameters (Input)"
   ]
  },
  {
   "cell_type": "code",
   "execution_count": 12,
   "id": "3624f8a8",
   "metadata": {},
   "outputs": [
    {
     "name": "stdout",
     "output_type": "stream",
     "text": [
      "hello guest\n"
     ]
    }
   ],
   "source": [
    "def greet (user=\"guest\"):\n",
    "    print(f\"hello {user}\")\n",
    "greet()\n"
   ]
  },
  {
   "cell_type": "code",
   "execution_count": 13,
   "id": "5ff6a186",
   "metadata": {},
   "outputs": [],
   "source": [
    "def square_addition(a,b):\n",
    "    a=a**2\n",
    "    b=b**2\n",
    "    print(a+b)"
   ]
  },
  {
   "cell_type": "code",
   "execution_count": 14,
   "id": "f6a0eca6",
   "metadata": {},
   "outputs": [
    {
     "name": "stdout",
     "output_type": "stream",
     "text": [
      "500\n"
     ]
    }
   ],
   "source": [
    "square_addition(10,20)"
   ]
  },
  {
   "cell_type": "code",
   "execution_count": 19,
   "id": "8ab3253e",
   "metadata": {},
   "outputs": [],
   "source": [
    "def square_addition(a,b):\n",
    "    a=a**2\n",
    "    b=b**2\n",
    "    return a+b"
   ]
  },
  {
   "cell_type": "code",
   "execution_count": 20,
   "id": "9887c469",
   "metadata": {},
   "outputs": [
    {
     "name": "stdout",
     "output_type": "stream",
     "text": [
      "510\n"
     ]
    }
   ],
   "source": [
    "ans = square_addition(10,20)+10\n",
    "print(ans)"
   ]
  },
  {
   "cell_type": "code",
   "execution_count": 21,
   "id": "39339605",
   "metadata": {},
   "outputs": [
    {
     "name": "stdout",
     "output_type": "stream",
     "text": [
      "10 20\n",
      "510\n"
     ]
    }
   ],
   "source": [
    "def square_addition(a,b):\n",
    "    print(f\"{a} {b}\")\n",
    "    a=a**2\n",
    "    b=b**2\n",
    "    return a+b\n",
    "ans = square_addition(10,20)+10\n",
    "print(ans)"
   ]
  },
  {
   "cell_type": "code",
   "execution_count": 25,
   "id": "1ef8a203",
   "metadata": {},
   "outputs": [
    {
     "name": "stdout",
     "output_type": "stream",
     "text": [
      "10 20 30\n",
      "540\n"
     ]
    }
   ],
   "source": [
    "def square_addition(a,b,c):\n",
    "    print(f\"{a} {b} {c}\")\n",
    "    a=a**2\n",
    "    b=b**2\n",
    "    return a+b+c\n",
    "ans = square_addition(10,20,30)+10\n",
    "print(ans)"
   ]
  },
  {
   "cell_type": "code",
   "execution_count": null,
   "id": "a9af9741",
   "metadata": {},
   "outputs": [
    {
     "name": "stdout",
     "output_type": "stream",
     "text": [
      "20 30 10\n",
      "1320\n"
     ]
    }
   ],
   "source": [
    "def square_addition(a,b,c):\n",
    "    print(f\"{a} {b} {c}\")\n",
    "    a=a**2\n",
    "    b=b**2\n",
    "    return a+b+c\n",
    "# keyword argument\n",
    "ans = square_addition(c=10,a=20,b=30)+10\n",
    "print(ans)"
   ]
  },
  {
   "cell_type": "code",
   "execution_count": 27,
   "id": "7cf2a593",
   "metadata": {},
   "outputs": [
    {
     "name": "stdout",
     "output_type": "stream",
     "text": [
      "(10, 20, 30, 40, 50)\n",
      "None\n"
     ]
    }
   ],
   "source": [
    "def square_addition(* args):\n",
    "    print(args)\n",
    "ans = square_addition(10,20,30,40,50)\n",
    "print(ans)    "
   ]
  },
  {
   "cell_type": "code",
   "execution_count": 29,
   "id": "33266636",
   "metadata": {},
   "outputs": [
    {
     "name": "stdout",
     "output_type": "stream",
     "text": [
      "10\n",
      "20\n",
      "30\n",
      "40\n",
      "50\n",
      "None\n"
     ]
    }
   ],
   "source": [
    "def square_addition(* args):\n",
    "    for i in  args:\n",
    "        print(i)\n",
    "ans = square_addition(10,20,30,40,50)\n",
    "print(ans)    "
   ]
  },
  {
   "cell_type": "code",
   "execution_count": 30,
   "id": "e13eda40",
   "metadata": {},
   "outputs": [
    {
     "name": "stdout",
     "output_type": "stream",
     "text": [
      "5500\n"
     ]
    }
   ],
   "source": [
    "def square_addition(* args):\n",
    "    sum=0\n",
    "    for i in  args:\n",
    "        i=i**2\n",
    "        sum+=i\n",
    "    return sum    \n",
    "ans = square_addition(10,20,30,40,50)\n",
    "print(ans)    "
   ]
  },
  {
   "cell_type": "code",
   "execution_count": 31,
   "id": "35385881",
   "metadata": {},
   "outputs": [
    {
     "name": "stdout",
     "output_type": "stream",
     "text": [
      "{'name': 'Rabeya', 'cls': 10, 'roll': 30, 'marks': 30.5}\n"
     ]
    }
   ],
   "source": [
    "def student(** kwargs):\n",
    "    print(kwargs)\n",
    "student(name =\"Rabeya\",cls=10,roll=30,marks=30.5)       "
   ]
  },
  {
   "cell_type": "code",
   "execution_count": null,
   "id": "f2c1f615",
   "metadata": {},
   "outputs": [
    {
     "name": "stdout",
     "output_type": "stream",
     "text": [
      "name : Rabeya\n",
      "cls : 10\n",
      "roll : 30\n",
      "marks : 30.5\n"
     ]
    }
   ],
   "source": [
    "def student(** kwargs):\n",
    "    for key ,val in kwargs.items():\n",
    "        print(f\"{key} : {val}\")\n",
    "student(name =\"Rabeya\",cls=10,roll=30,marks=30.5)       "
   ]
  },
  {
   "cell_type": "markdown",
   "id": "14a786d2",
   "metadata": {},
   "source": [
    "## return"
   ]
  },
  {
   "cell_type": "code",
   "execution_count": 34,
   "id": "36312b89",
   "metadata": {},
   "outputs": [
    {
     "data": {
      "text/plain": [
       "int"
      ]
     },
     "execution_count": 34,
     "metadata": {},
     "output_type": "execute_result"
    }
   ],
   "source": [
    "def give_prediction():\n",
    "    return 10\n",
    "type(give_prediction())"
   ]
  },
  {
   "cell_type": "code",
   "execution_count": 35,
   "id": "071f4656",
   "metadata": {},
   "outputs": [
    {
     "data": {
      "text/plain": [
       "float"
      ]
     },
     "execution_count": 35,
     "metadata": {},
     "output_type": "execute_result"
    }
   ],
   "source": [
    "def give_prediction():\n",
    "    return 10.234567\n",
    "type(give_prediction())"
   ]
  },
  {
   "cell_type": "code",
   "execution_count": 36,
   "id": "9219c8aa",
   "metadata": {},
   "outputs": [
    {
     "data": {
      "text/plain": [
       "str"
      ]
     },
     "execution_count": 36,
     "metadata": {},
     "output_type": "execute_result"
    }
   ],
   "source": [
    "def give_prediction():\n",
    "    return \"name\"\n",
    "type(give_prediction())"
   ]
  },
  {
   "cell_type": "code",
   "execution_count": 39,
   "id": "874500ff",
   "metadata": {},
   "outputs": [
    {
     "data": {
      "text/plain": [
       "tuple"
      ]
     },
     "execution_count": 39,
     "metadata": {},
     "output_type": "execute_result"
    }
   ],
   "source": [
    "def give_prediction():\n",
    "    return 10,12,34\n",
    "type(give_prediction())\n",
    "\n"
   ]
  },
  {
   "cell_type": "code",
   "execution_count": null,
   "id": "974d3d1c",
   "metadata": {},
   "outputs": [
    {
     "name": "stdout",
     "output_type": "stream",
     "text": [
      "(10, 12, 34)\n"
     ]
    }
   ],
   "source": [
    "#tuple\n",
    "def give_prediction():\n",
    "    return 10,12,34\n",
    "type(give_prediction())\n",
    "print(give_prediction())\n"
   ]
  },
  {
   "cell_type": "code",
   "execution_count": 42,
   "id": "2958fc24",
   "metadata": {},
   "outputs": [
    {
     "name": "stdout",
     "output_type": "stream",
     "text": [
      "(10, 12)\n",
      "10 12\n"
     ]
    }
   ],
   "source": [
    "def give_prediction():\n",
    "    return 10,12\n",
    "type(give_prediction())\n",
    "print(give_prediction())\n",
    "\n",
    "##unpacking\n",
    "\n",
    "x,y =give_prediction()\n",
    "print(x,y)\n"
   ]
  },
  {
   "cell_type": "code",
   "execution_count": 2,
   "id": "a008462a",
   "metadata": {},
   "outputs": [
    {
     "name": "stdout",
     "output_type": "stream",
     "text": [
      "(10, 30)\n",
      "10 30\n"
     ]
    }
   ],
   "source": [
    "def give_prediction(a,b):\n",
    "    return a,b\n",
    "\n",
    "print(give_prediction(10,30))\n",
    "\n",
    "##unpacking\n",
    "\n",
    "x,y =give_prediction(10,30)\n",
    "print(x,y)\n"
   ]
  },
  {
   "cell_type": "code",
   "execution_count": 45,
   "id": "d4852e0b",
   "metadata": {},
   "outputs": [
    {
     "data": {
      "text/plain": [
       "tuple"
      ]
     },
     "execution_count": 45,
     "metadata": {},
     "output_type": "execute_result"
    }
   ],
   "source": [
    "def give_prediction():\n",
    "    a=[10,20,30]\n",
    "    b=[20,30,40]\n",
    "    return a,b\n",
    "type(give_prediction())"
   ]
  },
  {
   "cell_type": "code",
   "execution_count": null,
   "id": "cbb111e3",
   "metadata": {},
   "outputs": [
    {
     "name": "stdout",
     "output_type": "stream",
     "text": [
      "[10, 20, 30]\n",
      "[20, 30, 40]\n"
     ]
    }
   ],
   "source": [
    "def give_prediction():\n",
    "    a=[10,20,30]\n",
    "    b=[20,30,40]\n",
    "    return a,b\n",
    "\n",
    "\n",
    "#unpacking\n",
    "x,y =give_prediction()\n",
    "\n",
    "print(x)\n",
    "print(y)"
   ]
  },
  {
   "cell_type": "code",
   "execution_count": 49,
   "id": "e93c129b",
   "metadata": {},
   "outputs": [
    {
     "name": "stdout",
     "output_type": "stream",
     "text": [
      "<class 'set'>\n"
     ]
    }
   ],
   "source": [
    "def give_prediction():\n",
    "    a={10,20,30}\n",
    "    return a\n",
    "x=give_prediction()\n",
    "\n",
    "print(type(x))\n"
   ]
  },
  {
   "cell_type": "code",
   "execution_count": 50,
   "id": "126b22a2",
   "metadata": {},
   "outputs": [
    {
     "name": "stdout",
     "output_type": "stream",
     "text": [
      "<class 'set'>\n",
      "10\n",
      "20\n",
      "30\n"
     ]
    }
   ],
   "source": [
    "def give_prediction():\n",
    "    a={10,20,30}\n",
    "    return a\n",
    "x=give_prediction()\n",
    "\n",
    "print(type(x))\n",
    "for item in x:\n",
    "    print(item)"
   ]
  },
  {
   "cell_type": "code",
   "execution_count": 51,
   "id": "27bf0865",
   "metadata": {},
   "outputs": [
    {
     "name": "stdout",
     "output_type": "stream",
     "text": [
      "<class 'tuple'>\n",
      "{10, 20, 30}\n",
      "[100, 200, 300]\n"
     ]
    }
   ],
   "source": [
    "def give_prediction():\n",
    "    a={10,20,30}\n",
    "    b=[100,200,300]\n",
    "    return a,b\n",
    "x=give_prediction()\n",
    "\n",
    "print(type(x))\n",
    "for item in x:\n",
    "    print(item)"
   ]
  },
  {
   "cell_type": "code",
   "execution_count": 5,
   "id": "57696263",
   "metadata": {},
   "outputs": [
    {
     "name": "stdout",
     "output_type": "stream",
     "text": [
      "<class 'dict'>\n"
     ]
    },
    {
     "data": {
      "text/plain": [
       "{'name': 'Rabeya', 'address': 'Savar'}"
      ]
     },
     "execution_count": 5,
     "metadata": {},
     "output_type": "execute_result"
    }
   ],
   "source": [
    "def give_prediction():\n",
    "    return{\"name\":\"Rabeya\",\"address\":\"Savar\"}\n",
    "\n",
    "x=give_prediction()\n",
    "print(type(x))\n",
    "give_prediction()"
   ]
  },
  {
   "cell_type": "code",
   "execution_count": 53,
   "id": "90b7eaf7",
   "metadata": {},
   "outputs": [
    {
     "name": "stdout",
     "output_type": "stream",
     "text": [
      "<class 'dict'>\n",
      "name\n",
      "address\n"
     ]
    }
   ],
   "source": [
    "def give_prediction():\n",
    "    return{\"name\":\"Rabeya\",\"address\":\"Savar\"},{\"name\":\"Noor\",\"address\":\"Dhaka\"}\n",
    "\n",
    "x,y=give_prediction()\n",
    "print(type(x))\n",
    "\n",
    "for item in x:\n",
    "    print(item)"
   ]
  },
  {
   "cell_type": "code",
   "execution_count": 57,
   "id": "17e63d36",
   "metadata": {},
   "outputs": [
    {
     "name": "stdout",
     "output_type": "stream",
     "text": [
      "<class 'dict'>\n",
      "('name', 'Rabeya')\n",
      "('address', 'Savar')\n"
     ]
    }
   ],
   "source": [
    "def give_prediction():\n",
    "    return{\"name\":\"Rabeya\",\"address\":\"Savar\"},{\"name\":\"Noor\",\"address\":\"Dhaka\"}\n",
    "\n",
    "x,y=give_prediction()\n",
    "print(type(x))\n",
    "\n",
    "for item in x.items():\n",
    "    print(item)"
   ]
  },
  {
   "cell_type": "markdown",
   "id": "348cc4c9",
   "metadata": {},
   "source": [
    "## iterator"
   ]
  },
  {
   "cell_type": "code",
   "execution_count": 58,
   "id": "9d515d3b",
   "metadata": {},
   "outputs": [
    {
     "name": "stdout",
     "output_type": "stream",
     "text": [
      "<class 'set_iterator'>\n"
     ]
    }
   ],
   "source": [
    "s={10,20,30,40}\n",
    "\n",
    "s_iter=iter(s)\n",
    "print(type(s_iter))"
   ]
  },
  {
   "cell_type": "code",
   "execution_count": 59,
   "id": "b1d21c80",
   "metadata": {},
   "outputs": [
    {
     "name": "stdout",
     "output_type": "stream",
     "text": [
      "<set_iterator object at 0x74d1ba62f9c0>\n"
     ]
    }
   ],
   "source": [
    "s={10,20,30,40}\n",
    "\n",
    "s_iter=iter(s)\n",
    "print(s_iter)"
   ]
  },
  {
   "cell_type": "code",
   "execution_count": null,
   "id": "ab1cea24",
   "metadata": {},
   "outputs": [
    {
     "name": "stdout",
     "output_type": "stream",
     "text": [
      "40\n"
     ]
    }
   ],
   "source": [
    "s={10,20,30,40}\n",
    "\n",
    "s_iter=iter(s)\n",
    "print(next(s_iter))\n"
   ]
  },
  {
   "cell_type": "code",
   "execution_count": 63,
   "id": "06f24151",
   "metadata": {},
   "outputs": [
    {
     "name": "stdout",
     "output_type": "stream",
     "text": [
      "40\n",
      "10\n",
      "20\n",
      "30\n"
     ]
    }
   ],
   "source": [
    "s={10,20,30,40}\n",
    "\n",
    "s_iter=iter(s)\n",
    "print(next(s_iter))\n",
    "print(next(s_iter))\n",
    "print(next(s_iter))\n",
    "print(next(s_iter))\n",
    "\n"
   ]
  },
  {
   "cell_type": "code",
   "execution_count": 64,
   "id": "430ebd89",
   "metadata": {},
   "outputs": [
    {
     "name": "stdout",
     "output_type": "stream",
     "text": [
      "40\n",
      "10\n",
      "20\n",
      "30\n",
      "40\n",
      "10\n",
      "20\n",
      "30\n"
     ]
    }
   ],
   "source": [
    "s={10,20,30,40}\n",
    "\n",
    "s_iter=iter(s)\n",
    "print(next(s_iter))\n",
    "print(next(s_iter))\n",
    "print(next(s_iter))\n",
    "print(next(s_iter))\n",
    "\n",
    "for i in s:\n",
    "    print(i)"
   ]
  },
  {
   "cell_type": "markdown",
   "id": "b5e350a7",
   "metadata": {},
   "source": [
    "## generator"
   ]
  },
  {
   "cell_type": "code",
   "execution_count": 65,
   "id": "0770da25",
   "metadata": {},
   "outputs": [
    {
     "name": "stdout",
     "output_type": "stream",
     "text": [
      "[0, 1, 2, 3, 4, 5, 6, 7, 8, 9, 10, 11, 12, 13, 14, 15, 16, 17, 18, 19, 20, 21, 22, 23, 24, 25, 26, 27, 28, 29, 30, 31, 32, 33, 34, 35, 36, 37, 38, 39]\n"
     ]
    }
   ],
   "source": [
    "lst =[x for x in  range(40)]#dataset\n",
    "print(lst)"
   ]
  },
  {
   "cell_type": "code",
   "execution_count": 71,
   "id": "9b6d4b88",
   "metadata": {},
   "outputs": [
    {
     "name": "stdout",
     "output_type": "stream",
     "text": [
      "<class 'generator'>\n",
      "<generator object data_loader at 0x74d1ba757680>\n",
      "[0, 1, 2, 3, 4]\n",
      "[1, 2, 3, 4, 5]\n"
     ]
    }
   ],
   "source": [
    "lst =[x for x in  range(40)]#dataset\n",
    "def data_loader(chunk_size,lst):\n",
    "    for i in range(len(lst)):\n",
    "        yield lst[i:i+chunk_size]\n",
    "\n",
    "x=data_loader(5,lst) \n",
    "print(type(x))  \n",
    "print(x)  \n",
    "print(next(x))       \n",
    "print(next(x))       \n",
    "\n"
   ]
  },
  {
   "cell_type": "code",
   "execution_count": 72,
   "id": "122db2a7",
   "metadata": {},
   "outputs": [
    {
     "name": "stdout",
     "output_type": "stream",
     "text": [
      "[0, 1, 2, 3, 4]\n",
      "[5, 6, 7, 8, 9]\n"
     ]
    }
   ],
   "source": [
    "lst =[x for x in  range(40)]#dataset\n",
    "\n",
    "def data_loader(chunk_size,lst):\n",
    "    for i in range(0,len(lst),chunk_size):\n",
    "        yield lst[i:i+chunk_size]\n",
    "\n",
    "x=data_loader(5,lst) \n",
    " \n",
    "print(next(x)) \n",
    "print(next(x))       \n",
    "\n",
    "\n"
   ]
  },
  {
   "cell_type": "markdown",
   "id": "2e5ffbbb",
   "metadata": {},
   "source": [
    "## Lambda function"
   ]
  },
  {
   "cell_type": "code",
   "execution_count": 76,
   "id": "7fefc213",
   "metadata": {},
   "outputs": [
    {
     "name": "stdout",
     "output_type": "stream",
     "text": [
      "13\n"
     ]
    }
   ],
   "source": [
    "def square_addition(x,y):\n",
    "    return x**2 + y**2\n",
    "sq_add= lambda x,y : x**2 + y**2 \n",
    "print(sq_add(2,3))  "
   ]
  },
  {
   "cell_type": "code",
   "execution_count": 77,
   "id": "60599ba8",
   "metadata": {},
   "outputs": [
    {
     "name": "stdout",
     "output_type": "stream",
     "text": [
      "False\n"
     ]
    }
   ],
   "source": [
    "if_even =lambda x : x%2==0\n",
    "print(if_even(11))"
   ]
  },
  {
   "cell_type": "markdown",
   "id": "6b83986c",
   "metadata": {},
   "source": [
    "## Map"
   ]
  },
  {
   "cell_type": "code",
   "execution_count": 79,
   "id": "0a681ad1",
   "metadata": {},
   "outputs": [
    {
     "name": "stdout",
     "output_type": "stream",
     "text": [
      "<map object at 0x74d1d05eb880>\n"
     ]
    }
   ],
   "source": [
    "lst =[1,2,3,4,5,6]\n",
    "def square(x):\n",
    "    return x**2\n",
    "lst= map(square,lst)\n",
    "print(lst)"
   ]
  },
  {
   "cell_type": "code",
   "execution_count": 81,
   "metadata": {},
   "outputs": [
    {
     "name": "stdout",
     "output_type": "stream",
     "text": [
      "[1, 4, 9, 16, 25, 36]\n"
     ]
    }
   ],
   "source": [
    "lst =[1,2,3,4,5,6]\n",
    "def square(x):\n",
    "    return x**2\n",
    "lst= list(map(square,lst))\n",
    "print(lst)"
   ]
  },
  {
   "cell_type": "code",
   "execution_count": 85,
   "metadata": {},
   "outputs": [
    {
     "name": "stdout",
     "output_type": "stream",
     "text": [
      "['H', 'E', 'L', 'L', 'O', ' ', 'W', 'O', 'R', 'L', 'D', ',', 'W', 'E', 'L', 'C', 'O', 'M', 'E', ' ', 'T', 'O', ' ', 'T', 'H', 'E', ' ', 'A', 'G', 'E', ' ', 'O', 'F', ' ', 'A', 'I', ' ']\n",
      "HELLO WORLD,WELCOME TO THE AGE OF AI \n",
      "H  E  L  L  O     W  O  R  L  D  ,  W  E  L  C  O  M  E     T  O     T  H  E     A  G  E     O  F     A  I   \n"
     ]
    }
   ],
   "source": [
    "# string\n",
    "\n",
    "string =\"hello world,welcome to the age of AI \"\n",
    "\n",
    "string1 =list(map(str.upper ,string))\n",
    "print(string1)\n",
    "\n",
    "string1= \"\".join(string1)\n",
    "print(string1)\n",
    "\n",
    "string1= \"  \".join(string1)\n",
    "print(string1)"
   ]
  },
  {
   "cell_type": "code",
   "execution_count": 92,
   "metadata": {},
   "outputs": [
    {
     "name": "stdout",
     "output_type": "stream",
     "text": [
      "<map object at 0x74d1d060a440>\n",
      "[1, 16, 81, 256, 625, 1296]\n"
     ]
    }
   ],
   "source": [
    "## map with lambda function\n",
    "\n",
    "lst = [1,2,3,4,5,6]\n",
    "lst =(map(lambda x:x**2 ,lst))\n",
    "\n",
    "print(lst)\n",
    "\n",
    "lst =list(map(lambda x:x**2 ,lst))\n",
    "\n",
    "print(lst)"
   ]
  },
  {
   "cell_type": "code",
   "execution_count": 88,
   "metadata": {},
   "outputs": [
    {
     "name": "stdout",
     "output_type": "stream",
     "text": [
      "[1, 4, 3, 16, 5, 36]\n"
     ]
    }
   ],
   "source": [
    "lst = [1,2,3,4,5,6]\n",
    "lst =list(map(lambda x:x**2  if x%2==0 else x,lst))\n",
    "\n",
    "print(lst)"
   ]
  },
  {
   "cell_type": "markdown",
   "id": "55835164",
   "metadata": {},
   "source": [
    "## Filter"
   ]
  },
  {
   "cell_type": "code",
   "execution_count": 93,
   "metadata": {},
   "outputs": [
    {
     "name": "stdout",
     "output_type": "stream",
     "text": [
      "[0, 1, 2, 3, 4, 5, 6, 7, 8, 9, 10, 11, 12, 13, 14, 15, 16, 17, 18, 19, 20, 21, 22, 23, 24, 25, 26, 27, 28, 29, 30, 31, 32, 33, 34, 35, 36, 37, 38, 39, 40, 41, 42, 43, 44, 45, 46, 47, 48, 49, 50, 51, 52, 53, 54, 55, 56, 57, 58, 59, 60, 61, 62, 63, 64, 65, 66, 67, 68, 69, 70, 71, 72, 73, 74, 75, 76, 77, 78, 79, 80, 81, 82, 83, 84, 85, 86, 87, 88, 89, 90, 91, 92, 93, 94, 95, 96, 97, 98, 99]\n",
      "<filter object at 0x74d1d0480070>\n",
      "[0, 2, 4, 6, 8, 10, 12, 14, 16, 18, 20, 22, 24, 26, 28, 30, 32, 34, 36, 38, 40, 42, 44, 46, 48, 50, 52, 54, 56, 58, 60, 62, 64, 66, 68, 70, 72, 74, 76, 78, 80, 82, 84, 86, 88, 90, 92, 94, 96, 98]\n"
     ]
    }
   ],
   "source": [
    "numbers =[x for x in range(100)]\n",
    "print(numbers)\n",
    "\n",
    "# even\n",
    "even =filter(lambda x: x% 2==0,numbers)\n",
    "print(even)\n",
    "\n",
    "even =list(filter(lambda x: x% 2==0,numbers))\n",
    "print(even)"
   ]
  },
  {
   "cell_type": "code",
   "execution_count": 94,
   "metadata": {},
   "outputs": [
    {
     "name": "stdout",
     "output_type": "stream",
     "text": [
      "[51, 52, 53, 54, 55, 56, 57, 58, 59, 60, 61, 62, 63, 64, 65, 66, 67, 68, 69, 70, 71, 72, 73, 74, 75, 76, 77, 78, 79, 80, 81, 82, 83, 84, 85, 86, 87, 88, 89, 90, 91, 92, 93, 94, 95, 96, 97, 98, 99]\n"
     ]
    }
   ],
   "source": [
    "fifty_upper = list(filter(lambda x:x>50,numbers))\n",
    "print(fifty_upper)"
   ]
  },
  {
   "cell_type": "code",
   "execution_count": 95,
   "metadata": {},
   "outputs": [
    {
     "name": "stdout",
     "output_type": "stream",
     "text": [
      "[1, 'Hello', [1, 2], True]\n"
     ]
    }
   ],
   "source": [
    "data=[0,1,'',None,'Hello',[],[1,2],None,True,False,None]\n",
    "cleaned_data =list(filter(None,data))\n",
    "\n",
    "print(cleaned_data)"
   ]
  },
  {
   "cell_type": "code",
   "execution_count": 100,
   "metadata": {},
   "outputs": [
    {
     "name": "stdout",
     "output_type": "stream",
     "text": [
      "<filter object at 0x74d1d06359c0>\n",
      "['E', 'O', 'O', 'E', 'O', 'E', 'O', 'E', 'A', 'E', 'O', 'A', 'I']\n"
     ]
    }
   ],
   "source": [
    "# string\n",
    "\n",
    "vowel_ =filter(lambda x:x in \"AEIOU\", string1)\n",
    "print(vowel_)\n",
    "\n",
    "vowel_ =list(filter(lambda x:x in \"AEIOU\", string1))\n",
    "print(vowel_)"
   ]
  },
  {
   "cell_type": "code",
   "execution_count": 101,
   "metadata": {},
   "outputs": [
    {
     "name": "stdout",
     "output_type": "stream",
     "text": [
      "['aaa', 'ccc', 'ddddd']\n"
     ]
    }
   ],
   "source": [
    "fruits =['aaa','bb','ccc','ddddd']\n",
    "filtering =list(filter(lambda x: len(x)>2 , fruits))\n",
    "\n",
    "print(filtering)"
   ]
  },
  {
   "cell_type": "markdown",
   "id": "041f3f11",
   "metadata": {},
   "source": [
    "## Reduce"
   ]
  },
  {
   "cell_type": "code",
   "execution_count": 106,
   "id": "a3394fe0",
   "metadata": {},
   "outputs": [
    {
     "name": "stdout",
     "output_type": "stream",
     "text": [
      "21\n"
     ]
    }
   ],
   "source": [
    "from functools import reduce\n",
    "\n",
    "lst =[1,2,3,4,5,6]\n",
    "\n",
    "summation=reduce(lambda x,y : x+y,lst)\n",
    "print(summation)"
   ]
  },
  {
   "cell_type": "code",
   "execution_count": 108,
   "metadata": {},
   "outputs": [
    {
     "name": "stdout",
     "output_type": "stream",
     "text": [
      "10\n"
     ]
    }
   ],
   "source": [
    "lst =[1,2,10,3,4,5,6]\n",
    "\n",
    "max_value =reduce(lambda x,y :x if x>y else y ,lst)\n",
    "print(max_value)"
   ]
  },
  {
   "cell_type": "code",
   "execution_count": 109,
   "metadata": {},
   "outputs": [
    {
     "name": "stdout",
     "output_type": "stream",
     "text": [
      "['hello', 'world', 'welcome', 'to', 'programming']\n",
      "hello world welcome to programming\n"
     ]
    }
   ],
   "source": [
    "# list convert string\n",
    "\n",
    "lst=[\"hello\",\"world\",\"welcome\",\"to\",\"programming\"]\n",
    "print(lst)\n",
    "\n",
    "string =reduce(lambda x,y : x+\" \"+y ,lst)\n",
    "print(string)"
   ]
  },
  {
   "cell_type": "markdown",
   "id": "22e405b6",
   "metadata": {},
   "source": [
    "## Quiz"
   ]
  },
  {
   "cell_type": "code",
   "execution_count": 74,
   "id": "468dbf71",
   "metadata": {},
   "outputs": [
    {
     "name": "stdout",
     "output_type": "stream",
     "text": [
      "5\n"
     ]
    }
   ],
   "source": [
    "def add (a, b=2):\n",
    "    return a+b\n",
    "print(add(3))"
   ]
  },
  {
   "cell_type": "code",
   "execution_count": 75,
   "id": "38e43fd1",
   "metadata": {},
   "outputs": [
    {
     "name": "stdout",
     "output_type": "stream",
     "text": [
      "[2, 4]\n"
     ]
    }
   ],
   "source": [
    "x=list(filter(lambda x: x%2==0, [1,2,3,4]))\n",
    "print(x)"
   ]
  }
 ],
 "metadata": {
  "kernelspec": {
   "display_name": "base",
   "language": "python",
   "name": "python3"
  },
  "language_info": {
   "codemirror_mode": {
    "name": "ipython",
    "version": 3
   },
   "file_extension": ".py",
   "mimetype": "text/x-python",
   "name": "python",
   "nbconvert_exporter": "python",
   "pygments_lexer": "ipython3",
   "version": "3.13.5"
  }
 },
 "nbformat": 4,
 "nbformat_minor": 5
}
