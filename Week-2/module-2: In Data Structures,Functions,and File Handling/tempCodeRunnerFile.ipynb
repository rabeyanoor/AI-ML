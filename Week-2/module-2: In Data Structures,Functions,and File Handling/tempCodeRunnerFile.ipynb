print(pro_cooling.cooling_on())#Cooling_Mechanism class er method
print(pro_cooling.charge(1))# SmartPhone er modified charge jeta Phone class theke inherited