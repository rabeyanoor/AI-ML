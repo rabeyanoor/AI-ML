{
 "cells": [
  {
   "cell_type": "markdown",
   "id": "6df8ddfa",
   "metadata": {},
   "source": [
    "## Class and Objects"
   ]
  },
  {
   "cell_type": "code",
   "execution_count": 4,
   "id": "ffc77539",
   "metadata": {},
   "outputs": [],
   "source": [
    "class Phone:\n",
    "  catagory =\"Electronics\"\n",
    "\n"
   ]
  },
  {
   "cell_type": "code",
   "execution_count": 6,
   "id": "34f28c6a",
   "metadata": {},
   "outputs": [
    {
     "name": "stdout",
     "output_type": "stream",
     "text": [
      "<class '__main__.Phone'>\n",
      "Super Electronics\n",
      "Electronics\n",
      "Electronics\n"
     ]
    }
   ],
   "source": [
    "## creating object\n",
    "\n",
    "apple = Phone()\n",
    "print(type(apple))\n",
    "apple.catagory=\"Super Electronics\"\n",
    "blueberry=Phone()\n",
    "motorola=Phone()\n",
    "\n",
    "print(apple.catagory)\n",
    "print(blueberry.catagory)\n",
    "print(motorola.catagory)\n",
    "\n"
   ]
  },
  {
   "cell_type": "code",
   "execution_count": null,
   "id": "f5368065",
   "metadata": {},
   "outputs": [],
   "source": [
    "class Phone:\n",
    "  category =\"Electronics\"\n",
    "\n",
    "# constructor\n",
    " \n",
    "  def __init__ (self ,model,battery,camera):\n",
    "     self.model=model\n",
    "     self. battery=battery\n",
    "     self.camera=camera\n"
   ]
  },
  {
   "cell_type": "code",
   "execution_count": 15,
   "id": "962c2e08",
   "metadata": {},
   "outputs": [
    {
     "name": "stdout",
     "output_type": "stream",
     "text": [
      "35\n"
     ]
    }
   ],
   "source": [
    "apple=Phone(\"Iphone17\",3000,40)\n",
    "blueberry=Phone(\"B-17\",4000,30)\n",
    "motorola=Phone(\"M-17\",3500,35)\n",
    "\n",
    "print(motorola.camera)"
   ]
  },
  {
   "cell_type": "code",
   "execution_count": 19,
   "id": "6f76576d",
   "metadata": {},
   "outputs": [],
   "source": [
    "class Phone:\n",
    "  category =\"Electronics\"\n",
    "\n",
    "# constructor\n",
    " \n",
    "  def __init__ (self ,model,battery,camera,battery_percentage=100):\n",
    "     self.model=model\n",
    "     self. battery=battery\n",
    "     self.camera=camera\n",
    "     self.battery_percentage= battery_percentage\n",
    "\n",
    "# methods\n",
    "  def  charge(self,hour):\n",
    "    self.charge+= hour\n",
    "\n",
    "  def capture(self,photo):\n",
    "    if(self.battery_percentage)<=0:\n",
    "      print(\"No charge\")\n",
    "    else:\n",
    "       self.battery_percentage-= photo\n",
    "       print(f\"photo captured in {self.model}\")\n",
    "      \n"
   ]
  },
  {
   "cell_type": "code",
   "execution_count": 21,
   "id": "5f01fc2f",
   "metadata": {},
   "outputs": [
    {
     "name": "stdout",
     "output_type": "stream",
     "text": [
      "photo captured in Iphone17\n",
      "90\n",
      "100\n"
     ]
    }
   ],
   "source": [
    "apple=Phone(\"Iphone17\",3000,40)\n",
    "blueberry=Phone(\"B-17\",4000,30)\n",
    "motorola=Phone(\"M-17\",3500,35)\n",
    "\n",
    "apple.capture(10)\n",
    "print(apple.battery_percentage)\n",
    "print(motorola.battery_percentage)\n"
   ]
  },
  {
   "cell_type": "code",
   "execution_count": null,
   "id": "6875a2c4",
   "metadata": {},
   "outputs": [],
   "source": []
  },
  {
   "cell_type": "code",
   "execution_count": 22,
   "id": "f8592750",
   "metadata": {},
   "outputs": [
    {
     "name": "stdout",
     "output_type": "stream",
     "text": [
      "Rafi\n"
     ]
    }
   ],
   "source": [
    "class Student:\n",
    "    def __init__(self, name):\n",
    "        self.name = name\n",
    "\n",
    "s = Student(\"Rafi\")\n",
    "print(s.name)\n"
   ]
  },
  {
   "cell_type": "code",
   "execution_count": null,
   "id": "c4a16387",
   "metadata": {},
   "outputs": [],
   "source": []
  },
  {
   "cell_type": "code",
   "execution_count": null,
   "id": "c497e092",
   "metadata": {},
   "outputs": [],
   "source": []
  }
 ],
 "metadata": {
  "kernelspec": {
   "display_name": "Python 3",
   "language": "python",
   "name": "python3"
  },
  "language_info": {
   "codemirror_mode": {
    "name": "ipython",
    "version": 3
   },
   "file_extension": ".py",
   "mimetype": "text/x-python",
   "name": "python",
   "nbconvert_exporter": "python",
   "pygments_lexer": "ipython3",
   "version": "3.12.3"
  }
 },
 "nbformat": 4,
 "nbformat_minor": 5
}
