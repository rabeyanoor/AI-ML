{
 "cells": [
  {
   "cell_type": "markdown",
   "id": "c8612a3e",
   "metadata": {},
   "source": [
    "- Introduction to OOP\n",
    "- class and objects theory\n",
    "- class and object implementation\n",
    "- Oop Inheritance\n",
    "- Oop Polymorphism\n",
    "- Oop Encapsulation\n",
    "- Oop Abstraction"
   ]
  },
  {
   "cell_type": "markdown",
   "id": "6df8ddfa",
   "metadata": {},
   "source": [
    "## Class and Objects"
   ]
  },
  {
   "cell_type": "code",
   "execution_count": null,
   "id": "ffc77539",
   "metadata": {},
   "outputs": [
    {
     "name": "stdout",
     "output_type": "stream",
     "text": [
      "Electronics\n"
     ]
    }
   ],
   "source": [
    "class Phone:\n",
    "  catagory =\"Electronics\"\n",
    "\n",
    "apple = Phone()\n",
    "print(apple.catagory)\n",
    "\n"
   ]
  },
  {
   "cell_type": "code",
   "execution_count": 8,
   "id": "1819eb7c",
   "metadata": {},
   "outputs": [
    {
     "name": "stdout",
     "output_type": "stream",
     "text": [
      "Harmoniam\n"
     ]
    }
   ],
   "source": [
    "class Name:\n",
    "    piano =\"Rabeya\"\n",
    "\n",
    "mango= Name()\n",
    "mango.piano=\"Harmoniam\"\n",
    "\n",
    "print(mango.piano)"
   ]
  },
  {
   "cell_type": "code",
   "execution_count": 2,
   "id": "34f28c6a",
   "metadata": {},
   "outputs": [
    {
     "name": "stdout",
     "output_type": "stream",
     "text": [
      "<class '__main__.Phone'>\n",
      "Super Electronics\n",
      "Electronics\n",
      "Electronics\n"
     ]
    }
   ],
   "source": [
    "## creating object\n",
    "class Phone:\n",
    "  catagory =\"Electronics\"\n",
    "\n",
    "apple = Phone()\n",
    "print(type(apple))\n",
    "apple.catagory=\"Super Electronics\"\n",
    "blueberry=Phone()\n",
    "motorola=Phone()\n",
    "\n",
    "print(apple.catagory)\n",
    "print(blueberry.catagory)\n",
    "print(motorola.catagory)\n",
    "\n"
   ]
  },
  {
   "cell_type": "code",
   "execution_count": null,
   "id": "f5368065",
   "metadata": {},
   "outputs": [],
   "source": [
    "class Phone:\n",
    "  category =\"Electronics\"\n",
    "\n",
    "# constructor\n",
    " \n",
    "  def __init__ (self ,model,battery,camera):\n",
    "     self.model=model\n",
    "     self. battery=battery\n",
    "     self.camera=camera\n"
   ]
  },
  {
   "cell_type": "code",
   "execution_count": 15,
   "id": "962c2e08",
   "metadata": {},
   "outputs": [
    {
     "name": "stdout",
     "output_type": "stream",
     "text": [
      "35\n"
     ]
    }
   ],
   "source": [
    "apple=Phone(\"Iphone17\",3000,40)\n",
    "blueberry=Phone(\"B-17\",4000,30)\n",
    "motorola=Phone(\"M-17\",3500,35)\n",
    "\n",
    "print(motorola.camera)"
   ]
  },
  {
   "cell_type": "code",
   "execution_count": 33,
   "id": "6f76576d",
   "metadata": {},
   "outputs": [],
   "source": [
    "class Phone:\n",
    "  category =\"Electronics\"\n",
    "\n",
    "# constructor\n",
    " \n",
    "  def __init__ (self ,model,battery,camera,battery_percentage=100):\n",
    "     self.model=model\n",
    "     self. battery=battery\n",
    "     self.camera=camera\n",
    "     self.battery_percentage= battery_percentage\n",
    "\n",
    "# methods\n",
    "  def  charge(self,hour):\n",
    "    print(f\"charge comleted by {hour}\")\n",
    "\n",
    "  def capture(self,photo):\n",
    "    if(self.battery_percentage)<=0:\n",
    "      print(\"No charge\")\n",
    "    else:\n",
    "       self.battery_percentage-= photo\n",
    "       print(f\"photo captured in {self.model}\")\n",
    "      \n"
   ]
  },
  {
   "cell_type": "code",
   "execution_count": 34,
   "id": "5f01fc2f",
   "metadata": {},
   "outputs": [
    {
     "name": "stdout",
     "output_type": "stream",
     "text": [
      "photo captured in Iphone17\n",
      "90\n",
      "100\n"
     ]
    }
   ],
   "source": [
    "apple=Phone(\"Iphone17\",3000,40)\n",
    "blueberry=Phone(\"B-17\",4000,30)\n",
    "motorola=Phone(\"M-17\",3500,35)\n",
    "\n",
    "apple.capture(10)\n",
    "print(apple.battery_percentage)\n",
    "print(motorola.battery_percentage)\n"
   ]
  },
  {
   "cell_type": "code",
   "execution_count": 35,
   "id": "6875a2c4",
   "metadata": {},
   "outputs": [],
   "source": [
    "class Phone:\n",
    "    def __init__(self, model, battery, camera):\n",
    "        self.model = model\n",
    "        self.battery = battery\n",
    "        self.camera = camera\n",
    "# Child / derived class\n",
    "\n",
    "class SmartPhone(Phone):\n",
    "    def __init__(self, model, battery, camera, processor):\n",
    "        super().__init__(model, battery, camera)\n",
    "        self.processor = processor"
   ]
  },
  {
   "cell_type": "code",
   "execution_count": 38,
   "id": "d166eb41",
   "metadata": {},
   "outputs": [
    {
     "name": "stdout",
     "output_type": "stream",
     "text": [
      "X\n"
     ]
    }
   ],
   "source": [
    "pro = SmartPhone(\"X\",5000,100,\"SnapDragon\")\n",
    "print(pro.model)\n"
   ]
  },
  {
   "cell_type": "markdown",
   "id": "cea1d960",
   "metadata": {},
   "source": [
    "# Single Inheritance"
   ]
  },
  {
   "cell_type": "code",
   "execution_count": null,
   "id": "838c31fa",
   "metadata": {},
   "outputs": [
    {
     "name": "stdout",
     "output_type": "stream",
     "text": [
      "X\n",
      "fast charging in process\n",
      "Charging for 1 hour(s)...\n"
     ]
    }
   ],
   "source": [
    "class Phone:\n",
    "    def __init__(self, model, battery, camera):\n",
    "        self.model = model\n",
    "        self.battery = battery\n",
    "        self.camera = camera\n",
    "\n",
    "\n",
    "    def charge(self, hour):\n",
    "        print(f\"Charging for {hour} hour(s)...\")\n",
    "\n",
    "\n",
    "# Child / derived class\n",
    "class SmartPhone(Phone):\n",
    "    def __init__(self, model, battery, camera, processor):\n",
    "        super().__init__(model, battery, camera)\n",
    "        self.processor = processor\n",
    "\n",
    "    def charge(self,hour):\n",
    "        print(\"fast charging in process\")\n",
    "        super().charge(hour)\n",
    "\n",
    "pro = SmartPhone(\"X\",5000,100,\"SnapDragon\")\n",
    "print(pro.model)\n",
    "pro.charge(1)    "
   ]
  },
  {
   "cell_type": "markdown",
   "id": "7e3f047d",
   "metadata": {},
   "source": [
    "# Multiple Inheritance"
   ]
  },
  {
   "cell_type": "code",
   "execution_count": 16,
   "id": "9aac7c9e",
   "metadata": {},
   "outputs": [],
   "source": [
    "class Phone:\n",
    "  category = \"Electronics\"\n",
    "\n",
    "  # constructor\n",
    "  def __init__(self, model, battery, camera, battery_percentage=100):\n",
    "      self.model = model\n",
    "      self.battery = battery\n",
    "      self.camera = camera\n",
    "      self.battery_percentage = battery_percentage\n",
    "\n",
    "  # methods\n",
    "  def charge(self, hour):\n",
    "      print(f\"charge completed by {hour}\")\n",
    "\n",
    "  def capture(self, photo):\n",
    "      if self.battery_percentage <= 0:\n",
    "          print(\"No charge\")\n",
    "      else:\n",
    "          self.battery_percentage -= photo\n",
    "          print(f\"photo captured in {self.model}\")\n",
    "\n",
    "\n",
    "# Child / derived class\n",
    "class SmartPhone(Phone):\n",
    "    def __init__(self, model, battery, camera, processor):\n",
    "        super().__init__(model, battery, camera)\n",
    "        self.processor = processor\n",
    "\n",
    "    def charge(self, hour):\n",
    "        print(\"fast charging in process\")\n",
    "        super().charge(hour)\n",
    "\n",
    "\n",
    "class Cooling_Mechanism:\n",
    "    def __init__(self, cooling_method):\n",
    "        self.cooling_method = cooling_method\n",
    "\n",
    "    # methods \n",
    "    def cooling_on(self):\n",
    "        print(f\"the system is being cool by {self.cooling_method}\")"
   ]
  },
  {
   "cell_type": "code",
   "execution_count": 17,
   "id": "43657e1b",
   "metadata": {},
   "outputs": [],
   "source": [
    "class SmartPhone_CoolingMode(SmartPhone,Cooling_Mechanism):\n",
    "    def __init__(self, model, battery, camera, processor,cooling_method):\n",
    "        SmartPhone.__init__(self,model, battery, camera,processor)\n",
    "        Cooling_Mechanism.__init__(self,cooling_method)\n",
    "        \n",
    "    "
   ]
  },
  {
   "cell_type": "code",
   "execution_count": 18,
   "id": "52cede55",
   "metadata": {},
   "outputs": [
    {
     "name": "stdout",
     "output_type": "stream",
     "text": [
      "SD\n",
      "5000\n",
      "Nitrogen\n",
      "the system is being cool by Nitrogen\n",
      "None\n",
      "fast charging in process\n",
      "charge completed by 1\n",
      "None\n"
     ]
    }
   ],
   "source": [
    "pro_cooling=SmartPhone_CoolingMode(\"Y\",5000,100,\"SD\",\"Nitrogen\")\n",
    "\n",
    "print(pro_cooling.processor)#smartPhone class theke\n",
    "print(pro_cooling.battery)# Phone class theke\n",
    "print(pro_cooling.cooling_method)#Cooling_Mechanism class Ctheke\n",
    "print(pro_cooling.cooling_on())  #Cooling_Mechanism class er method\n",
    "print(pro_cooling.charge(1))# SmartPhone er modified charge jeta Phone class theke inherited\n",
    "\n"
   ]
  },
  {
   "cell_type": "markdown",
   "id": "ae3c8c3a",
   "metadata": {},
   "source": [
    "## Polymorphsim"
   ]
  },
  {
   "cell_type": "code",
   "execution_count": null,
   "id": "5e34b1b6",
   "metadata": {},
   "outputs": [],
   "source": [
    "class Camera:\n",
    "    def __init__(self,name):\n",
    "        self.name=name\n",
    "\n",
    "    #method\n",
    "    def capture(self):\n",
    "        print(\"a photo is captured\")   "
   ]
  },
  {
   "cell_type": "code",
   "execution_count": 24,
   "id": "b4c90aaf",
   "metadata": {},
   "outputs": [
    {
     "name": "stdout",
     "output_type": "stream",
     "text": [
      "Photo is captured by a Phone\n",
      "Photo is captured by a DSLR\n",
      "Photo is captured by a Drone\n"
     ]
    }
   ],
   "source": [
    "class Smart_Phone(Camera):\n",
    "    def __init__(self, name,resolution):\n",
    "        super().__init__(name)\n",
    "        self.resolution=resolution\n",
    "\n",
    "    # method overriding\n",
    "    def capture(self):\n",
    "        print(\"Photo is captured by a Phone\")   \n",
    "\n",
    "\n",
    "\n",
    "class DSLR(Camera):\n",
    "    def __init__(self, name,resolution):\n",
    "        super().__init__(name)\n",
    "        self.resolution=resolution\n",
    "\n",
    "    # method overriding\n",
    "    def capture(self):\n",
    "        print(\"Photo is captured by a DSLR\")      \n",
    "\n",
    "class Drone(Camera):\n",
    "    def __init__(self, name,resolution):\n",
    "        super().__init__(name)\n",
    "        self.resolution=resolution\n",
    "\n",
    "\n",
    "    # method overriding\n",
    "    def capture(self):\n",
    "        print(\"Photo is captured by a Drone\")      \n",
    "\n",
    "\n",
    "phone=Smart_Phone(\"Phone\",30)\n",
    "dslr=DSLR(\"DSLR\",200)\n",
    "drone=Drone(\"Drone\",150)\n",
    "\n",
    "phone.capture()\n",
    "dslr.capture()\n",
    "drone.capture()\n",
    "\n",
    "\n"
   ]
  },
  {
   "cell_type": "markdown",
   "id": "d920d130",
   "metadata": {},
   "source": [
    "## Encapsulation"
   ]
  },
  {
   "cell_type": "code",
   "execution_count": 32,
   "id": "e0bf8a8a",
   "metadata": {},
   "outputs": [
    {
     "name": "stdout",
     "output_type": "stream",
     "text": [
      "Phone\n",
      "17\n",
      "1xkaf1\n",
      "Ph\n",
      "123\n"
     ]
    }
   ],
   "source": [
    "class Mobile:\n",
    "    def __init__(self,name,model,imei): # every phone a alatha enternal method thake . jar madhome phone k sonakto kora jay                                 \n",
    "        self.name=name\n",
    "        self.model=model\n",
    "        self.imei=imei\n",
    "iphone =Mobile(\"Phone\",\"17\",\"1xkaf1\")\n",
    "\n",
    "print(iphone.name)\n",
    "print(iphone.model) \n",
    "print(iphone.imei) \n",
    "\n",
    "iphone.name=\"Ph\"\n",
    "print(iphone.name)\n",
    "\n",
    "iphone.imei=\"123\" \n",
    "print(iphone.imei)"
   ]
  },
  {
   "cell_type": "code",
   "execution_count": 36,
   "id": "a1879d4e",
   "metadata": {},
   "outputs": [
    {
     "name": "stdout",
     "output_type": "stream",
     "text": [
      "Phone\n",
      "17\n",
      "1xkaf1\n",
      "1xkaf1\n"
     ]
    }
   ],
   "source": [
    "class Mobile:\n",
    "    def __init__(self,name,model,imei): # every phone a alatha enternal method thake . jar madhome phone k sonakto kora jay                                 \n",
    "        self.name=name\n",
    "        self.model=model\n",
    "        self.__imei=imei # imei er age 2 ta __ 4dile ata private hoa jabe\n",
    "\n",
    "    def charge(self):\n",
    "        print(\"phone is charging\")\n",
    "\n",
    "    def imei_getter(self):\n",
    "        return self.__imei\n",
    "\n",
    "\n",
    "iphone =Mobile(\"Phone\",\"17\",\"1xkaf1\")\n",
    "\n",
    "print(iphone.name)\n",
    "print(iphone.model) \n",
    "print(iphone.imei_getter()) \n",
    "\n",
    "\n",
    "iphone.imei=\"123\" \n",
    "print(iphone.imei_getter())# privet . so no change"
   ]
  },
  {
   "cell_type": "code",
   "execution_count": 38,
   "id": "caefdb02",
   "metadata": {},
   "outputs": [
    {
     "name": "stdout",
     "output_type": "stream",
     "text": [
      "Phone\n",
      "Rabeya\n"
     ]
    }
   ],
   "source": [
    "# degign\n",
    "class Mobile:\n",
    "    def __init__(self,name,model,imei):\n",
    "                                        \n",
    "        self.__name=name # private\n",
    "        self.__model=model #private\n",
    "        self.__imei=imei # imei er age 2 ta __ 4dile ata private hoa jabe\n",
    "\n",
    "    def charge(self):\n",
    "        print(\"phone is charging\")\n",
    "\n",
    "    def imei_getter(self):\n",
    "        return self.__imei\n",
    "    \n",
    "    def model_getter(self):\n",
    "        return self.__model\n",
    "\n",
    "    def name_getter(self):\n",
    "        return self.__name \n",
    "\n",
    "    def name_setter(self,name):\n",
    "        self.__name=name   \n",
    "    \n",
    "\n",
    "\n",
    "    # outside world (user)\n",
    "\n",
    "    #ragistration\n",
    "iphone =Mobile(\"Phone\",\"17\",\"1xkaf1\")\n",
    "\n",
    "print(iphone.name_getter())\n",
    "iphone.name_setter(\"Rabeya\")\n",
    "print(iphone.name_getter())\n"
   ]
  },
  {
   "cell_type": "markdown",
   "id": "67900a0f",
   "metadata": {},
   "source": [
    "# Abstraction"
   ]
  },
  {
   "cell_type": "code",
   "execution_count": 44,
   "id": "2f9f1d77",
   "metadata": {},
   "outputs": [],
   "source": [
    "from abc import ABC, abstractmethod\n",
    "\n",
    "class Telephone(ABC):\n",
    "    def make_call(self):\n",
    "        print(\"Making a call\")\n",
    "\n",
    "    @abstractmethod\n",
    "    def make_call(self):  \n",
    "        pass  \n",
    "\n",
    "       \n",
    "\n",
    "\n",
    "class Sphone(Telephone):\n",
    "    def make_call(self):\n",
    "        print(\"Makeing a cell using SPhone\")\n",
    "\n",
    "class Iphone(Telephone):\n",
    "    def make_call(self):\n",
    "        print(\"Making a call using IPhone\")"
   ]
  },
  {
   "cell_type": "code",
   "execution_count": 45,
   "id": "5d93a69b",
   "metadata": {},
   "outputs": [
    {
     "name": "stdout",
     "output_type": "stream",
     "text": [
      "Making a call using IPhone\n"
     ]
    }
   ],
   "source": [
    "ip=Iphone()\n",
    "ip.make_call()"
   ]
  },
  {
   "cell_type": "code",
   "execution_count": null,
   "id": "d5b00535",
   "metadata": {},
   "outputs": [],
   "source": []
  },
  {
   "cell_type": "code",
   "execution_count": 22,
   "id": "f8592750",
   "metadata": {},
   "outputs": [
    {
     "name": "stdout",
     "output_type": "stream",
     "text": [
      "Rafi\n"
     ]
    }
   ],
   "source": [
    "class Student:\n",
    "    def __init__(self, name):\n",
    "        self.name = name\n",
    "\n",
    "s = Student(\"Rafi\")\n",
    "print(s.name)\n"
   ]
  },
  {
   "cell_type": "code",
   "execution_count": null,
   "id": "c4a16387",
   "metadata": {},
   "outputs": [],
   "source": []
  },
  {
   "cell_type": "code",
   "execution_count": null,
   "id": "c497e092",
   "metadata": {},
   "outputs": [],
   "source": []
  }
 ],
 "metadata": {
  "kernelspec": {
   "display_name": "Python 3",
   "language": "python",
   "name": "python3"
  },
  "language_info": {
   "codemirror_mode": {
    "name": "ipython",
    "version": 3
   },
   "file_extension": ".py",
   "mimetype": "text/x-python",
   "name": "python",
   "nbconvert_exporter": "python",
   "pygments_lexer": "ipython3",
   "version": "3.12.3"
  }
 },
 "nbformat": 4,
 "nbformat_minor": 5
}
