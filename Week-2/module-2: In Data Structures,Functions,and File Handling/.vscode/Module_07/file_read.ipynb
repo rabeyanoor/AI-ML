{
 "cells": [
  {
   "cell_type": "code",
   "execution_count": 15,
   "id": "88d2bfa2",
   "metadata": {},
   "outputs": [
    {
     "name": "stdout",
     "output_type": "stream",
     "text": [
      "Hello world\n",
      "welcome to the AI/ML with Phithon\n",
      "<class 'str'>\n"
     ]
    }
   ],
   "source": [
    "file = open(\"./sample_data/sample.text\",\"r\")\n",
    "\n",
    "content=file.read()\n",
    "print(content)\n",
    "print(type(content))"
   ]
  },
  {
   "cell_type": "code",
   "execution_count": 16,
   "id": "cb5d9559",
   "metadata": {},
   "outputs": [
    {
     "name": "stdout",
     "output_type": "stream",
     "text": [
      "['Hello world\\n', 'welcome to the AI/ML with Phithon']\n",
      "False\n",
      "True\n"
     ]
    }
   ],
   "source": [
    "file = open(\"./sample_data/sample.text\",\"r\")\n",
    "\n",
    "content=file.readlines()\n",
    "print(content)\n",
    "print(file.closed)# close  hoy nay\n",
    "file.close()\n",
    "print(file.closed) # close hoyse"
   ]
  },
  {
   "cell_type": "code",
   "execution_count": 37,
   "id": "acb5dff3",
   "metadata": {},
   "outputs": [
    {
     "name": "stdout",
     "output_type": "stream",
     "text": [
      "['Hello world', 'welcome to the AI/ML with Phithon']\n"
     ]
    }
   ],
   "source": [
    "file = open(\"./sample_data/sample.text\",\"r\")\n",
    "\n",
    "content=file.readlines()\n",
    "content=list(map(str.strip,content))\n",
    "print(content)"
   ]
  },
  {
   "cell_type": "code",
   "execution_count": 40,
   "id": "113f2d9e",
   "metadata": {},
   "outputs": [
    {
     "name": "stdout",
     "output_type": "stream",
     "text": [
      "<filter object at 0x73188250f250>\n",
      "['Hello world', 'welcome to the AI/ML with Phithon']\n"
     ]
    }
   ],
   "source": [
    "file = open(\"./sample_data/sample.text\",\"r\")\n",
    "\n",
    "content=file.readlines()\n",
    "content=list(map(str.strip,content))\n",
    "filter_content=filter(lambda x: len(x)>0,content)\n",
    "print(filter_content)\n",
    "\n",
    "filter_content=list(filter(lambda x: len(x)>0,content))\n",
    "print(filter_content)"
   ]
  },
  {
   "cell_type": "code",
   "execution_count": 17,
   "id": "2628f135",
   "metadata": {},
   "outputs": [
    {
     "name": "stdout",
     "output_type": "stream",
     "text": [
      "['Hello world\\n', 'welcome to the AI/ML with Phithon']\n",
      "True\n"
     ]
    }
   ],
   "source": [
    "with open(\"./sample_data/sample.text\",\"r\") as file:\n",
    "    content=file.readlines()\n",
    "    print(content)\n",
    "\n",
    "print(file.closed)"
   ]
  },
  {
   "cell_type": "code",
   "execution_count": 19,
   "id": "37950ffe",
   "metadata": {},
   "outputs": [
    {
     "name": "stdout",
     "output_type": "stream",
     "text": [
      "Hello world\n",
      "\n",
      "welcome to the AI/ML with Phithon\n"
     ]
    }
   ],
   "source": [
    "with open(\"./sample_data/sample.text\",\"r\") as file:\n",
    "    for line in file:\n",
    "       print(line)\n"
   ]
  },
  {
   "cell_type": "code",
   "execution_count": 20,
   "id": "27b46128",
   "metadata": {},
   "outputs": [
    {
     "name": "stdout",
     "output_type": "stream",
     "text": [
      "Hello world\n",
      "welcome to the AI/ML with Phithon"
     ]
    }
   ],
   "source": [
    "with open(\"./sample_data/sample.text\",\"r\") as file:\n",
    "    for line in file:\n",
    "       print(line,end=\"\")\n"
   ]
  },
  {
   "cell_type": "code",
   "execution_count": 23,
   "id": "491ee51d",
   "metadata": {},
   "outputs": [
    {
     "name": "stdout",
     "output_type": "stream",
     "text": [
      "welcome to the AI/ML with Phithon\n"
     ]
    }
   ],
   "source": [
    "with open(\"./sample_data/sample.text\",\"r\") as file:\n",
    "    for line in file:\n",
    "       l=line.strip()\n",
    "    print(l)   \n"
   ]
  },
  {
   "cell_type": "markdown",
   "id": "0c78c121",
   "metadata": {},
   "source": [
    "## Flie Write"
   ]
  },
  {
   "cell_type": "code",
   "execution_count": 25,
   "id": "6424fcd6",
   "metadata": {},
   "outputs": [],
   "source": [
    "# creating a new file and writing there\n",
    "with open(\"./sample_data/test.txt\",\"w\") as file :\n",
    "    file.write(\"Hello test file\\n\")\n",
    "    file.write(\"How is learning going on ?\")"
   ]
  },
  {
   "cell_type": "code",
   "execution_count": 35,
   "id": "0d3f6da8",
   "metadata": {},
   "outputs": [],
   "source": [
    "# writing on a existing file\n",
    "# it overwrites the file\n",
    "\n",
    "with open(\"./sample_data/test.txt\",\"w\") as file :\n",
    "    file.write(\"Second attempt\\n\")\n",
    "    file.write(\"learning is going fast.\\n\")"
   ]
  },
  {
   "cell_type": "code",
   "execution_count": null,
   "id": "71a4b0f6",
   "metadata": {},
   "outputs": [],
   "source": [
    "# No overwriting just append the text later append mode\n",
    "\n",
    "with open(\"./sample_data/test.txt\",\"a\") as file :\n",
    "    file.write(\"The learning of AI/ML is fun\\n\")\n",
    "    file.write(\"I am enjoying the classes\")\n"
   ]
  },
  {
   "cell_type": "code",
   "execution_count": 43,
   "id": "32c8d6c3",
   "metadata": {},
   "outputs": [],
   "source": [
    "strings=['hello','hi','good bye','what up']\n",
    "\n",
    "with open(\"./sample_data/test_2.txt\",\"a\") as file :\n",
    "    file.writelines(strings)\n",
    "   \n"
   ]
  },
  {
   "cell_type": "markdown",
   "id": "2ee8766f",
   "metadata": {},
   "source": [
    "## File pointer"
   ]
  },
  {
   "cell_type": "markdown",
   "id": "830e7684",
   "metadata": {},
   "source": [
    "# tell"
   ]
  },
  {
   "cell_type": "code",
   "execution_count": null,
   "id": "67ae9321",
   "metadata": {},
   "outputs": [
    {
     "name": "stdout",
     "output_type": "stream",
     "text": [
      "0\n",
      "Hello world\n",
      "welcome to the AI/ML with Phithon\n",
      "45\n",
      "\n"
     ]
    }
   ],
   "source": [
    "with open(\"./sample_data/sample.text\",\"r\") as file :\n",
    "\n",
    "    print(file.tell()) # currently cursor koi ase\n",
    "    print(file.read())\n",
    "    print(file.tell())\n",
    "\n",
    "    ## last index theke pora shuru korsi\n",
    "    print(file.read())\n",
    "   \n",
    "   \n",
    "\n"
   ]
  },
  {
   "cell_type": "code",
   "execution_count": 59,
   "id": "c0c799e7",
   "metadata": {},
   "outputs": [
    {
     "name": "stdout",
     "output_type": "stream",
     "text": [
      "0\n",
      "Hello\n",
      "5\n",
      " world\n",
      "welcome to the AI/ML with Phithon\n",
      "45\n"
     ]
    }
   ],
   "source": [
    "with open(\"./sample_data/sample.text\",\"r\") as file :\n",
    "\n",
    "    print(file.tell())\n",
    "    print(file.read(5))\n",
    "    print(file.tell())#5 number a cursor ta ase\n",
    "    print(file.read())\n",
    "    print(file.tell())\n",
    "\n",
    "\n"
   ]
  }
 ],
 "metadata": {
  "kernelspec": {
   "display_name": "Python 3",
   "language": "python",
   "name": "python3"
  },
  "language_info": {
   "codemirror_mode": {
    "name": "ipython",
    "version": 3
   },
   "file_extension": ".py",
   "mimetype": "text/x-python",
   "name": "python",
   "nbconvert_exporter": "python",
   "pygments_lexer": "ipython3",
   "version": "3.12.3"
  }
 },
 "nbformat": 4,
 "nbformat_minor": 5
}
