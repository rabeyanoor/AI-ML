{
 "cells": [
  {
   "cell_type": "code",
   "execution_count": 15,
   "id": "88d2bfa2",
   "metadata": {},
   "outputs": [
    {
     "name": "stdout",
     "output_type": "stream",
     "text": [
      "Hello world\n",
      "welcome to the AI/ML with Phithon\n",
      "<class 'str'>\n"
     ]
    }
   ],
   "source": [
    "file = open(\"./sample_data/sample.text\",\"r\")\n",
    "\n",
    "content=file.read()\n",
    "print(content)\n",
    "print(type(content))"
   ]
  },
  {
   "cell_type": "code",
   "execution_count": 16,
   "id": "cb5d9559",
   "metadata": {},
   "outputs": [
    {
     "name": "stdout",
     "output_type": "stream",
     "text": [
      "['Hello world\\n', 'welcome to the AI/ML with Phithon']\n",
      "False\n",
      "True\n"
     ]
    }
   ],
   "source": [
    "file = open(\"./sample_data/sample.text\",\"r\")\n",
    "\n",
    "content=file.readlines()\n",
    "print(content)\n",
    "print(file.closed)# close  hoy nay\n",
    "file.close()\n",
    "print(file.closed) # close hoyse"
   ]
  },
  {
   "cell_type": "code",
   "execution_count": 37,
   "id": "acb5dff3",
   "metadata": {},
   "outputs": [
    {
     "name": "stdout",
     "output_type": "stream",
     "text": [
      "['Hello world', 'welcome to the AI/ML with Phithon']\n"
     ]
    }
   ],
   "source": [
    "file = open(\"./sample_data/sample.text\",\"r\")\n",
    "\n",
    "content=file.readlines()\n",
    "content=list(map(str.strip,content))\n",
    "print(content)"
   ]
  },
  {
   "cell_type": "code",
   "execution_count": 40,
   "id": "113f2d9e",
   "metadata": {},
   "outputs": [
    {
     "name": "stdout",
     "output_type": "stream",
     "text": [
      "<filter object at 0x73188250f250>\n",
      "['Hello world', 'welcome to the AI/ML with Phithon']\n"
     ]
    }
   ],
   "source": [
    "file = open(\"./sample_data/sample.text\",\"r\")\n",
    "\n",
    "content=file.readlines()\n",
    "content=list(map(str.strip,content))\n",
    "filter_content=filter(lambda x: len(x)>0,content)\n",
    "print(filter_content)\n",
    "\n",
    "filter_content=list(filter(lambda x: len(x)>0,content))\n",
    "print(filter_content)"
   ]
  },
  {
   "cell_type": "code",
   "execution_count": 17,
   "id": "2628f135",
   "metadata": {},
   "outputs": [
    {
     "name": "stdout",
     "output_type": "stream",
     "text": [
      "['Hello world\\n', 'welcome to the AI/ML with Phithon']\n",
      "True\n"
     ]
    }
   ],
   "source": [
    "with open(\"./sample_data/sample.text\",\"r\") as file:\n",
    "    content=file.readlines()\n",
    "    print(content)\n",
    "\n",
    "print(file.closed)"
   ]
  },
  {
   "cell_type": "code",
   "execution_count": 19,
   "id": "37950ffe",
   "metadata": {},
   "outputs": [
    {
     "name": "stdout",
     "output_type": "stream",
     "text": [
      "Hello world\n",
      "\n",
      "welcome to the AI/ML with Phithon\n"
     ]
    }
   ],
   "source": [
    "with open(\"./sample_data/sample.text\",\"r\") as file:\n",
    "    for line in file:\n",
    "       print(line)\n"
   ]
  },
  {
   "cell_type": "code",
   "execution_count": 20,
   "id": "27b46128",
   "metadata": {},
   "outputs": [
    {
     "name": "stdout",
     "output_type": "stream",
     "text": [
      "Hello world\n",
      "welcome to the AI/ML with Phithon"
     ]
    }
   ],
   "source": [
    "with open(\"./sample_data/sample.text\",\"r\") as file:\n",
    "    for line in file:\n",
    "       print(line,end=\"\")\n"
   ]
  },
  {
   "cell_type": "code",
   "execution_count": 23,
   "id": "491ee51d",
   "metadata": {},
   "outputs": [
    {
     "name": "stdout",
     "output_type": "stream",
     "text": [
      "welcome to the AI/ML with Phithon\n"
     ]
    }
   ],
   "source": [
    "with open(\"./sample_data/sample.text\",\"r\") as file:\n",
    "    for line in file:\n",
    "       l=line.strip()\n",
    "    print(l)   \n"
   ]
  },
  {
   "cell_type": "markdown",
   "id": "0c78c121",
   "metadata": {},
   "source": [
    "## Flie Write"
   ]
  },
  {
   "cell_type": "code",
   "execution_count": 1,
   "id": "6424fcd6",
   "metadata": {},
   "outputs": [],
   "source": [
    "# creating a new file and writing there\n",
    "with open(\"./sample_data/test.txt\",\"w\") as file :\n",
    "    file.write(\"Hello test file\\n\")\n",
    "    file.write(\"How is learning going on ?\")"
   ]
  },
  {
   "cell_type": "code",
   "execution_count": 35,
   "id": "0d3f6da8",
   "metadata": {},
   "outputs": [],
   "source": [
    "# writing on a existing file\n",
    "# it overwrites the file\n",
    "\n",
    "with open(\"./sample_data/test.txt\",\"w\") as file :\n",
    "    file.write(\"Second attempt\\n\")\n",
    "    file.write(\"learning is going fast.\\n\")"
   ]
  },
  {
   "cell_type": "code",
   "execution_count": null,
   "id": "71a4b0f6",
   "metadata": {},
   "outputs": [],
   "source": [
    "# No overwriting just append the text later append mode\n",
    "\n",
    "with open(\"./sample_data/test.txt\",\"a\") as file :\n",
    "    file.write(\"The learning of AI/ML is fun\\n\")\n",
    "    file.write(\"I am enjoying the classes\")\n"
   ]
  },
  {
   "cell_type": "code",
   "execution_count": 43,
   "id": "32c8d6c3",
   "metadata": {},
   "outputs": [],
   "source": [
    "strings=['hello','hi','good bye','what up']\n",
    "\n",
    "with open(\"./sample_data/test_2.txt\",\"a\") as file :\n",
    "    file.writelines(strings)\n",
    "   \n"
   ]
  },
  {
   "cell_type": "markdown",
   "id": "2ee8766f",
   "metadata": {},
   "source": [
    "## File pointer"
   ]
  },
  {
   "cell_type": "markdown",
   "id": "830e7684",
   "metadata": {},
   "source": [
    "# tell"
   ]
  },
  {
   "cell_type": "code",
   "execution_count": null,
   "id": "67ae9321",
   "metadata": {},
   "outputs": [
    {
     "name": "stdout",
     "output_type": "stream",
     "text": [
      "0\n",
      "Hello world\n",
      "welcome to the AI/ML with Phithon\n",
      "45\n",
      "\n"
     ]
    }
   ],
   "source": [
    "with open(\"./sample_data/sample.text\",\"r\") as file :\n",
    "\n",
    "    print(file.tell()) # currently cursor koi ase\n",
    "    print(file.read())\n",
    "    print(file.tell())\n",
    "\n",
    "    ## last index theke pora shuru korsi\n",
    "    print(file.read())\n",
    "   \n",
    "   \n",
    "\n"
   ]
  },
  {
   "cell_type": "code",
   "execution_count": 59,
   "id": "c0c799e7",
   "metadata": {},
   "outputs": [
    {
     "name": "stdout",
     "output_type": "stream",
     "text": [
      "0\n",
      "Hello\n",
      "5\n",
      " world\n",
      "welcome to the AI/ML with Phithon\n",
      "45\n"
     ]
    }
   ],
   "source": [
    "with open(\"./sample_data/sample.text\",\"r\") as file :\n",
    "\n",
    "    print(file.tell())\n",
    "    print(file.read(5))\n",
    "    print(file.tell())#5 number a cursor ta ase\n",
    "    print(file.read())\n",
    "    print(file.tell())\n",
    "\n",
    "\n"
   ]
  },
  {
   "cell_type": "markdown",
   "id": "596c4041",
   "metadata": {},
   "source": [
    "# seek"
   ]
  },
  {
   "cell_type": "code",
   "execution_count": null,
   "id": "0d8652fb",
   "metadata": {},
   "outputs": [
    {
     "name": "stdout",
     "output_type": "stream",
     "text": [
      "0\n",
      "Hello\n",
      "5\n",
      "0\n",
      "Hello\n"
     ]
    }
   ],
   "source": [
    "with open(\"./sample_data/sample.text\",\"r\") as file :\n",
    "     print(file.tell())# prothom a ase . tai 0\n",
    "     print(file.read(5)) # 5 gor porjonto porse . er pore hello print korse\n",
    "     print(file.tell()) # cursor akhon 5 number gore ase\n",
    "\n",
    "     file.seek(0) # seek akhon cursor 5 number gor theke 0 number gore nia gese\n",
    "     print(file.tell())# 0 number gore ace tai 0 print korse\n",
    "     print(file.read(5))# aber 5 number gor porjonto porse\n",
    "\n",
    "    ## read() all time  front a jabe but back a jabe na...... seek()  fornt a o jabe and back a o jabe\n",
    "\n",
    "    \n"
   ]
  },
  {
   "cell_type": "markdown",
   "id": "78b9ddca",
   "metadata": {},
   "source": [
    "## Practice"
   ]
  },
  {
   "cell_type": "code",
   "execution_count": null,
   "id": "0adb49cf",
   "metadata": {},
   "outputs": [
    {
     "name": "stdout",
     "output_type": "stream",
     "text": [
      "Hello world\n",
      "welcome to the AI/ML with Phithon\n",
      "[]\n"
     ]
    }
   ],
   "source": [
    "with open(\"./sample_data/sample.text\",\"r\") as file:\n",
    "    strings =file.read()\n",
    "\n",
    "    print(strings)\n"
   ]
  },
  {
   "cell_type": "code",
   "execution_count": null,
   "id": "1dddb2ab",
   "metadata": {},
   "outputs": [
    {
     "name": "stdout",
     "output_type": "stream",
     "text": [
      "['Hello world\\n', 'welcome to the AI/ML with Phithon']\n",
      "2\n",
      "[2, 6]\n",
      "8\n",
      "['Hello world', 'welcome to the AI/ML with Phithon']\n",
      "['Helloworld', 'welcometotheAI/MLwithPhithon']\n",
      "[10, 28]\n",
      "38\n"
     ]
    }
   ],
   "source": [
    "#   ei line ta total_numbers_of_words   er jonno\n",
    "from functools import reduce\n",
    "\n",
    "\n",
    "with open(\"./sample_data/sample.text\",\"r\") as file:\n",
    "    strings =file.readlines()\n",
    "\n",
    "    print(strings)\n",
    "\n",
    "# total line koita\n",
    "    total_lines=len(strings)\n",
    "    print(total_lines)\n",
    "\n",
    "    # word ber koro\n",
    "    number_of_words=list(map(lambda x: len(x.split()),strings))\n",
    "    print(number_of_words)\n",
    "\n",
    "\n",
    "# total words\n",
    "total_numbers_of_words= reduce(lambda x,y : x+y,number_of_words)\n",
    "print(total_numbers_of_words)\n",
    "\n",
    "\n",
    "#cleaning  process\n",
    "\n",
    "# 1. new line process\n",
    "strings = list(map(str.strip, strings))\n",
    "print(strings)\n",
    "\n",
    "#2. space delete\n",
    "strings=list(map(lambda x: x.replace(\" \",\"\"),strings))\n",
    "print(strings)\n",
    "\n",
    "\n",
    "#koita character\n",
    "number_of_character=list(map(lambda x: len(x),strings))\n",
    "print(number_of_character)\n",
    "\n",
    "# total character\n",
    "total_numbers_of_character = reduce(lambda x,y : x+y , number_of_character)\n",
    "print(total_numbers_of_character)\n",
    "\n",
    "\n",
    " \n",
    "with open (\"./sample_data/counter_of_string.txt\",\"w\") as file:\n",
    "    file.write(f\"total line: {total_lines}\\n total number of word:{total_numbers_of_words}\\n total number of char:{total_numbers_of_character}\")\n",
    "\n",
    "    \n",
    "\n"
   ]
  },
  {
   "cell_type": "markdown",
   "id": "3aeb09f2",
   "metadata": {},
   "source": [
    "# Practice--2"
   ]
  },
  {
   "cell_type": "code",
   "execution_count": 12,
   "id": "18f93820",
   "metadata": {},
   "outputs": [
    {
     "name": "stdout",
     "output_type": "stream",
     "text": [
      "11\n",
      "0\n",
      "Hello world\n",
      "Hello\n"
     ]
    }
   ],
   "source": [
    "with open(\"./sample_data/write_read.txt\",\"w+\") as file:\n",
    "    file.write(\"Hello world\")\n",
    "\n",
    "    print(file.tell())\n",
    "\n",
    "    file.seek(0)\n",
    "    print(file.tell())\n",
    "\n",
    "    print(file.read())\n",
    "\n",
    "    file.truncate(5) #5 er pore all file delete kore dibe mail (write_read.txt) file theke \n",
    "    file.seek(0)\n",
    "    print(file.read())\n",
    "  "
   ]
  },
  {
   "cell_type": "markdown",
   "id": "79a37920",
   "metadata": {},
   "source": [
    "# Exception Handling"
   ]
  },
  {
   "cell_type": "code",
   "execution_count": 13,
   "id": "f4950309",
   "metadata": {},
   "outputs": [
    {
     "ename": "ZeroDivisionError",
     "evalue": "division by zero",
     "output_type": "error",
     "traceback": [
      "\u001b[0;31m---------------------------------------------------------------------------\u001b[0m",
      "\u001b[0;31mZeroDivisionError\u001b[0m                         Traceback (most recent call last)",
      "Cell \u001b[0;32mIn[13], line 1\u001b[0m\n\u001b[0;32m----> 1\u001b[0m a\u001b[38;5;241m=\u001b[39m\u001b[38;5;241;43m10\u001b[39;49m\u001b[38;5;241;43m/\u001b[39;49m\u001b[38;5;241;43m0\u001b[39;49m\n\u001b[1;32m      2\u001b[0m \u001b[38;5;28mprint\u001b[39m(\u001b[38;5;124m\"\u001b[39m\u001b[38;5;124mHello world\u001b[39m\u001b[38;5;124m\"\u001b[39m)\n",
      "\u001b[0;31mZeroDivisionError\u001b[0m: division by zero"
     ]
    }
   ],
   "source": [
    "a=10/0\n",
    "print(\"Hello world\")"
   ]
  },
  {
   "cell_type": "code",
   "execution_count": 15,
   "id": "75c3122f",
   "metadata": {},
   "outputs": [
    {
     "name": "stdout",
     "output_type": "stream",
     "text": [
      "you can't divide a number by 0\n",
      "hello world\n"
     ]
    }
   ],
   "source": [
    "n=int(input())\n",
    "\n",
    "try:\n",
    "    a=10/0\n",
    "except  ZeroDivisionError:\n",
    "    print(\"you can't divide a number by 0\") \n",
    "print(\"hello world\")      "
   ]
  },
  {
   "cell_type": "code",
   "execution_count": 16,
   "id": "cb6790a7",
   "metadata": {},
   "outputs": [
    {
     "ename": "NameError",
     "evalue": "name 'y' is not defined",
     "output_type": "error",
     "traceback": [
      "\u001b[0;31m---------------------------------------------------------------------------\u001b[0m",
      "\u001b[0;31mNameError\u001b[0m                                 Traceback (most recent call last)",
      "Cell \u001b[0;32mIn[16], line 1\u001b[0m\n\u001b[0;32m----> 1\u001b[0m x\u001b[38;5;241m=\u001b[39m\u001b[43my\u001b[49m\n\u001b[1;32m      2\u001b[0m \u001b[38;5;28mprint\u001b[39m(\u001b[38;5;124m\"\u001b[39m\u001b[38;5;124mhello world\u001b[39m\u001b[38;5;124m\"\u001b[39m)\n",
      "\u001b[0;31mNameError\u001b[0m: name 'y' is not defined"
     ]
    }
   ],
   "source": [
    "x=y\n",
    "print(\"hello world\")"
   ]
  },
  {
   "cell_type": "code",
   "execution_count": 19,
   "id": "42a7d27c",
   "metadata": {},
   "outputs": [
    {
     "name": "stdout",
     "output_type": "stream",
     "text": [
      "name 'y' is not defined\n"
     ]
    }
   ],
   "source": [
    "try:\n",
    "    x=y\n",
    "except  ZeroDivisionError:\n",
    "    print(\"you can't divide a number by 0\") \n",
    "except NameError as neee:       \n",
    "    print(neee)"
   ]
  },
  {
   "cell_type": "code",
   "execution_count": 24,
   "id": "e4dcb35f",
   "metadata": {},
   "outputs": [
    {
     "ename": "FileNotFoundError",
     "evalue": "[Errno 2] No such file or directory: './sample_data/data1.txt'",
     "output_type": "error",
     "traceback": [
      "\u001b[0;31m---------------------------------------------------------------------------\u001b[0m",
      "\u001b[0;31mFileNotFoundError\u001b[0m                         Traceback (most recent call last)",
      "Cell \u001b[0;32mIn[24], line 2\u001b[0m\n\u001b[1;32m      1\u001b[0m \u001b[38;5;66;03m# model train\u001b[39;00m\n\u001b[0;32m----> 2\u001b[0m file \u001b[38;5;241m=\u001b[39m \u001b[38;5;28;43mopen\u001b[39;49m\u001b[43m(\u001b[49m\u001b[38;5;124;43m\"\u001b[39;49m\u001b[38;5;124;43m./sample_data/data1.txt\u001b[39;49m\u001b[38;5;124;43m\"\u001b[39;49m\u001b[43m,\u001b[49m\u001b[38;5;124;43m\"\u001b[39;49m\u001b[38;5;124;43mr\u001b[39;49m\u001b[38;5;124;43m\"\u001b[39;49m\u001b[43m)\u001b[49m\n\u001b[1;32m      3\u001b[0m file\u001b[38;5;241m.\u001b[39mread()\n",
      "File \u001b[0;32m/usr/lib/python3/dist-packages/IPython/core/interactiveshell.py:310\u001b[0m, in \u001b[0;36m_modified_open\u001b[0;34m(file, *args, **kwargs)\u001b[0m\n\u001b[1;32m    303\u001b[0m \u001b[38;5;28;01mif\u001b[39;00m file \u001b[38;5;129;01min\u001b[39;00m {\u001b[38;5;241m0\u001b[39m, \u001b[38;5;241m1\u001b[39m, \u001b[38;5;241m2\u001b[39m}:\n\u001b[1;32m    304\u001b[0m     \u001b[38;5;28;01mraise\u001b[39;00m \u001b[38;5;167;01mValueError\u001b[39;00m(\n\u001b[1;32m    305\u001b[0m         \u001b[38;5;124mf\u001b[39m\u001b[38;5;124m\"\u001b[39m\u001b[38;5;124mIPython won\u001b[39m\u001b[38;5;124m'\u001b[39m\u001b[38;5;124mt let you open fd=\u001b[39m\u001b[38;5;132;01m{\u001b[39;00mfile\u001b[38;5;132;01m}\u001b[39;00m\u001b[38;5;124m by default \u001b[39m\u001b[38;5;124m\"\u001b[39m\n\u001b[1;32m    306\u001b[0m         \u001b[38;5;124m\"\u001b[39m\u001b[38;5;124mas it is likely to crash IPython. If you know what you are doing, \u001b[39m\u001b[38;5;124m\"\u001b[39m\n\u001b[1;32m    307\u001b[0m         \u001b[38;5;124m\"\u001b[39m\u001b[38;5;124myou can use builtins\u001b[39m\u001b[38;5;124m'\u001b[39m\u001b[38;5;124m open.\u001b[39m\u001b[38;5;124m\"\u001b[39m\n\u001b[1;32m    308\u001b[0m     )\n\u001b[0;32m--> 310\u001b[0m \u001b[38;5;28;01mreturn\u001b[39;00m \u001b[43mio_open\u001b[49m\u001b[43m(\u001b[49m\u001b[43mfile\u001b[49m\u001b[43m,\u001b[49m\u001b[43m \u001b[49m\u001b[38;5;241;43m*\u001b[39;49m\u001b[43margs\u001b[49m\u001b[43m,\u001b[49m\u001b[43m \u001b[49m\u001b[38;5;241;43m*\u001b[39;49m\u001b[38;5;241;43m*\u001b[39;49m\u001b[43mkwargs\u001b[49m\u001b[43m)\u001b[49m\n",
      "\u001b[0;31mFileNotFoundError\u001b[0m: [Errno 2] No such file or directory: './sample_data/data1.txt'"
     ]
    }
   ],
   "source": [
    "# model train\n",
    "file = open(\"./sample_data/data1.txt\",\"r\")\n",
    "file.read()"
   ]
  },
  {
   "cell_type": "code",
   "execution_count": 25,
   "id": "a9d3c540",
   "metadata": {},
   "outputs": [
    {
     "name": "stdout",
     "output_type": "stream",
     "text": [
      "[Errno 2] No such file or directory: './sample_data/data1.txt'\n"
     ]
    }
   ],
   "source": [
    "# model train\n",
    "\n",
    "try:\n",
    "   file = open(\"./sample_data/data1.txt\",\"r\")\n",
    "   file.read()\n",
    "except Exception as e:\n",
    "   print(e)   \n",
    "\n"
   ]
  },
  {
   "cell_type": "code",
   "execution_count": null,
   "id": "93f09937",
   "metadata": {},
   "outputs": [
    {
     "name": "stdout",
     "output_type": "stream",
     "text": [
      "Hello\n",
      "Hi\n",
      "Bye\n",
      "Ok\n",
      "\n"
     ]
    }
   ],
   "source": [
    "try:\n",
    "   file = open(\"./sample_data/data1.txt\",\"r\")\n",
    "except Exception as e:\n",
    "   print(e)   \n",
    "else:\n",
    "   # model train\n",
    "   print(file.read())\n",
    " "
   ]
  },
  {
   "cell_type": "code",
   "execution_count": null,
   "id": "96a34af9",
   "metadata": {},
   "outputs": [
    {
     "name": "stdout",
     "output_type": "stream",
     "text": [
      "Hello\n",
      "Hi\n",
      "Bye\n",
      "Ok\n",
      "\n",
      "Gpu is stopped\n"
     ]
    }
   ],
   "source": [
    "# model train\n",
    "\n",
    "try:\n",
    "   file = open(\"./sample_data/data1.txt\",\"r\") # Acta file a exception aste pare. tai ei file take  try block er modhe rekce    \n",
    "except Exception as e:  # exception ta handel korci\n",
    "   print(e)   \n",
    "else:  # exception na hole . ei kaj ta korbo... read mane data1.txt file er lekha gulo  print korbe\n",
    "   print(file.read())\n",
    "finally: # exception ta hok ba na hok . eta except korbe\n",
    "   print(\"Gpu is stopped\")   "
   ]
  },
  {
   "cell_type": "code",
   "execution_count": null,
   "id": "03f3a2ef",
   "metadata": {},
   "outputs": [
    {
     "name": "stdout",
     "output_type": "stream",
     "text": [
      "[Errno 2] No such file or directory: './sample_data/data.txt'\n",
      "Gpu is stopped\n"
     ]
    }
   ],
   "source": [
    "# model train\n",
    "\n",
    "try:\n",
    "   file = open(\"./sample_data/data.txt\",\"r\") # data.txt name kono file nai  . tai error    \n",
    "except Exception as e:  # exception ta handel korci\n",
    "   print(e)   \n",
    "else:  # ei file a dokbe na . finally print korbe\n",
    "   print(file.read())\n",
    "finally: \n",
    "   print(\"Gpu is stopped\")   "
   ]
  }
 ],
 "metadata": {
  "kernelspec": {
   "display_name": "Python 3",
   "language": "python",
   "name": "python3"
  },
  "language_info": {
   "codemirror_mode": {
    "name": "ipython",
    "version": 3
   },
   "file_extension": ".py",
   "mimetype": "text/x-python",
   "name": "python",
   "nbconvert_exporter": "python",
   "pygments_lexer": "ipython3",
   "version": "3.12.3"
  }
 },
 "nbformat": 4,
 "nbformat_minor": 5
}
