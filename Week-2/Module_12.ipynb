{
 "cells": [
  {
   "cell_type": "markdown",
   "id": "f9a1a955",
   "metadata": {},
   "source": [
    "# 1.Pandas intro\n",
    "# 2.Dataframe and series\n",
    "# 3.Working with different file type\n",
    "# 4.Basic functionalities\n",
    "# 5.Creating df from list,tuple,dic\n",
    "# 6.Accessing data --> loc(), iloc ()\n",
    "# 7.clanging index and column\n",
    "# 8.Deleting rows and column\n",
    "# 9.Sorting\n",
    "# 10.filtering data based on condition\n",
    "\n",
    "\n"
   ]
  }
 ],
 "metadata": {
  "kernelspec": {
   "display_name": "Python 3.12.3",
   "language": "python",
   "name": "python3"
  },
  "language_info": {
   "codemirror_mode": {
    "name": "ipython",
    "version": 3
   },
   "file_extension": ".py",
   "mimetype": "text/x-python",
   "name": "python",
   "nbconvert_exporter": "python",
   "pygments_lexer": "ipython3",
   "version": "3.12.3"
  }
 },
 "nbformat": 4,
 "nbformat_minor": 5
}
