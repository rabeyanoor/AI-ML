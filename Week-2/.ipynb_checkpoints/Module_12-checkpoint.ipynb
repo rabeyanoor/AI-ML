{
 "cells": [
  {
   "cell_type": "markdown",
   "id": "f9a1a955",
   "metadata": {},
   "source": [
    "1.Pandas intro\n",
    "2.Dataframe and series\n",
    "3.Working with different file type\n",
    "4.Basic functionalities\n",
    "5.Creating df from list,tuple,dic\n",
    "6.Accessing data --> loc(), iloc ()\n",
    "7.clanging index and column\n",
    "8.Deleting rows and column\n",
    "9.Sorting\n",
    "10.filtering data based on condition\n",
    "\n",
    "\n"
   ]
  }
 ],
 "metadata": {
  "language_info": {
   "name": "python"
  }
 },
 "nbformat": 4,
 "nbformat_minor": 5
}
