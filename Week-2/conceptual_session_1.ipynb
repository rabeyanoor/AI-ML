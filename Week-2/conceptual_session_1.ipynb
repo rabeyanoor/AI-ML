{
 "cells": [
  {
   "cell_type": "markdown",
   "id": "dea246d4",
   "metadata": {},
   "source": [
    "## Function"
   ]
  },
  {
   "cell_type": "code",
   "execution_count": 1,
   "id": "0c52a6ad",
   "metadata": {},
   "outputs": [
    {
     "name": "stdout",
     "output_type": "stream",
     "text": [
      "Welcome to this conceptual session - 1 \n"
     ]
    }
   ],
   "source": [
    "def greeting():\n",
    "  print(\"Welcome to this conceptual session - 1 \")\n",
    "\n",
    "greeting()"
   ]
  },
  {
   "cell_type": "code",
   "execution_count": 1,
   "id": "1c82c146",
   "metadata": {},
   "outputs": [
    {
     "name": "stdout",
     "output_type": "stream",
     "text": [
      "Welcome to this conceptual session - 1  Noor\n"
     ]
    }
   ],
   "source": [
    "# Positional Parameters\n",
    "\n",
    "def greeting(name2, name1):\n",
    "  print(\"Welcome to this conceptual session - 1 \", name1)\n",
    "\n",
    "greeting(\"Rabeya\", \"Noor\")"
   ]
  },
  {
   "cell_type": "code",
   "execution_count": 3,
   "id": "69c13412",
   "metadata": {},
   "outputs": [
    {
     "name": "stdout",
     "output_type": "stream",
     "text": [
      "Rakib age is: 20 and Bangladeshi\n"
     ]
    }
   ],
   "source": [
    "# Keyword Parameters\n",
    "def info(name, age, country=\"Bangladeshi\"):\n",
    "    print(f\"{name} age is: {age} and {country}\")\n",
    "\n",
    "info(age=20, name=\"Rakib\")"
   ]
  },
  {
   "cell_type": "code",
   "execution_count": 36,
   "id": "2aa136d7",
   "metadata": {},
   "outputs": [
    {
     "name": "stdout",
     "output_type": "stream",
     "text": [
      "20 age is: Rakib \n"
     ]
    }
   ],
   "source": [
    "# Keyword Parameters\n",
    "def info(name, age):\n",
    "    print(f\"{name} age is: {age} \")\n",
    "\n",
    "info(20, \"Rakib\")"
   ]
  },
  {
   "cell_type": "code",
   "execution_count": 38,
   "id": "5c8ae2f2",
   "metadata": {},
   "outputs": [
    {
     "name": "stdout",
     "output_type": "stream",
     "text": [
      "13\n"
     ]
    }
   ],
   "source": [
    "def add(a,b,c,d):\n",
    "    return a+b+c+d\n",
    "print(add(1,3,4,5))"
   ]
  },
  {
   "cell_type": "code",
   "execution_count": null,
   "id": "bfe01e7a",
   "metadata": {},
   "outputs": [
    {
     "name": "stdout",
     "output_type": "stream",
     "text": [
      "<class 'tuple'>\n",
      "(1, 2, 3, 4, 5, 6, 7, 8)\n"
     ]
    }
   ],
   "source": [
    "def add(*a): # a = args ( *  dile aKsathe  sobgulo valu nea nay.  )\n",
    "\n",
    "# * tuple\n",
    "\n",
    "  print(type(a))\n",
    "  print(a)\n",
    "\n",
    "add(1, 2, 3, 4, 5, 6, 7, 8)"
   ]
  },
  {
   "cell_type": "code",
   "execution_count": 9,
   "id": "da1396f6",
   "metadata": {},
   "outputs": [
    {
     "name": "stdout",
     "output_type": "stream",
     "text": [
      "<class 'dict'>\n",
      "name age is: age and country\n"
     ]
    }
   ],
   "source": [
    "def info(**k): #  ** dictionary\n",
    "    print(type(k))\n",
    "    print(f\"{'name'} age is: {'age'} and {'country'}\")\n",
    "\n",
    "\n",
    "info( name=\"Rakib\",age=20, country=\"bd\")\n"
   ]
  },
  {
   "cell_type": "code",
   "execution_count": 10,
   "id": "9d79a752",
   "metadata": {},
   "outputs": [
    {
     "name": "stdout",
     "output_type": "stream",
     "text": [
      "<class 'dict'>\n",
      "Rakib age is: 20 and bd\n"
     ]
    }
   ],
   "source": [
    "def info(**k): #  ** dictionary\n",
    "    print(type(k))\n",
    "    print(f\"{k['name']} age is: {k['age']} and {k['country']}\")\n",
    "   \n",
    "\n",
    "info(age=20, name=\"Rakib\", country=\"bd\", phone=\"01821\")\n",
    "\n"
   ]
  },
  {
   "cell_type": "code",
   "execution_count": 8,
   "id": "7e131837",
   "metadata": {},
   "outputs": [
    {
     "name": "stdout",
     "output_type": "stream",
     "text": [
      "10\n"
     ]
    }
   ],
   "source": [
    "def func()->float:\n",
    "  return 10\n",
    "\n",
    "print(func())"
   ]
  },
  {
   "cell_type": "code",
   "execution_count": 39,
   "id": "6889548e",
   "metadata": {},
   "outputs": [
    {
     "name": "stdout",
     "output_type": "stream",
     "text": [
      "{'name': 'Rakib', 'age': 21, 'city': 'Dhaka'}\n",
      "Rakib\n"
     ]
    }
   ],
   "source": [
    "# Dictionary Return\n",
    "def get_student():\n",
    "    student = {\n",
    "        \"name\": \"Rakib\",\n",
    "        \"age\": 21,\n",
    "        \"city\": \"Dhaka\"\n",
    "    }\n",
    "    return student\n",
    "\n",
    "info = get_student()\n",
    "print(info)\n",
    "print(info['name'])"
   ]
  },
  {
   "cell_type": "code",
   "execution_count": null,
   "id": "0e55271d",
   "metadata": {},
   "outputs": [
    {
     "name": "stdout",
     "output_type": "stream",
     "text": [
      "({'name': 'Rakib', 'age': 21, 'city': 'Dhaka'}, {'name': 'Rakib2', 'age': 21, 'city': 'Dhaka2'})\n"
     ]
    }
   ],
   "source": [
    "def get_student():\n",
    "    student1 = {\n",
    "        \"name\": \"Rakib\",\n",
    "        \"age\": 21,\n",
    "        \"city\": \"Dhaka\"\n",
    "    }\n",
    "    student2 = {\n",
    "        \"name\": \"Rakib2\",\n",
    "        \"age\": 21,\n",
    "        \"city\": \"Dhaka2\"\n",
    "    }\n",
    "    return student1,student2\n",
    "\n",
    "print( get_student())"
   ]
  },
  {
   "cell_type": "code",
   "execution_count": 41,
   "id": "b5525f90",
   "metadata": {},
   "outputs": [
    {
     "name": "stdout",
     "output_type": "stream",
     "text": [
      "{'name': 'Rakib', 'age': 21, 'city': 'Dhaka'}\n",
      "{'name': 'Rakib2', 'age': 21, 'city': 'Dhaka2'}\n"
     ]
    }
   ],
   "source": [
    "def get_student():\n",
    "    student1 = {\n",
    "        \"name\": \"Rakib\",\n",
    "        \"age\": 21,\n",
    "        \"city\": \"Dhaka\"\n",
    "    }\n",
    "    student2 = {\n",
    "        \"name\": \"Rakib2\",\n",
    "        \"age\": 21,\n",
    "        \"city\": \"Dhaka2\"\n",
    "    }\n",
    "    return (student1,student2)\n",
    "\n",
    "x, y = get_student()\n",
    "\n",
    "print(x)\n",
    "print(y)"
   ]
  },
  {
   "cell_type": "code",
   "execution_count": 12,
   "id": "4d055a48",
   "metadata": {},
   "outputs": [
    {
     "name": "stdout",
     "output_type": "stream",
     "text": [
      "[{'name': 'Rakib', 'age': 21, 'city': 'Dhaka'}, {'name': 'Rakib2', 'age': 21, 'city': 'Dhaka2'}]\n"
     ]
    }
   ],
   "source": [
    "def get_student():\n",
    "    student1 = {\n",
    "        \"name\": \"Rakib\",\n",
    "        \"age\": 21,\n",
    "        \"city\": \"Dhaka\"\n",
    "    }\n",
    "    student2 = {\n",
    "        \"name\": \"Rakib2\",\n",
    "        \"age\": 21,\n",
    "        \"city\": \"Dhaka2\"\n",
    "    }\n",
    "    return (student1,student2)\n",
    "\n",
    "#x, y = get_student()\n",
    "l = list(get_student())\n",
    "print(l)"
   ]
  },
  {
   "cell_type": "markdown",
   "id": "1143c719",
   "metadata": {},
   "source": [
    "## Iterator"
   ]
  },
  {
   "cell_type": "code",
   "execution_count": 14,
   "id": "c674fe6c",
   "metadata": {},
   "outputs": [
    {
     "name": "stdout",
     "output_type": "stream",
     "text": [
      "10\n",
      "20\n",
      "30\n",
      "40\n",
      "\n",
      "\n",
      "10\n",
      "20\n",
      "30\n",
      "40\n"
     ]
    }
   ],
   "source": [
    "arr = [10, 20, 30, 40]\n",
    "\n",
    "for i in arr:\n",
    "    print(i)\n",
    "print('\\n')\n",
    "\n",
    "itr = iter(arr) \n",
    "print(next(itr)) #0 index\n",
    "print(next(itr)) # 1 \n",
    "print(next(itr))# 2\n",
    "print(next(itr))"
   ]
  },
  {
   "cell_type": "code",
   "execution_count": 16,
   "id": "043f1b40",
   "metadata": {},
   "outputs": [
    {
     "name": "stdout",
     "output_type": "stream",
     "text": [
      "('name', 'Alice')\n",
      "('age', 20)\n",
      "name\n",
      "age\n",
      "\n",
      "\n",
      "name\n",
      "age\n",
      "city\n"
     ]
    }
   ],
   "source": [
    "student = {'name': 'Alice', 'age': 20, 'city': 'Dhaka'}\n",
    "\n",
    "\n",
    "itr=iter(student.items())\n",
    "print(next(itr))\n",
    "print(next(itr))\n",
    "\n",
    "itr = iter(student.keys())\n",
    "print(next(itr))\n",
    "print(next(itr))\n",
    "print('\\n')\n",
    "\n",
    "for a in student.keys():\n",
    "  print(a)\n",
    "\n"
   ]
  },
  {
   "cell_type": "markdown",
   "id": "0dc81d43",
   "metadata": {},
   "source": [
    "## Generator"
   ]
  },
  {
   "cell_type": "code",
   "execution_count": 45,
   "id": "d08b1ff8",
   "metadata": {},
   "outputs": [
    {
     "name": "stdout",
     "output_type": "stream",
     "text": [
      "[0, 1, 2, 3, 4]\n"
     ]
    }
   ],
   "source": [
    "def fun():\n",
    "    result=[]\n",
    "    for i in range(5):\n",
    "        result.append(i)\n",
    "    return result\n",
    "\n",
    "print(fun())    "
   ]
  },
  {
   "cell_type": "code",
   "execution_count": null,
   "id": "87f49858",
   "metadata": {},
   "outputs": [
    {
     "name": "stdout",
     "output_type": "stream",
     "text": [
      "<class 'generator'>\n"
     ]
    }
   ],
   "source": [
    "def fun():\n",
    "  for i in range(5):\n",
    "    yield i  # yield use korle generator function create hoy\n",
    "\n",
    "print(type(fun()))    "
   ]
  },
  {
   "cell_type": "code",
   "execution_count": 47,
   "id": "072e5326",
   "metadata": {},
   "outputs": [
    {
     "name": "stdout",
     "output_type": "stream",
     "text": [
      "0\n",
      "1\n"
     ]
    }
   ],
   "source": [
    "def fun():\n",
    "  for i in range(5):\n",
    "    yield i\n",
    "\n",
    "\n",
    "ltr = fun()\n",
    "print(next(ltr))\n",
    "# #sdfsdf\n",
    "# #sdfsdf\n",
    "print(next(ltr))\n"
   ]
  },
  {
   "cell_type": "code",
   "execution_count": 17,
   "id": "a8bc185e",
   "metadata": {},
   "outputs": [
    {
     "name": "stdout",
     "output_type": "stream",
     "text": [
      "1\n",
      "2\n"
     ]
    }
   ],
   "source": [
    "def fun(nums):\n",
    "    for i in nums:\n",
    "        yield i\n",
    "\n",
    "lst =[1,2,3,4]\n",
    "ltr = fun(lst)\n",
    "print(next(ltr))\n",
    "print(next(ltr))        "
   ]
  },
  {
   "cell_type": "code",
   "execution_count": 48,
   "id": "adf5de0f",
   "metadata": {},
   "outputs": [
    {
     "name": "stdout",
     "output_type": "stream",
     "text": [
      "Kaj shuru holo  0\n",
      "0\n",
      "hello \n",
      "Kaj shuru holo  1\n",
      "1\n"
     ]
    }
   ],
   "source": [
    "def fun():\n",
    "  for i in range(5):\n",
    "    print(\"Kaj shuru holo \", i)\n",
    "    yield i\n",
    "\n",
    "\n",
    "ltr = fun()\n",
    "print(next(ltr))\n",
    "print(\"hello \")\n",
    "print(next(ltr))\n"
   ]
  },
  {
   "cell_type": "markdown",
   "id": "0ad18133",
   "metadata": {},
   "source": [
    "## List Comprehension"
   ]
  },
  {
   "cell_type": "code",
   "execution_count": 13,
   "id": "1bd4da5c",
   "metadata": {},
   "outputs": [
    {
     "name": "stdout",
     "output_type": "stream",
     "text": [
      "[1, 4, 9, 16, 25]\n"
     ]
    }
   ],
   "source": [
    "numbers = [1, 2, 3, 4, 5]\n",
    "squared = []\n",
    "\n",
    "for num in numbers:\n",
    "    squared.append(num * num)\n",
    "\n",
    "print(squared)"
   ]
  },
  {
   "cell_type": "code",
   "execution_count": 14,
   "id": "06934501",
   "metadata": {},
   "outputs": [
    {
     "name": "stdout",
     "output_type": "stream",
     "text": [
      "[1, 2, 3, 4, 5]\n"
     ]
    }
   ],
   "source": [
    "numbers = [1, 2, 3, 4, 5]\n",
    "\n",
    "squared = [n for n in numbers]\n",
    "\n",
    "print(squared)"
   ]
  },
  {
   "cell_type": "code",
   "execution_count": 50,
   "id": "beb14127",
   "metadata": {},
   "outputs": [
    {
     "name": "stdout",
     "output_type": "stream",
     "text": [
      "[1, 8, 27, 64, 125]\n"
     ]
    }
   ],
   "source": [
    "numbers = [1, 2, 3, 4, 5]\n",
    "\n",
    "squared = [n*n*n for n in numbers]\n",
    "\n",
    "print(squared)"
   ]
  },
  {
   "cell_type": "code",
   "execution_count": 21,
   "id": "31de6288",
   "metadata": {},
   "outputs": [
    {
     "name": "stdout",
     "output_type": "stream",
     "text": [
      "[1, 8, 27, 64, 125]\n"
     ]
    }
   ],
   "source": [
    "numbers = [1, 2, 3, 4, 5]\n",
    "squared = []\n",
    "\n",
    "for n in numbers:\n",
    "    squared.append(n * n*n)\n",
    "\n",
    "print(squared)"
   ]
  },
  {
   "cell_type": "code",
   "execution_count": 51,
   "id": "6b4d9c4c",
   "metadata": {},
   "outputs": [
    {
     "name": "stdout",
     "output_type": "stream",
     "text": [
      "[101, 102, 103, 104, 105]\n"
     ]
    }
   ],
   "source": [
    "numbers = [1, 2, 3, 4, 5]\n",
    "\n",
    "squared = [n+100 for n in numbers]\n",
    "\n",
    "print(squared)"
   ]
  },
  {
   "cell_type": "code",
   "execution_count": 52,
   "id": "a2f88d37",
   "metadata": {},
   "outputs": [
    {
     "name": "stdout",
     "output_type": "stream",
     "text": [
      "[{'value': 1}, {'value': 2}, {'value': 3}, {'value': 4}, {'value': 5}]\n"
     ]
    }
   ],
   "source": [
    "numbers = [1, 2, 3, 4, 5]\n",
    "\n",
    "squared = [{\"value\":n} for n in numbers]\n",
    "\n",
    "print(squared)"
   ]
  },
  {
   "cell_type": "code",
   "execution_count": 53,
   "id": "1695ff6e",
   "metadata": {},
   "outputs": [
    {
     "name": "stdout",
     "output_type": "stream",
     "text": [
      "['Rakib 1', 'Rakib 2', 'Rakib 3', 'Rakib 4', 'Rakib 5']\n"
     ]
    }
   ],
   "source": [
    "numbers = [1, 2, 3, 4, 5]\n",
    "\n",
    "squared = [f\"Rakib {n}\" for n in numbers]\n",
    "\n",
    "print(squared)"
   ]
  },
  {
   "cell_type": "code",
   "execution_count": 15,
   "id": "5fd009c6",
   "metadata": {},
   "outputs": [
    {
     "name": "stdout",
     "output_type": "stream",
     "text": [
      "[1, 3, 5]\n"
     ]
    }
   ],
   "source": [
    "numbers = [1, 2, 3, 4, 5]\n",
    "\n",
    "squared = [n for n in numbers if n%2==1]\n",
    "\n",
    "print(squared)"
   ]
  },
  {
   "cell_type": "code",
   "execution_count": 16,
   "id": "ae37f3c2",
   "metadata": {},
   "outputs": [
    {
     "name": "stdout",
     "output_type": "stream",
     "text": [
      "[0, 0, 0, 49, 81]\n"
     ]
    }
   ],
   "source": [
    "numbers = [1, 2, 3, 4, 5, 6, 7, 8, 9, 10]\n",
    "\n",
    "squared = [n*n if(n*n >30) else 0 for n in numbers if n%2==1]\n",
    "\n",
    "print(squared)"
   ]
  },
  {
   "cell_type": "code",
   "execution_count": 17,
   "id": "3ccc5a02",
   "metadata": {},
   "outputs": [
    {
     "name": "stdout",
     "output_type": "stream",
     "text": [
      "['Pass 85', 'Fail 42', 'Pass 76', 'Pass 91', 'Fail 35']\n"
     ]
    }
   ],
   "source": [
    "scores = [85, 42, 76, 91, 35]\n",
    "grades = [f'Pass {s}' if s >= 50 else f'Fail {s}' for s in scores]\n",
    "print(grades)"
   ]
  },
  {
   "cell_type": "code",
   "execution_count": 54,
   "id": "49a1862d",
   "metadata": {},
   "outputs": [
    {
     "name": "stdout",
     "output_type": "stream",
     "text": [
      "[[1, 2, 3], [4, 5, 6], [7, 8, 9]]\n"
     ]
    }
   ],
   "source": [
    "matrix = [[1, 2, 3], [4, 5, 6], [7, 8, 9]]\n",
    "f = [i for i in matrix ]\n",
    "\n",
    "print(f)"
   ]
  },
  {
   "cell_type": "code",
   "execution_count": null,
   "id": "e2ee60d8",
   "metadata": {},
   "outputs": [
    {
     "name": "stdout",
     "output_type": "stream",
     "text": [
      "[1, 2, 3, 4, 5, 6, 7, 8, 9]\n"
     ]
    }
   ],
   "source": [
    "matrix = [[1, 2, 3], [4, 5, 6], [7, 8, 9]]\n",
    "f = [j for i in matrix for j in i]\n",
    "## for i in matrix:\n",
    "  #  for j in i:\n",
    "  # f.apped(j)\n",
    "\n",
    "print(f)"
   ]
  },
  {
   "cell_type": "code",
   "execution_count": 30,
   "id": "8251f674",
   "metadata": {},
   "outputs": [
    {
     "name": "stdout",
     "output_type": "stream",
     "text": [
      "[{'name': 'Alice', 'age': 20}, {'name': 'Bob', 'age': 22}, {'name': 'Charlie', 'age': 19}]\n",
      "['Alice', 'Bob', 'Charlie']\n",
      "[\"name {'name': 'Alice', 'age': 20} \", \"name {'name': 'Bob', 'age': 22} \", \"name {'name': 'Charlie', 'age': 19} \"]\n",
      "[{'name': {'name': 'Alice', 'age': 20}}, {'name': {'name': 'Bob', 'age': 22}}, {'name': {'name': 'Charlie', 'age': 19}}]\n"
     ]
    }
   ],
   "source": [
    "students = [\n",
    "    {'name': 'Alice', 'age': 20},\n",
    "    {'name': 'Bob', 'age': 22},\n",
    "    {'name': 'Charlie', 'age': 19}\n",
    "]\n",
    "\n",
    "names = [ s for s in students]\n",
    "print(names)\n",
    "\n",
    "names = [s['name'] for s in students]\n",
    "print(names)\n",
    "\n",
    "names = [f\"name {s} \"for s in students]\n",
    "print(names)\n",
    "\n",
    "names = [{\"name\": s} for s in students]\n",
    "print(names)"
   ]
  },
  {
   "cell_type": "code",
   "execution_count": 31,
   "id": "959a047d",
   "metadata": {},
   "outputs": [
    {
     "name": "stdout",
     "output_type": "stream",
     "text": [
      "[' 25 ', '30 ', ' 42', '50']\n",
      "[25, 30, 42, 50]\n"
     ]
    }
   ],
   "source": [
    "# CSV data cleaning\n",
    "raw_data = [' 25 ', '30 ', ' 42', 'abc', '50']\n",
    "\n",
    "clean = [r for r in raw_data if r.strip().isdigit()]\n",
    "print(clean)\n",
    "\n",
    "clean = [int(r) for r in raw_data if r.strip().isdigit()]\n",
    "print(clean)\n",
    "# [25, 30, 42, 50]"
   ]
  },
  {
   "cell_type": "code",
   "execution_count": 21,
   "id": "0e0a35ed",
   "metadata": {},
   "outputs": [
    {
     "name": "stdout",
     "output_type": "stream",
     "text": [
      "[1, 3, 4, 5, 6, 7, 8, 9]\n"
     ]
    }
   ],
   "source": [
    "d = [ [[1, 3], [4, 5]], [[6, 7], [8,9]]]\n",
    "\n",
    "a = [k  for i in d for j in i for k in j]\n",
    "print(a)\n",
    "\n",
    "# for i in d:\n",
    "#   for j in i:\n",
    "#     for k in j:\n",
    "#       print(k)"
   ]
  },
  {
   "cell_type": "markdown",
   "id": "45a1b012",
   "metadata": {},
   "source": [
    "## lambda , map , filter , reduce function"
   ]
  },
  {
   "cell_type": "markdown",
   "id": "c344d806",
   "metadata": {},
   "source": [
    "lambda"
   ]
  },
  {
   "cell_type": "code",
   "execution_count": 22,
   "id": "f283e5a9",
   "metadata": {},
   "outputs": [
    {
     "name": "stdout",
     "output_type": "stream",
     "text": [
      "Hello World\n"
     ]
    }
   ],
   "source": [
    "def greet():\n",
    "  print('Hello World')\n",
    "greet()"
   ]
  },
  {
   "cell_type": "code",
   "execution_count": 23,
   "id": "adc99bc1",
   "metadata": {},
   "outputs": [
    {
     "name": "stdout",
     "output_type": "stream",
     "text": [
      "Hello World\n"
     ]
    }
   ],
   "source": [
    "greet = lambda : print('Hello World')\n",
    "greet()"
   ]
  },
  {
   "cell_type": "code",
   "execution_count": 24,
   "id": "b3dfd868",
   "metadata": {},
   "outputs": [
    {
     "name": "stdout",
     "output_type": "stream",
     "text": [
      "Hello World Rakib\n"
     ]
    }
   ],
   "source": [
    "greet = lambda name: print('Hello World' ,name)\n",
    "\n",
    "greet(\"Rakib\")"
   ]
  },
  {
   "cell_type": "markdown",
   "id": "0b05e6c9",
   "metadata": {},
   "source": [
    "## Map\n",
    "\n",
    "map(function, iterable, ...)"
   ]
  },
  {
   "cell_type": "code",
   "execution_count": 36,
   "id": "febc9f84",
   "metadata": {},
   "outputs": [
    {
     "name": "stdout",
     "output_type": "stream",
     "text": [
      "1\n",
      "4\n",
      "9\n",
      "16\n",
      "25\n"
     ]
    }
   ],
   "source": [
    "arr = [1, 2, 3, 4, 5]\n",
    "\n",
    "arr2 = map(lambda x: x*x, arr)\n",
    "print(next(arr2))\n",
    "print(next(arr2))\n",
    "print(next(arr2))\n",
    "print(next(arr2))\n",
    "print(next(arr2))\n",
    "\n"
   ]
  },
  {
   "cell_type": "code",
   "execution_count": 32,
   "id": "324cf854",
   "metadata": {},
   "outputs": [
    {
     "name": "stdout",
     "output_type": "stream",
     "text": [
      "[1, 4, 9, 16, 25]\n"
     ]
    }
   ],
   "source": [
    "arr = [1, 2, 3, 4, 5]\n",
    "\n",
    "arr2 = list(map(lambda x: x*x, arr))\n",
    "print(arr2)"
   ]
  },
  {
   "cell_type": "code",
   "execution_count": 26,
   "id": "f3e5a0d4",
   "metadata": {},
   "outputs": [
    {
     "name": "stdout",
     "output_type": "stream",
     "text": [
      "['Score is 85 and A+', 'Score is 92 and A+', 'Score is 78 and A', 'Score is 65 and A-', 'Score is 45 and F-']\n"
     ]
    }
   ],
   "source": [
    "scores = [85, 92, 78, 65, 45]\n",
    "\n",
    "def grade(x):\n",
    "  if x >=80 : return f\"Score is {x} and A+\"\n",
    "  if x >=70 : return f\"Score is {x} and A\"\n",
    "  if x >=60 : return f\"Score is {x} and A-\"\n",
    "  else : return f\"Score is {x} and F-\"\n",
    "\n",
    "grades = list(map(grade,scores))\n",
    "print(grades)"
   ]
  },
  {
   "cell_type": "markdown",
   "id": "051014dc",
   "metadata": {},
   "source": [
    "## Filter\n",
    "\n",
    "filter(function, iterable)"
   ]
  },
  {
   "cell_type": "code",
   "execution_count": 27,
   "id": "b7a72c96",
   "metadata": {},
   "outputs": [
    {
     "name": "stdout",
     "output_type": "stream",
     "text": [
      "[85, 92]\n"
     ]
    }
   ],
   "source": [
    "scores = [85, 92, 78, 65, 45]\n",
    "\n",
    "select = list(filter(lambda x: x>80 , scores))\n",
    "print(select)"
   ]
  },
  {
   "cell_type": "code",
   "execution_count": 57,
   "id": "9c45b0f0",
   "metadata": {},
   "outputs": [
    {
     "name": "stdout",
     "output_type": "stream",
     "text": [
      "['user@mail.com', 'test@gmail.com', 'admin@site.org']\n"
     ]
    }
   ],
   "source": [
    "# Valid Email Filter\n",
    "emails = [\"user@mail.com\", \"invalid\", \"test@gmail.com\", \"no@\", \"admin@site.org\"]\n",
    "\n",
    "def check(s):\n",
    "  if '@' in s and '.' in s:\n",
    "    return s;\n",
    "\n",
    "\n",
    "# selected = list( filter(lambda e: '@' in e and '.' in e  , emails) )\n",
    "selected = list( filter(check , emails) )\n",
    "print(selected)"
   ]
  },
  {
   "cell_type": "markdown",
   "id": "3540b95d",
   "metadata": {},
   "source": [
    "## Reduce"
   ]
  },
  {
   "cell_type": "code",
   "execution_count": 29,
   "id": "57d9314e",
   "metadata": {},
   "outputs": [
    {
     "name": "stdout",
     "output_type": "stream",
     "text": [
      "15\n"
     ]
    }
   ],
   "source": [
    "from functools import reduce\n",
    "arr = [1,2,3,4,5]\n",
    "\n",
    "sum = reduce(lambda x,y: x+y, arr)\n",
    "print(sum)"
   ]
  },
  {
   "cell_type": "code",
   "execution_count": 30,
   "id": "f355b4cf",
   "metadata": {},
   "outputs": [
    {
     "name": "stdout",
     "output_type": "stream",
     "text": [
      "1200\n"
     ]
    }
   ],
   "source": [
    "from functools import reduce\n",
    "arr = [1,2,3,4,5]\n",
    "\n",
    "sum = reduce(lambda x,y: x*y, arr, 10)\n",
    "print(sum)"
   ]
  },
  {
   "cell_type": "code",
   "execution_count": 31,
   "id": "05b1620f",
   "metadata": {},
   "outputs": [
    {
     "name": "stdout",
     "output_type": "stream",
     "text": [
      "19\n"
     ]
    }
   ],
   "source": [
    "from functools import reduce\n",
    "\n",
    "sentences = [\"I love Python\", \"Machine Learning is fun\", \"AI is the future\"]\n",
    "\n",
    "def count_vowel(text):\n",
    "  sum=0\n",
    "  for ch in text.lower():\n",
    "    if ch in 'aeiou':\n",
    "      sum+=1\n",
    "\n",
    "  return sum\n",
    "\n",
    "total = reduce(lambda x, y: x + count_vowel(y), sentences, 0)\n",
    "print(total)\n"
   ]
  },
  {
   "cell_type": "markdown",
   "id": "fa1cae32",
   "metadata": {},
   "source": [
    "Double-click (or enter) to edit\n",
    "\n",
    "## Write and Read CSV File\n"
   ]
  },
  {
   "cell_type": "code",
   "execution_count": 32,
   "id": "19c41a9f",
   "metadata": {},
   "outputs": [
    {
     "name": "stdout",
     "output_type": "stream",
     "text": [
      "[['Name', 'Age'], ['Rakib', '20'], ['Takib', '40'], ['Yakib', '25']]\n"
     ]
    }
   ],
   "source": [
    "from pathlib import Path\n",
    "import csv\n",
    "\n",
    "Data_Path = Path('data2')\n",
    "Data_Path.mkdir(exist_ok=True)\n",
    "csv_path = Data_Path / \"student.csv\"\n",
    "\n",
    "# Write\n",
    "with csv_path.open('w', newline=\"\",encoding=\"utf-8\") as f:\n",
    "  writer = csv.writer(f)\n",
    "  writer.writerow([\"Name\", \"Age\"])\n",
    "  writer.writerow([\"Rakib\", 20])\n",
    "  writer.writerow([\"Takib\", 40])\n",
    "  writer.writerow([\"Yakib\", 25])\n",
    "\n",
    "# Read\n",
    "with csv_path.open('r',encoding=\"utf-8\") as f:\n",
    "  reader =  csv.reader(f)\n",
    "  print(list(reader))"
   ]
  },
  {
   "cell_type": "markdown",
   "id": "aaa5ad32",
   "metadata": {},
   "source": [
    "## Error Handling"
   ]
  },
  {
   "cell_type": "code",
   "execution_count": 33,
   "id": "6017eaa7",
   "metadata": {},
   "outputs": [
    {
     "name": "stdout",
     "output_type": "stream",
     "text": [
      "ValueError: invalid literal for int() with base 10: 'ABC'\n",
      "None\n"
     ]
    }
   ],
   "source": [
    "def to_int(s):\n",
    "    try:\n",
    "        return int(s)\n",
    "    except ValueError as e:\n",
    "        print(\"ValueError:\", e)\n",
    "        return None\n",
    "\n",
    "print(to_int(\"ABC\"))\n",
    "# print(\"to_int('abc'):\", to_int(\"abc\"))"
   ]
  },
  {
   "cell_type": "code",
   "execution_count": 34,
   "id": "60431a39",
   "metadata": {},
   "outputs": [
    {
     "name": "stdout",
     "output_type": "stream",
     "text": [
      "0 diye vag kora jabe nah\n"
     ]
    }
   ],
   "source": [
    "# --- DEMO: raising custom errors ---\n",
    "def require_positive(n):\n",
    "    if n <= 0:\n",
    "        raise ValueError(\"n must be > 0\")\n",
    "    return n\n",
    "\n",
    "def dividedbyn(n):\n",
    "  if n==0:\n",
    "    raise ZeroDivisionError(\"0 diye vag kora jabe nah\")\n",
    "  return 100/n;\n",
    "\n",
    "try:\n",
    "    # print(require_positive(-1))\n",
    "    print(dividedbyn(0))\n",
    "except ZeroDivisionError as e:\n",
    "    print(e)\n",
    "except ValueError as e:\n",
    "    print(\"Caught:\", e)"
   ]
  }
 ],
 "metadata": {
  "kernelspec": {
   "display_name": "base",
   "language": "python",
   "name": "python3"
  },
  "language_info": {
   "codemirror_mode": {
    "name": "ipython",
    "version": 3
   },
   "file_extension": ".py",
   "mimetype": "text/x-python",
   "name": "python",
   "nbconvert_exporter": "python",
   "pygments_lexer": "ipython3",
   "version": "3.13.5"
  }
 },
 "nbformat": 4,
 "nbformat_minor": 5
}
