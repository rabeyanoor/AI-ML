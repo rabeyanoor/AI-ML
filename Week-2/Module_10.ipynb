{
 "cells": [
  {
   "cell_type": "code",
   "execution_count": 1,
   "id": "967a2bcb",
   "metadata": {},
   "outputs": [
    {
     "name": "stdout",
     "output_type": "stream",
     "text": [
      "[1, 2, 3, 1, 2, 3, 1, 2, 3, 1, 2, 3, 1, 2, 3]\n",
      "[5, 10, 15]\n"
     ]
    }
   ],
   "source": [
    "arr=[1,2,3]\n",
    "print(arr*5)\n",
    "\n",
    "arr=[x*5 for x in arr]\n",
    "print(arr)"
   ]
  },
  {
   "cell_type": "code",
   "execution_count": 42,
   "id": "3a01c44c",
   "metadata": {},
   "outputs": [
    {
     "name": "stdout",
     "output_type": "stream",
     "text": [
      "[ 5 10 15]\n"
     ]
    }
   ],
   "source": [
    "import numpy as np\n",
    "\n",
    "arr1 =np.array([1,2,3])\n",
    "arr1=arr1*5\n",
    "print(arr1)"
   ]
  },
  {
   "cell_type": "markdown",
   "id": "a6cd0599",
   "metadata": {},
   "source": [
    "## Ndarray"
   ]
  },
  {
   "cell_type": "code",
   "execution_count": 44,
   "id": "6dbd1650",
   "metadata": {},
   "outputs": [
    {
     "name": "stdout",
     "output_type": "stream",
     "text": [
      "<class 'numpy.ndarray'>\n",
      "1\n"
     ]
    }
   ],
   "source": [
    "import numpy as np\n",
    "\n",
    "# 1d array\n",
    "arr1=np.array([1,2,3,4,5])\n",
    "print(type(arr1))\n",
    "print(arr1.ndim)\n"
   ]
  },
  {
   "cell_type": "code",
   "execution_count": null,
   "metadata": {},
   "outputs": [
    {
     "name": "stdout",
     "output_type": "stream",
     "text": [
      "<class 'numpy.ndarray'>\n",
      "1\n",
      "2\n",
      "<class 'numpy.ndarray'>\n",
      "3\n"
     ]
    }
   ],
   "source": [
    "import numpy as np\n",
    "\n",
    "#1d array\n",
    "arr1=np.array([1,2,3,4,5,6])\n",
    "print(type(arr1))\n",
    "print(arr1.ndim)# number of dimension\n",
    "\n",
    "\n",
    "#2d array\n",
    "arr2=np.array([[1,2,3,6],# 1d\n",
    "              [4,5,6,7] #2d\n",
    "              ])\n",
    "print(arr2.ndim)\n",
    "\n",
    "\n",
    "#3d array \n",
    "arr3 = np.array([\n",
    "    #1st floor\n",
    "    [ [1,2,3], # row1\n",
    "      [4,5,6]  ], #row2 \n",
    "\n",
    "    #2nd floor\n",
    "\n",
    "     [[1,2,3], # row1\n",
    "      [4,5,6]  ], #row2  \n",
    "\n",
    "\n",
    "    #3rd floor\n",
    "      [[1,2,3], # row1\n",
    "      [4,5,6]  ] #row2  \n",
    "   \n",
    "])\n",
    "\n",
    "print(type(arr3))\n",
    "print(arr3.ndim)"
   ]
  },
  {
   "cell_type": "markdown",
   "id": "f3783d34",
   "metadata": {},
   "source": [
    "## Array attributes"
   ]
  },
  {
   "cell_type": "code",
   "execution_count": null,
   "metadata": {},
   "outputs": [
    {
     "name": "stdout",
     "output_type": "stream",
     "text": [
      "1\n",
      "2\n",
      "3\n",
      "(6,)\n",
      "(2, 4)\n",
      "(3, 2, 3)\n",
      "int64\n",
      "int64\n",
      "int64\n",
      "6\n",
      "8\n",
      "18\n"
     ]
    }
   ],
   "source": [
    "# dimension \n",
    "print(arr1.ndim)\n",
    "print(arr2.ndim)\n",
    "print(arr3.ndim) \n",
    "\n",
    "\n",
    "#shape \n",
    "print(arr1.shape)\n",
    "print(arr2.shape)\n",
    "print(arr3.shape) \n",
    "\n",
    "\n",
    "#data type \n",
    "print(arr1.dtype)# data type\n",
    "print(arr2.dtype)\n",
    "print(arr3.dtype)\n",
    "\n",
    "\n",
    "#size \n",
    "print(arr1.size)\n",
    "print(arr2.size)\n",
    "print(arr3.size)"
   ]
  },
  {
   "cell_type": "markdown",
   "id": "18b2e8ac",
   "metadata": {},
   "source": [
    "## ndarray data type"
   ]
  },
  {
   "cell_type": "code",
   "execution_count": 56,
   "metadata": {},
   "outputs": [
    {
     "name": "stdout",
     "output_type": "stream",
     "text": [
      "int64\n",
      "float64\n"
     ]
    }
   ],
   "source": [
    "arr =np.array([1,2,3])\n",
    "print(arr.dtype)\n",
    "\n",
    "arr=np.array([1.5,2.5,3.2])\n",
    "print(arr.dtype)\n"
   ]
  },
  {
   "cell_type": "code",
   "execution_count": 73,
   "metadata": {},
   "outputs": [
    {
     "name": "stdout",
     "output_type": "stream",
     "text": [
      "float64\n",
      "<U32\n",
      "<U32\n"
     ]
    }
   ],
   "source": [
    "# upcasted to float \n",
    "arr = np.array([1,2,3.2]) # NumPy=np\n",
    "print(arr.dtype) \n",
    "\n",
    "#upcasted to string\n",
    "arr = np.array([1,2,3.2,'hello']) \n",
    "print(arr.dtype) \n",
    "\n",
    "\n",
    "arr = np.array([1,True,3.25,'hello',]) \n",
    "print(arr.dtype) "
   ]
  },
  {
   "cell_type": "markdown",
   "id": "d3de0007",
   "metadata": {},
   "source": [
    "## selecting a data type for an array"
   ]
  },
  {
   "cell_type": "code",
   "execution_count": 66,
   "metadata": {},
   "outputs": [
    {
     "name": "stdout",
     "output_type": "stream",
     "text": [
      "int8\n",
      "[1 2 3]\n",
      "float128\n",
      "[1.  2.  3.6]\n",
      "int32\n",
      "int64\n",
      "int16\n"
     ]
    },
    {
     "ename": "ValueError",
     "evalue": "could not convert string to float: 'hello'",
     "output_type": "error",
     "traceback": [
      "\u001b[0;31m---------------------------------------------------------------------------\u001b[0m",
      "\u001b[0;31mValueError\u001b[0m                                Traceback (most recent call last)",
      "Cell \u001b[0;32mIn[66], line 20\u001b[0m\n\u001b[1;32m     16\u001b[0m \u001b[38;5;28mprint\u001b[39m(arr\u001b[38;5;241m.\u001b[39mdtype)\n\u001b[1;32m     19\u001b[0m \u001b[38;5;66;03m#error\u001b[39;00m\n\u001b[0;32m---> 20\u001b[0m arr \u001b[38;5;241m=\u001b[39m \u001b[43mnp\u001b[49m\u001b[38;5;241;43m.\u001b[39;49m\u001b[43marray\u001b[49m\u001b[43m(\u001b[49m\u001b[43m[\u001b[49m\u001b[38;5;241;43m1\u001b[39;49m\u001b[43m,\u001b[49m\u001b[38;5;241;43m2\u001b[39;49m\u001b[43m,\u001b[49m\u001b[38;5;241;43m3.2\u001b[39;49m\u001b[43m,\u001b[49m\u001b[38;5;124;43m'\u001b[39;49m\u001b[38;5;124;43mhello\u001b[39;49m\u001b[38;5;124;43m'\u001b[39;49m\u001b[43m]\u001b[49m\u001b[43m,\u001b[49m\u001b[43mdtype\u001b[49m\u001b[38;5;241;43m=\u001b[39;49m\u001b[43mnp\u001b[49m\u001b[38;5;241;43m.\u001b[39;49m\u001b[43mfloat64\u001b[49m\u001b[43m)\u001b[49m \u001b[38;5;66;03m#float a convert korbe . but ekta string thaker karone float hobe na. tai error \u001b[39;00m\n",
      "\u001b[0;31mValueError\u001b[0m: could not convert string to float: 'hello'"
     ]
    }
   ],
   "source": [
    "arr = np.array([1,2,3],dtype=np.int8)# Int a convert korbe\n",
    "print(arr.dtype)\n",
    "print(arr)\n",
    "\n",
    "arr = np.array([1,2,3.6],dtype=np.float128)# Int a convert korbe\n",
    "print(arr.dtype)\n",
    "print(arr)\n",
    "\n",
    "\n",
    "arr = arr.astype(np.int32)  #type change korar method\n",
    "print(arr.dtype)\n",
    "\n",
    "arr=np.array([1,2,3])\n",
    "print(arr.dtype)\n",
    "arr=arr.astype(np.int16)\n",
    "print(arr.dtype)\n",
    "\n",
    "\n",
    "#error\n",
    "arr = np.array([1,2,3.2,'hello'],dtype=np.float64) #float a convert korbe . but ekta string thaker karone float hobe na. tai error "
   ]
  },
  {
   "cell_type": "markdown",
   "id": "b3dae1dc",
   "metadata": {},
   "source": [
    "## ndarray creation from existing data"
   ]
  },
  {
   "cell_type": "code",
   "execution_count": 71,
   "metadata": {},
   "outputs": [
    {
     "name": "stdout",
     "output_type": "stream",
     "text": [
      "[10.  20.  30.  40.  40.5]\n",
      "<class 'numpy.ndarray'>\n",
      "float64\n",
      "[10 20 30 40 40]\n",
      "<class 'numpy.ndarray'>\n",
      "int32\n",
      "['10' 'True' 'Hello']\n",
      "<class 'numpy.ndarray'>\n",
      "<U21\n",
      "[[1 2 3]\n",
      " [4 5 6]]\n",
      "<class 'numpy.ndarray'>\n",
      "int64\n",
      "(2, 3)\n",
      "2\n"
     ]
    }
   ],
   "source": [
    "#list \n",
    "lst = [10,20,30,40,40.5]### N-dimensional array--> ndarray\n",
    "arr=np.array(lst)\n",
    "print(arr)\n",
    "print(type(arr))\n",
    "print(arr.dtype)\n",
    "\n",
    "\n",
    "lst = [10,20,30,40,40.5] \n",
    "arr = np.array(lst, dtype=np.int32) \n",
    "print(arr) \n",
    "print(type(arr)) \n",
    "print(arr.dtype) \n",
    "\n",
    "\n",
    "mixed_lst = [10, True , 'Hello' ]\n",
    "arr = np.array(mixed_lst) \n",
    "print(arr) \n",
    "print(type(arr)) \n",
    "print(arr.dtype) \n",
    "\n",
    "\n",
    "matrix = [ [1,2,3], # row1\n",
    "           [4,5,6] #row2\n",
    "                ]\n",
    "\n",
    "arr = np.array(matrix) \n",
    "\n",
    "print(arr) \n",
    "print(type(arr)) \n",
    "print(arr.dtype) \n",
    "print(arr.shape) \n",
    "print(arr.ndim) "
   ]
  },
  {
   "cell_type": "code",
   "execution_count": 78,
   "metadata": {},
   "outputs": [
    {
     "name": "stdout",
     "output_type": "stream",
     "text": [
      "[10 20 30]\n",
      "<class 'numpy.ndarray'>\n",
      "int64\n",
      "(3,)\n",
      "1\n",
      "int32\n",
      "[10 20 30]\n",
      "<class 'numpy.ndarray'>\n",
      "int16\n",
      "(3,)\n",
      "1\n"
     ]
    }
   ],
   "source": [
    "#tuple \n",
    "\n",
    "tpl = (10,20,30) \n",
    "\n",
    "arr=np.array(tpl)\n",
    "print(arr)\n",
    "print(type(arr))\n",
    "print(arr.dtype)\n",
    "print(arr.shape)\n",
    "print(arr.ndim)\n",
    "\n",
    "# dui vabe kora jay . same\n",
    "\n",
    "tpl = (10,20,30) \n",
    "\n",
    "arr = np.array(tpl,dtype=np.int32)\n",
    "print(arr.dtype) \n",
    "arr = arr.astype(np.int16)\n",
    "print(arr) \n",
    "print(type(arr)) \n",
    "print(arr.dtype) \n",
    "print(arr.shape) \n",
    "print(arr.ndim) "
   ]
  },
  {
   "cell_type": "code",
   "execution_count": 74,
   "metadata": {},
   "outputs": [
    {
     "name": "stdout",
     "output_type": "stream",
     "text": [
      "int64\n",
      "[1 2 3]\n",
      "<class 'numpy.ndarray'>\n",
      "int16\n",
      "(3,)\n",
      "1\n"
     ]
    }
   ],
   "source": [
    "#set \n",
    "\n",
    "st = { 1, 2, 3 }\n",
    "\n",
    "arr = np.array(list(st))\n",
    "print(arr.dtype) \n",
    "\n",
    "arr = arr.astype(np.int16)\n",
    "print(arr) \n",
    "print(type(arr)) \n",
    "print(arr.dtype) \n",
    "print(arr.shape) \n",
    "print(arr.ndim) "
   ]
  },
  {
   "cell_type": "code",
   "execution_count": 11,
   "metadata": {},
   "outputs": [],
   "source": [
    "# dictionary \n",
    "\n",
    "dc = { 'a' : 10 , 'b' : 20 , 'c' :30 }\n",
    "\n",
    "keys = dc.keys()\n",
    "values = dc.values()\n",
    "items = dc.items()"
   ]
  },
  {
   "cell_type": "code",
   "execution_count": 12,
   "metadata": {},
   "outputs": [
    {
     "name": "stdout",
     "output_type": "stream",
     "text": [
      "['a' 'b' 'c']\n",
      "<class 'numpy.ndarray'>\n",
      "<U1\n",
      "(3,)\n",
      "1\n",
      "3\n"
     ]
    }
   ],
   "source": [
    "#keys to ndarray\n",
    "arr = np.array(list(keys))\n",
    "print(arr) \n",
    "print(type(arr)) \n",
    "print(arr.dtype) \n",
    "print(arr.shape) \n",
    "print(arr.ndim)\n",
    "print(arr.size)\n"
   ]
  },
  {
   "cell_type": "code",
   "execution_count": 13,
   "metadata": {},
   "outputs": [
    {
     "name": "stdout",
     "output_type": "stream",
     "text": [
      "[10 20 30]\n",
      "<class 'numpy.ndarray'>\n",
      "int16\n",
      "(3,)\n",
      "1\n",
      "3\n"
     ]
    }
   ],
   "source": [
    "#values to ndarray\n",
    "arr = np.array(list(values))\n",
    "print(arr) \n",
    "arr = arr.astype(np.int16)\n",
    "print(type(arr)) \n",
    "print(arr.dtype) \n",
    "print(arr.shape) \n",
    "print(arr.ndim)\n",
    "print(arr.size)"
   ]
  },
  {
   "cell_type": "code",
   "execution_count": 14,
   "metadata": {},
   "outputs": [
    {
     "name": "stdout",
     "output_type": "stream",
     "text": [
      "[['a' '10']\n",
      " ['b' '20']\n",
      " ['c' '30']]\n",
      "<class 'numpy.ndarray'>\n",
      "<U21\n",
      "(3, 2)\n",
      "2\n",
      "6\n"
     ]
    }
   ],
   "source": [
    "#items to ndarray\n",
    "arr = np.array(list(items))\n",
    "print(arr) \n",
    "print(type(arr)) \n",
    "print(arr.dtype) \n",
    "print(arr.shape) \n",
    "print(arr.ndim)\n",
    "print(arr.size)"
   ]
  },
  {
   "cell_type": "markdown",
   "id": "72334694",
   "metadata": {},
   "source": [
    "## Creating ndarray from scratch"
   ]
  },
  {
   "cell_type": "code",
   "execution_count": 15,
   "metadata": {},
   "outputs": [
    {
     "name": "stdout",
     "output_type": "stream",
     "text": [
      "[[[0 0 0]\n",
      "  [0 0 0]]\n",
      "\n",
      " [[0 0 0]\n",
      "  [0 0 0]]\n",
      "\n",
      " [[0 0 0]\n",
      "  [0 0 0]]]\n",
      "(3, 2, 3)\n"
     ]
    }
   ],
   "source": [
    "# np.zeros\n",
    "\n",
    "arr = np.zeros((2,3),dtype=np.int8)\n",
    "\n",
    "# print(arr) \n",
    "# print(type(arr)) \n",
    "# print(arr.dtype) \n",
    "# print(arr.shape) \n",
    "# print(arr.ndim)\n",
    "# print(arr.size)\n",
    "\n",
    "arr = np.zeros_like(arr3) ## arr3 shape same \n",
    "print(arr)\n",
    "print(arr.shape) "
   ]
  },
  {
   "cell_type": "code",
   "execution_count": 16,
   "metadata": {},
   "outputs": [
    {
     "name": "stdout",
     "output_type": "stream",
     "text": [
      "[[[1 1 1]\n",
      "  [1 1 1]]\n",
      "\n",
      " [[1 1 1]\n",
      "  [1 1 1]]\n",
      "\n",
      " [[1 1 1]\n",
      "  [1 1 1]]]\n",
      "(3, 2, 3)\n"
     ]
    }
   ],
   "source": [
    "#np.ones\n",
    "\n",
    "arr = np.ones((3,4,3),dtype=np.int8)\n",
    "\n",
    "# print(arr) \n",
    "# print(type(arr)) \n",
    "# print(arr.dtype) \n",
    "# print(arr.shape) \n",
    "# print(arr.ndim)\n",
    "# print(arr.size)\n",
    "\n",
    "\n",
    "arr = np.ones_like(arr3) ## arr3 shape same \n",
    "print(arr)\n",
    "print(arr.shape) \n"
   ]
  },
  {
   "cell_type": "code",
   "execution_count": 17,
   "metadata": {},
   "outputs": [
    {
     "name": "stdout",
     "output_type": "stream",
     "text": [
      "[[[1 1 1]\n",
      "  [1 1 1]]\n",
      "\n",
      " [[1 1 1]\n",
      "  [1 1 1]]\n",
      "\n",
      " [[1 1 1]\n",
      "  [1 1 1]]]\n",
      "(3, 2, 3)\n"
     ]
    }
   ],
   "source": [
    "#np.empty\n",
    "arr = np.empty((4,3),dtype=np.int8)\n",
    "\n",
    "# print(arr) \n",
    "# print(type(arr)) \n",
    "# print(arr.dtype) \n",
    "# print(arr.shape) \n",
    "# print(arr.ndim)\n",
    "# print(arr.size)\n",
    "\n",
    "arr = np.empty_like(arr3) ## arr3 shape same \n",
    "print(arr)\n",
    "print(arr.shape) "
   ]
  },
  {
   "cell_type": "code",
   "execution_count": 18,
   "metadata": {},
   "outputs": [
    {
     "name": "stdout",
     "output_type": "stream",
     "text": [
      "[[[inf inf inf]\n",
      "  [inf inf inf]]\n",
      "\n",
      " [[inf inf inf]\n",
      "  [inf inf inf]]\n",
      "\n",
      " [[inf inf inf]\n",
      "  [inf inf inf]]]\n",
      "(3, 2, 3)\n",
      "float64\n"
     ]
    }
   ],
   "source": [
    "#np.full \n",
    "\n",
    "arr = np.full((4,3),np.inf)\n",
    "\n",
    "# print(arr) \n",
    "# print(type(arr)) \n",
    "# print(arr.dtype) \n",
    "# print(arr.shape) \n",
    "# print(arr.ndim)\n",
    "# print(arr.size)\n",
    "\n",
    "\n",
    "arr = np.full_like(arr3,np.inf,dtype=np.float64) \n",
    "\n",
    "print(arr)\n",
    "print(arr.shape)\n",
    "print(arr.dtype)"
   ]
  },
  {
   "cell_type": "markdown",
   "id": "8d606f21",
   "metadata": {},
   "source": [
    "## array creation with random values"
   ]
  },
  {
   "cell_type": "code",
   "execution_count": 19,
   "metadata": {},
   "outputs": [
    {
     "name": "stdout",
     "output_type": "stream",
     "text": [
      "[[0.37512965 0.79898045 0.91400675]\n",
      " [0.78276265 0.0305652  0.31241807]]\n",
      "<class 'numpy.ndarray'>\n",
      "float64\n",
      "(2, 3)\n",
      "2\n",
      "6\n"
     ]
    }
   ],
   "source": [
    "# np.random.rand(shape) \n",
    "\n",
    "arr = np.random.rand(2,3) # 0 ->1 \n",
    "\n",
    "print(arr) \n",
    "print(type(arr)) \n",
    "print(arr.dtype) \n",
    "print(arr.shape) \n",
    "print(arr.ndim)\n",
    "print(arr.size)"
   ]
  },
  {
   "cell_type": "code",
   "execution_count": 20,
   "id": "38963650",
   "metadata": {},
   "outputs": [
    {
     "name": "stdout",
     "output_type": "stream",
     "text": [
      "[[7 2 4]\n",
      " [7 2 5]]\n",
      "<class 'numpy.ndarray'>\n",
      "int64\n",
      "(2, 3)\n",
      "2\n",
      "6\n"
     ]
    }
   ],
   "source": [
    "# np.random.randint(start,end, shape) \n",
    "\n",
    "arr = np.random.randint(1,10 , (2,3))  \n",
    "\n",
    "print(arr) \n",
    "print(type(arr)) \n",
    "print(arr.dtype) \n",
    "print(arr.shape) \n",
    "print(arr.ndim)\n",
    "print(arr.size)\n"
   ]
  },
  {
   "cell_type": "code",
   "execution_count": 21,
   "id": "1bd9d652",
   "metadata": {},
   "outputs": [
    {
     "name": "stdout",
     "output_type": "stream",
     "text": [
      "[[[87.04088813 87.77958218 60.00306604 82.90729526]\n",
      "  [74.95949521 98.70738514 58.81654547 73.11842172]\n",
      "  [60.84354451 71.72844699 87.98410391 61.26629295]]\n",
      "\n",
      " [[93.24744101 53.06840695 53.68639357 77.74112258]\n",
      "  [52.85265492 97.56163306 51.42035474 60.06344053]\n",
      "  [75.73621628 96.83043108 65.23543647 53.17686992]]\n",
      "\n",
      " [[72.17285303 87.71464712 62.75942089 84.59231565]\n",
      "  [62.08422868 84.9253128  60.2220991  82.55277077]\n",
      "  [73.61573874 74.82313992 83.81832615 60.76264549]]]\n",
      "<class 'numpy.ndarray'>\n",
      "float64\n",
      "(3, 3, 4)\n",
      "3\n",
      "36\n"
     ]
    }
   ],
   "source": [
    "# np.random.uniform(start,end, shape) \n",
    "\n",
    "arr = np.random.uniform(50,100, (3,3,4))   \n",
    "\n",
    "print(arr) \n",
    "print(type(arr)) \n",
    "print(arr.dtype) \n",
    "print(arr.shape) \n",
    "print(arr.ndim)\n",
    "print(arr.size)\n"
   ]
  },
  {
   "cell_type": "markdown",
   "id": "537b6005",
   "metadata": {},
   "source": [
    "## array creation with range functions\n"
   ]
  },
  {
   "cell_type": "code",
   "execution_count": 22,
   "id": "dca9736f",
   "metadata": {},
   "outputs": [
    {
     "name": "stdout",
     "output_type": "stream",
     "text": [
      "[1 2 3 4 5 6 7 8 9]\n",
      "[[1 2 3]\n",
      " [4 5 6]\n",
      " [7 8 9]]\n",
      "<class 'numpy.ndarray'>\n",
      "int64\n",
      "(9,)\n",
      "1\n",
      "9\n"
     ]
    }
   ],
   "source": [
    "# np.arange(first , end , step ) -> similar to range function \n",
    "\n",
    "arr = np.arange(1 , 10 ,1 )\n",
    "mat = arr.reshape(3,3) \n",
    "\n",
    "print(arr) \n",
    "print(mat) \n",
    "print(type(arr)) \n",
    "print(arr.dtype) \n",
    "print(arr.shape) \n",
    "print(arr.ndim)\n",
    "print(arr.size)"
   ]
  },
  {
   "cell_type": "code",
   "execution_count": 23,
   "id": "4315bdb8",
   "metadata": {},
   "outputs": [
    {
     "name": "stdout",
     "output_type": "stream",
     "text": [
      "[0.  0.8 1.6 2.4 3.2 4. ]\n",
      "<class 'numpy.ndarray'>\n",
      "float64\n",
      "(6,)\n",
      "1\n",
      "6\n"
     ]
    }
   ],
   "source": [
    "# np.linspace(start , end(included) , koita) \n",
    "\n",
    "arr = np.linspace(0, 4 ,6)\n",
    "\n",
    "\n",
    "print(arr) \n",
    "print(type(arr)) \n",
    "print(arr.dtype) \n",
    "print(arr.shape) \n",
    "print(arr.ndim)\n",
    "print(arr.size)"
   ]
  },
  {
   "cell_type": "code",
   "execution_count": 24,
   "id": "81380d54",
   "metadata": {},
   "outputs": [
    {
     "name": "stdout",
     "output_type": "stream",
     "text": [
      "[ 1.          1.74110113  3.03143313  5.27803164  9.18958684 16.        ]\n"
     ]
    }
   ],
   "source": [
    "# np.logspace(start , end(included) , koita ) \n",
    "\n",
    "arr = np.logspace(0 , 4 ,6, base =2) \n",
    "\n",
    "print(arr)"
   ]
  },
  {
   "cell_type": "markdown",
   "id": "b7aa48a6",
   "metadata": {},
   "source": [
    "## creating matrix for Linear algebra"
   ]
  },
  {
   "cell_type": "code",
   "execution_count": 25,
   "id": "22d7cd5d",
   "metadata": {},
   "outputs": [
    {
     "name": "stdout",
     "output_type": "stream",
     "text": [
      "[[1 0 0 0]\n",
      " [0 2 0 0]\n",
      " [0 0 3 0]\n",
      " [0 0 0 4]]\n",
      "(4, 4)\n"
     ]
    }
   ],
   "source": [
    "diagonal_matrix = np.diag([1,2,3,4])\n",
    "\n",
    "print(diagonal_matrix)\n",
    "print(diagonal_matrix.shape)"
   ]
  },
  {
   "cell_type": "code",
   "execution_count": 26,
   "id": "a654942b",
   "metadata": {},
   "outputs": [
    {
     "name": "stdout",
     "output_type": "stream",
     "text": [
      "[[1. 0. 0. 0.]\n",
      " [0. 1. 0. 0.]\n",
      " [0. 0. 1. 0.]]\n",
      "[[0. 1. 0. 0.]\n",
      " [0. 0. 1. 0.]\n",
      " [0. 0. 0. 1.]]\n"
     ]
    }
   ],
   "source": [
    "# identity matrix \n",
    "\n",
    "identity_mat = np.eye(4)\n",
    "# print(identity_mat)\n",
    "# print(identity_mat.shape)\n",
    "\n",
    "\n",
    "# np.eye(row , column,k) \n",
    "\n",
    "mat = np.eye(3,4)\n",
    "print(mat)\n",
    "\n",
    "mat = np.eye(3,4,1)\n",
    "print(mat)"
   ]
  },
  {
   "cell_type": "markdown",
   "id": "a73b9396",
   "metadata": {},
   "source": [
    "## indexing and slicing"
   ]
  },
  {
   "cell_type": "code",
   "execution_count": 27,
   "metadata": {},
   "outputs": [
    {
     "name": "stdout",
     "output_type": "stream",
     "text": [
      "[1 2 3 4 5]\n",
      "[[1 2 3]\n",
      " [4 5 6]]\n",
      "[[  1   2 100]\n",
      " [  4   5   6]]\n"
     ]
    }
   ],
   "source": [
    "#indexing \n",
    "\n",
    "print(arr1)\n",
    "print(arr2)\n",
    "\n",
    "# arr1[2] = 100 \n",
    "\n",
    "# print(arr1)\n",
    "arr2[0][2]= 100\n",
    "\n",
    "print(arr2)\n"
   ]
  },
  {
   "cell_type": "code",
   "execution_count": 28,
   "id": "7a0014e8",
   "metadata": {},
   "outputs": [
    {
     "name": "stdout",
     "output_type": "stream",
     "text": [
      "[  2   3 200]\n",
      "[1 2 3 4 5]\n"
     ]
    }
   ],
   "source": [
    "#slicing \n",
    "#1d = arr[start:end:step] \n",
    "\n",
    "arr1_mod = arr1[1:4].copy()\n",
    "arr1[1] = 2\n",
    "\n",
    "\n",
    "arr1_mod[2] = 200\n",
    "print(arr1_mod)\n",
    "print(arr1)"
   ]
  },
  {
   "cell_type": "code",
   "execution_count": 29,
   "id": "1ebd0b2a",
   "metadata": {},
   "outputs": [
    {
     "name": "stdout",
     "output_type": "stream",
     "text": [
      "[[1]\n",
      " [4]]\n",
      "[[2]\n",
      " [5]]\n",
      "[[1 2]\n",
      " [4 5]]\n"
     ]
    }
   ],
   "source": [
    "#2d slicing \n",
    "# arr[ row_start : row_end : step , column_start : column_end : step ]\n",
    "\n",
    "# print(arr2) \n",
    "\n",
    "#getting a row \n",
    "\n",
    "row_0 = arr2[0:1 ,]\n",
    "\n",
    "row_1= arr2[1: , ]\n",
    "\n",
    "# print(row_0)\n",
    "# print(row_1)\n",
    "\n",
    "\n",
    "#getting a column \n",
    "\n",
    "col_0 = arr2[:: ,0:1]\n",
    "col_1 = arr2[::,1:2]\n",
    "\n",
    "print(col_0)\n",
    "print(col_1)\n",
    "\n",
    "#getting a portion \n",
    "\n",
    "\n",
    "portion = arr2[:: , 0:2] \n",
    "\n",
    "print(portion)"
   ]
  },
  {
   "cell_type": "markdown",
   "id": "b5d12314",
   "metadata": {},
   "source": [
    "## Advanced Indexing"
   ]
  },
  {
   "cell_type": "code",
   "execution_count": 30,
   "id": "12b97948",
   "metadata": {},
   "outputs": [
    {
     "name": "stdout",
     "output_type": "stream",
     "text": [
      "[10 40 20]\n"
     ]
    }
   ],
   "source": [
    "lst = np.array([ 10 , 20 ,30 ,40 ]) \n",
    "\n",
    "values = lst[[0,3,1]]\n",
    "\n",
    "print(values)"
   ]
  },
  {
   "cell_type": "code",
   "execution_count": 31,
   "id": "4f09c823",
   "metadata": {},
   "outputs": [
    {
     "name": "stdout",
     "output_type": "stream",
     "text": [
      "[[  1   2 100]\n",
      " [  4   5   6]]\n",
      "[2 6]\n"
     ]
    },
    {
     "ename": "IndexError",
     "evalue": "boolean index did not match indexed array along dimension 0; dimension is 2 but corresponding boolean dimension is 6",
     "output_type": "error",
     "traceback": [
      "\u001b[0;31m---------------------------------------------------------------------------\u001b[0m",
      "\u001b[0;31mIndexError\u001b[0m                                Traceback (most recent call last)",
      "Cell \u001b[0;32mIn[31], line 5\u001b[0m\n\u001b[1;32m      2\u001b[0m \u001b[38;5;28mprint\u001b[39m(arr2[[\u001b[38;5;241m0\u001b[39m,\u001b[38;5;241m1\u001b[39m] , [\u001b[38;5;241m1\u001b[39m,\u001b[38;5;241m2\u001b[39m]])\n\u001b[1;32m      4\u001b[0m \u001b[38;5;66;03m# boolean kono kichu diye\u001b[39;00m\n\u001b[0;32m----> 5\u001b[0m \u001b[38;5;28mprint\u001b[39m(\u001b[43marr2\u001b[49m\u001b[43m[\u001b[49m\u001b[43marr\u001b[49m\u001b[38;5;241;43m>\u001b[39;49m\u001b[38;5;241;43m1\u001b[39;49m\u001b[43m]\u001b[49m)\n\u001b[1;32m      6\u001b[0m arr2[arr2\u001b[38;5;241m>\u001b[39m\u001b[38;5;241m2\u001b[39m] \u001b[38;5;241m=\u001b[39m \u001b[38;5;241m0\u001b[39m \n\u001b[1;32m      8\u001b[0m \u001b[38;5;28mprint\u001b[39m(arr2)\n",
      "\u001b[0;31mIndexError\u001b[0m: boolean index did not match indexed array along dimension 0; dimension is 2 but corresponding boolean dimension is 6"
     ]
    }
   ],
   "source": [
    "print(arr2)\n",
    "print(arr2[[0,1] , [1,2]])\n",
    "\n",
    "# boolean kono kichu diye\n",
    "print(arr2[arr>1])\n",
    "arr2[arr2>2] = 0 \n",
    "\n",
    "print(arr2)"
   ]
  },
  {
   "cell_type": "code",
   "execution_count": 32,
   "metadata": {},
   "outputs": [
    {
     "name": "stdout",
     "output_type": "stream",
     "text": [
      "[[  1   2 100]\n",
      " [  4   5   6]]\n"
     ]
    }
   ],
   "source": [
    "print(arr2)"
   ]
  },
  {
   "cell_type": "code",
   "execution_count": 33,
   "metadata": {},
   "outputs": [
    {
     "name": "stdout",
     "output_type": "stream",
     "text": [
      "[[[1 2 3]\n",
      "  [4 5 6]]\n",
      "\n",
      " [[1 2 3]\n",
      "  [4 5 6]]\n",
      "\n",
      " [[1 2 3]\n",
      "  [4 5 6]]]\n",
      "1\n",
      "2\n",
      "3\n",
      "4\n",
      "5\n",
      "6\n",
      "1\n",
      "2\n",
      "3\n",
      "4\n",
      "5\n",
      "6\n",
      "1\n",
      "2\n",
      "3\n",
      "4\n",
      "5\n",
      "6\n"
     ]
    }
   ],
   "source": [
    "arr  = np.array([[10,20,30] , [100,200,300] ] )\n",
    "\n",
    "# iteration \n",
    "print(arr3)\n",
    "for i in np.nditer(arr3):\n",
    "    print(i)"
   ]
  },
  {
   "cell_type": "code",
   "execution_count": 34,
   "metadata": {},
   "outputs": [
    {
     "name": "stdout",
     "output_type": "stream",
     "text": [
      "1\n"
     ]
    }
   ],
   "source": [
    "arr = np.array([1, 2, 3])\n",
    "print(arr.ndim)\n"
   ]
  },
  {
   "cell_type": "code",
   "execution_count": 35,
   "id": "06575653",
   "metadata": {},
   "outputs": [
    {
     "name": "stdout",
     "output_type": "stream",
     "text": [
      "[[inf inf]\n",
      " [inf inf]]\n"
     ]
    }
   ],
   "source": [
    "arr = np.full((2,2), np.inf)\n",
    "print(arr)"
   ]
  },
  {
   "cell_type": "code",
   "execution_count": 36,
   "id": "799ae339",
   "metadata": {},
   "outputs": [
    {
     "name": "stdout",
     "output_type": "stream",
     "text": [
      "[1 0 0 0 5]\n"
     ]
    }
   ],
   "source": [
    "import numpy as np\n",
    "arr = np.array([1, 2, 3, 4, 5])\n",
    "arr[1:4] = 0\n",
    "print(arr)\n"
   ]
  }
 ],
 "metadata": {
  "kernelspec": {
   "display_name": "Python 3",
   "language": "python",
   "name": "python3"
  },
  "language_info": {
   "codemirror_mode": {
    "name": "ipython",
    "version": 3
   },
   "file_extension": ".py",
   "mimetype": "text/x-python",
   "name": "python",
   "nbconvert_exporter": "python",
   "pygments_lexer": "ipython3",
   "version": "3.12.3"
  }
 },
 "nbformat": 4,
 "nbformat_minor": 5
}
