{
 "cells": [
  {
   "cell_type": "markdown",
   "id": "d95ac0af",
   "metadata": {},
   "source": [
    "## Variables and Data Type"
   ]
  },
  {
   "cell_type": "code",
   "execution_count": 1,
   "id": "7c037338",
   "metadata": {},
   "outputs": [
    {
     "name": "stdout",
     "output_type": "stream",
     "text": [
      "4562492345\n"
     ]
    }
   ],
   "source": [
    "phone_num = 4562492345 \n",
    "\n",
    "print(phone_num)"
   ]
  },
  {
   "cell_type": "markdown",
   "id": "8a62d4f3",
   "metadata": {},
   "source": [
    "##  Operators in Python"
   ]
  },
  {
   "cell_type": "code",
   "execution_count": 2,
   "id": "0a4b1ef3",
   "metadata": {},
   "outputs": [
    {
     "name": "stdout",
     "output_type": "stream",
     "text": [
      "13 7 30 3.33 1\n"
     ]
    }
   ],
   "source": [
    "x = 10 ; y = 3 \n",
    "\n",
    "sum = x + y # summation \n",
    "sub = x - y # subtraction\n",
    "mult = x * y # multiplication\n",
    "div = round(x / y , 2) # division \n",
    "\n",
    "rem = x % y # remainder \n",
    "\n",
    "print(sum , sub , mult, div , rem)"
   ]
  },
  {
   "cell_type": "code",
   "execution_count": 3,
   "id": "2d1fd1cd",
   "metadata": {},
   "outputs": [
    {
     "name": "stdout",
     "output_type": "stream",
     "text": [
      "True True\n",
      "False True\n",
      "False\n",
      "True\n"
     ]
    }
   ],
   "source": [
    "x = 10 ; y = 3 \n",
    "\n",
    "greater_than = x > y \n",
    "greater_than_equal = (10 >= 10)\n",
    "\n",
    "print(greater_than , greater_than_equal)\n",
    "\n",
    "\n",
    "less_than = x < y \n",
    "less_than_equal = (10 <= 10)\n",
    "\n",
    "print(less_than , less_than_equal)\n",
    "\n",
    "equal = x==y\n",
    "\n",
    "print(equal)\n",
    "\n",
    "\n",
    "not_equal = x != y\n",
    "print(not_equal)"
   ]
  },
  {
   "cell_type": "markdown",
   "id": "afd01157",
   "metadata": {},
   "source": [
    "## Precedence and Associativity"
   ]
  },
  {
   "cell_type": "code",
   "execution_count": 4,
   "id": "67c9608b",
   "metadata": {},
   "outputs": [
    {
     "name": "stdout",
     "output_type": "stream",
     "text": [
      "5.0\n",
      "0.0\n"
     ]
    }
   ],
   "source": [
    "eq = 10 + 10/2 - 5*2 # precedency maintain korbe\n",
    "print(eq)\n",
    "\n",
    "eq = (10+10)/2 - 5*2 ## ekhane bracket e part tuku ageh compute hobe \n",
    "\n",
    "print(eq)"
   ]
  }
 ],
 "metadata": {
  "kernelspec": {
   "display_name": "Python 3",
   "language": "python",
   "name": "python3"
  },
  "language_info": {
   "codemirror_mode": {
    "name": "ipython",
    "version": 3
   },
   "file_extension": ".py",
   "mimetype": "text/x-python",
   "name": "python",
   "nbconvert_exporter": "python",
   "pygments_lexer": "ipython3",
   "version": "3.12.3"
  }
 },
 "nbformat": 4,
 "nbformat_minor": 5
}
