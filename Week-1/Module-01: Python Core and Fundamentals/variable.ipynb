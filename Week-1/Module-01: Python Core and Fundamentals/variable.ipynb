{
 "cells": [
  {
   "cell_type": "code",
   "execution_count": 19,
   "id": "f9e2c938",
   "metadata": {},
   "outputs": [
    {
     "name": "stdout",
     "output_type": "stream",
     "text": [
      "12345678\n"
     ]
    }
   ],
   "source": [
    "phone_number=12345678\n",
    "\n",
    "print(phone_number)"
   ]
  },
  {
   "cell_type": "code",
   "execution_count": 20,
   "id": "d89c1729",
   "metadata": {},
   "outputs": [
    {
     "name": "stdout",
     "output_type": "stream",
     "text": [
      "Rabeya\n"
     ]
    }
   ],
   "source": [
    "name=\"Rabeya\"\n",
    "print(name)"
   ]
  },
  {
   "cell_type": "code",
   "execution_count": 21,
   "id": "69b3c381",
   "metadata": {},
   "outputs": [
    {
     "name": "stdout",
     "output_type": "stream",
     "text": [
      "<class 'int'> <class 'float'> <class 'str'> <class 'bool'>\n",
      "<class 'float'>\n"
     ]
    }
   ],
   "source": [
    "age=20\n",
    "hight=5.6\n",
    "name='Rabeya'\n",
    "is_passed=True\n",
    "\n",
    "print(type(age),type(hight),type(name),type(is_passed))\n",
    "age=222.88\n",
    "print(type(age))"
   ]
  },
  {
   "cell_type": "code",
   "execution_count": null,
   "id": "9be477f6",
   "metadata": {},
   "outputs": [],
   "source": [
    "name=input(\"what is your name?\")\n",
    "print(name)"
   ]
  },
  {
   "cell_type": "code",
   "execution_count": 6,
   "id": "7aa4569b",
   "metadata": {},
   "outputs": [
    {
     "name": "stdout",
     "output_type": "stream",
     "text": [
      "12 <class 'str'>\n"
     ]
    }
   ],
   "source": [
    "age=input(\"Age  ?\")\n",
    "print(age,type(age))\n",
    "\n",
    "#string hisabe input nise"
   ]
  },
  {
   "cell_type": "code",
   "execution_count": null,
   "id": "e157dd19",
   "metadata": {},
   "outputs": [
    {
     "name": "stdout",
     "output_type": "stream",
     "text": [
      "23 <class 'int'>\n"
     ]
    }
   ],
   "source": [
    "age=input(\"Age  ?\")\n",
    "age=int(age)# integar ee convert\n",
    "print(age,type(age))"
   ]
  },
  {
   "cell_type": "code",
   "execution_count": null,
   "id": "b5cb849b",
   "metadata": {},
   "outputs": [
    {
     "name": "stdout",
     "output_type": "stream",
     "text": [
      "66 <class 'int'>\n"
     ]
    }
   ],
   "source": [
    "age=int(input(\"Age  ?\"))\n",
    "print(age,type(age))"
   ]
  },
  {
   "cell_type": "code",
   "execution_count": null,
   "id": "16eefc9d",
   "metadata": {},
   "outputs": [
    {
     "name": "stdout",
     "output_type": "stream",
     "text": [
      "<class 'float'>\n"
     ]
    }
   ],
   "source": [
    "height=float(input(\"Height   ??\"))\n",
    "print(type(height))"
   ]
  },
  {
   "cell_type": "markdown",
   "id": "ea6935a6",
   "metadata": {},
   "source": [
    "### Operators in Python"
   ]
  },
  {
   "cell_type": "code",
   "execution_count": 4,
   "id": "9f7d1157",
   "metadata": {},
   "outputs": [
    {
     "name": "stdout",
     "output_type": "stream",
     "text": [
      "13 7 30 3.33 1\n"
     ]
    }
   ],
   "source": [
    "x=10;y=3\n",
    "sum=x+y\n",
    "sub=x-y\n",
    "mult=x*y\n",
    "div=round(x/y,2)\n",
    "rem=x%y\n",
    "print(sum,sub,mult,div,rem)"
   ]
  },
  {
   "cell_type": "code",
   "execution_count": 5,
   "id": "adffc3f7",
   "metadata": {},
   "outputs": [
    {
     "name": "stdout",
     "output_type": "stream",
     "text": [
      "False True\n"
     ]
    }
   ],
   "source": [
    "x=10;y=3\n",
    "greater_than =x>10\n",
    "greater_than_equal=(10>=10)\n",
    "print(greater_than,greater_than_equal)"
   ]
  },
  {
   "cell_type": "markdown",
   "id": "71678c9e",
   "metadata": {},
   "source": [
    "## Logical Operator\n",
    "\n"
   ]
  },
  {
   "cell_type": "code",
   "execution_count": 9,
   "id": "03e4c423",
   "metadata": {},
   "outputs": [
    {
     "name": "stdout",
     "output_type": "stream",
     "text": [
      "True\n"
     ]
    }
   ],
   "source": [
    "x=10;y=5;z=3\n",
    "result=(x>y)and (x>z)\n",
    "print(result)"
   ]
  },
  {
   "cell_type": "code",
   "execution_count": null,
   "id": "57edfe29",
   "metadata": {},
   "outputs": [],
   "source": []
  },
  {
   "cell_type": "markdown",
   "id": "eff89825",
   "metadata": {},
   "source": [
    "## Precedence and Associativity"
   ]
  },
  {
   "cell_type": "code",
   "execution_count": 13,
   "id": "9384238b",
   "metadata": {},
   "outputs": [
    {
     "name": "stdout",
     "output_type": "stream",
     "text": [
      "0.0\n"
     ]
    }
   ],
   "source": [
    "eq=(10+10)/2 -5*2\n",
    "print(eq)"
   ]
  },
  {
   "cell_type": "code",
   "execution_count": 16,
   "id": "41d15486",
   "metadata": {},
   "outputs": [
    {
     "name": "stdout",
     "output_type": "stream",
     "text": [
      "10\n"
     ]
    }
   ],
   "source": [
    "x=int(input())\n",
    "y=int(input())\n",
    "\n",
    "last_digit_of_x=x%10\n",
    "last_digit_of_y=y%10\n",
    "\n",
    "sum= last_digit_of_x + last_digit_of_y\n",
    "\n",
    "print(sum)\n"
   ]
  },
  {
   "cell_type": "code",
   "execution_count": null,
   "id": "cca26549",
   "metadata": {},
   "outputs": [
    {
     "name": "stdout",
     "output_type": "stream",
     "text": [
      "<class 'float'>\n"
     ]
    }
   ],
   "source": []
  }
 ],
 "metadata": {
  "kernelspec": {
   "display_name": "Python 3",
   "language": "python",
   "name": "python3"
  },
  "language_info": {
   "codemirror_mode": {
    "name": "ipython",
    "version": 3
   },
   "file_extension": ".py",
   "mimetype": "text/x-python",
   "name": "python",
   "nbconvert_exporter": "python",
   "pygments_lexer": "ipython3",
   "version": "3.12.3"
  }
 },
 "nbformat": 4,
 "nbformat_minor": 5
}
