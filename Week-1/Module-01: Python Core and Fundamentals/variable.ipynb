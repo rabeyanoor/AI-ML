{
 "cells": [
  {
   "cell_type": "code",
   "execution_count": 21,
   "id": "f9e2c938",
   "metadata": {},
   "outputs": [
    {
     "name": "stdout",
     "output_type": "stream",
     "text": [
      "12345678\n"
     ]
    }
   ],
   "source": [
    "phone_number=12345678\n",
    "\n",
    "print(phone_number)"
   ]
  },
  {
   "cell_type": "code",
   "execution_count": 22,
   "id": "b5cd203f",
   "metadata": {},
   "outputs": [
    {
     "name": "stdout",
     "output_type": "stream",
     "text": [
      "Hello\n",
      "World\n",
      "Good Bye\n"
     ]
    }
   ],
   "source": [
    "print(\"Hello\")\n",
    "print(\"World\")\n",
    "print(\"Good Bye\")"
   ]
  },
  {
   "cell_type": "code",
   "execution_count": null,
   "id": "d74e4183",
   "metadata": {},
   "outputs": [],
   "source": []
  },
  {
   "cell_type": "code",
   "execution_count": 23,
   "id": "d89c1729",
   "metadata": {},
   "outputs": [
    {
     "name": "stdout",
     "output_type": "stream",
     "text": [
      "Rabeya\n"
     ]
    }
   ],
   "source": [
    "name=\"Rabeya\"\n",
    "print(name)"
   ]
  },
  {
   "cell_type": "code",
   "execution_count": 24,
   "id": "69b3c381",
   "metadata": {},
   "outputs": [
    {
     "name": "stdout",
     "output_type": "stream",
     "text": [
      "<class 'int'> <class 'float'> <class 'str'> <class 'bool'>\n",
      "<class 'float'>\n"
     ]
    }
   ],
   "source": [
    "age=20\n",
    "hight=5.6\n",
    "name='Rabeya'\n",
    "is_passed=True\n",
    "\n",
    "print(type(age),type(hight),type(name),type(is_passed))\n",
    "age=222.88\n",
    "print(type(age))"
   ]
  },
  {
   "cell_type": "code",
   "execution_count": null,
   "id": "9be477f6",
   "metadata": {},
   "outputs": [],
   "source": [
    "name=input(\"what is your name?\")\n",
    "print(name)"
   ]
  },
  {
   "cell_type": "code",
   "execution_count": null,
   "id": "7aa4569b",
   "metadata": {},
   "outputs": [
    {
     "name": "stdout",
     "output_type": "stream",
     "text": [
      "12 <class 'str'>\n"
     ]
    }
   ],
   "source": [
    "age=input(\"Age  ?\")\n",
    "print(age,type(age))\n",
    "\n",
    "#string hisabe input nise"
   ]
  },
  {
   "cell_type": "code",
   "execution_count": null,
   "id": "e157dd19",
   "metadata": {},
   "outputs": [
    {
     "name": "stdout",
     "output_type": "stream",
     "text": [
      "23 <class 'int'>\n"
     ]
    }
   ],
   "source": [
    "age=input(\"Age  ?\")\n",
    "age=int(age)# integar ee convert\n",
    "print(age,type(age))"
   ]
  },
  {
   "cell_type": "code",
   "execution_count": null,
   "id": "b5cb849b",
   "metadata": {},
   "outputs": [
    {
     "name": "stdout",
     "output_type": "stream",
     "text": [
      "66 <class 'int'>\n"
     ]
    }
   ],
   "source": [
    "age=int(input(\"Age  ?\"))\n",
    "print(age,type(age))"
   ]
  },
  {
   "cell_type": "code",
   "execution_count": null,
   "id": "16eefc9d",
   "metadata": {},
   "outputs": [
    {
     "name": "stdout",
     "output_type": "stream",
     "text": [
      "<class 'float'>\n"
     ]
    }
   ],
   "source": [
    "height=float(input(\"Height   ??\"))\n",
    "print(type(height))"
   ]
  },
  {
   "cell_type": "markdown",
   "id": "ea6935a6",
   "metadata": {},
   "source": [
    "### Operators in Python"
   ]
  },
  {
   "cell_type": "code",
   "execution_count": null,
   "id": "9f7d1157",
   "metadata": {},
   "outputs": [
    {
     "name": "stdout",
     "output_type": "stream",
     "text": [
      "13 7 30 3.33 1\n"
     ]
    }
   ],
   "source": [
    "x=10;y=3\n",
    "sum=x+y\n",
    "sub=x-y\n",
    "mult=x*y\n",
    "div=round(x/y,2)\n",
    "rem=x%y\n",
    "print(sum,sub,mult,div,rem)"
   ]
  },
  {
   "cell_type": "code",
   "execution_count": null,
   "id": "adffc3f7",
   "metadata": {},
   "outputs": [
    {
     "name": "stdout",
     "output_type": "stream",
     "text": [
      "False True\n"
     ]
    }
   ],
   "source": [
    "x=10;y=3\n",
    "greater_than =x>10\n",
    "greater_than_equal=(10>=10)\n",
    "print(greater_than,greater_than_equal)"
   ]
  },
  {
   "cell_type": "markdown",
   "id": "71678c9e",
   "metadata": {},
   "source": [
    "## Logical Operator\n",
    "\n"
   ]
  },
  {
   "cell_type": "code",
   "execution_count": null,
   "id": "03e4c423",
   "metadata": {},
   "outputs": [
    {
     "name": "stdout",
     "output_type": "stream",
     "text": [
      "True\n"
     ]
    }
   ],
   "source": [
    "x=10;y=5;z=3\n",
    "result=(x>y)and (x>z)\n",
    "print(result)"
   ]
  },
  {
   "cell_type": "code",
   "execution_count": null,
   "id": "57edfe29",
   "metadata": {},
   "outputs": [],
   "source": []
  },
  {
   "cell_type": "markdown",
   "id": "eff89825",
   "metadata": {},
   "source": [
    "## Precedence and Associativity"
   ]
  },
  {
   "cell_type": "code",
   "execution_count": null,
   "id": "9384238b",
   "metadata": {},
   "outputs": [
    {
     "name": "stdout",
     "output_type": "stream",
     "text": [
      "0.0\n"
     ]
    }
   ],
   "source": [
    "eq=(10+10)/2 -5*2\n",
    "print(eq)"
   ]
  },
  {
   "cell_type": "code",
   "execution_count": null,
   "id": "41d15486",
   "metadata": {},
   "outputs": [
    {
     "name": "stdout",
     "output_type": "stream",
     "text": [
      "10\n"
     ]
    }
   ],
   "source": [
    "x=int(input())\n",
    "y=int(input())\n",
    "\n",
    "last_digit_of_x=x%10\n",
    "last_digit_of_y=y%10\n",
    "\n",
    "sum= last_digit_of_x + last_digit_of_y\n",
    "\n",
    "print(sum)\n"
   ]
  },
  {
   "cell_type": "code",
   "execution_count": null,
   "id": "cca26549",
   "metadata": {},
   "outputs": [
    {
     "name": "stdout",
     "output_type": "stream",
     "text": [
      "12 13 <class 'str'>\n"
     ]
    }
   ],
   "source": [
    "x=input()\n",
    "\n",
    "print(x,type(x))\n"
   ]
  },
  {
   "cell_type": "code",
   "execution_count": null,
   "id": "0bd8bee6",
   "metadata": {},
   "outputs": [
    {
     "data": {
      "text/plain": [
       "['12', '13']"
      ]
     },
     "execution_count": 3,
     "metadata": {},
     "output_type": "execute_result"
    }
   ],
   "source": [
    "inp = input()\n",
    "x=inp.split()\n",
    "x\n"
   ]
  },
  {
   "cell_type": "code",
   "execution_count": null,
   "id": "5da015c5",
   "metadata": {},
   "outputs": [
    {
     "name": "stdout",
     "output_type": "stream",
     "text": [
      "<class 'str'> <class 'str'>\n"
     ]
    }
   ],
   "source": [
    "inp = input()\n",
    "num=inp.split()\n",
    "x=num[0]\n",
    "y=num[1]\n",
    "\n",
    "print(type(x),type(y))\n"
   ]
  },
  {
   "cell_type": "code",
   "execution_count": null,
   "id": "8cea5bf0",
   "metadata": {},
   "outputs": [
    {
     "name": "stdout",
     "output_type": "stream",
     "text": [
      "<class 'int'> <class 'int'>\n"
     ]
    }
   ],
   "source": [
    "inp = input()\n",
    "num=inp.split()\n",
    "x=int(num[0])\n",
    "y=int(num[1])\n",
    "\n",
    "print(type(x),type(y))\n"
   ]
  },
  {
   "cell_type": "code",
   "execution_count": null,
   "id": "56f54823",
   "metadata": {},
   "outputs": [
    {
     "name": "stdout",
     "output_type": "stream",
     "text": [
      "5\n"
     ]
    }
   ],
   "source": [
    "inp = input()\n",
    "num=inp.split()\n",
    "x=int(num[0])\n",
    "y=int(num[1])\n",
    "\n",
    "last_digit_of_x=x%10\n",
    "last_digit_of_y=y%10\n",
    "\n",
    "sum= last_digit_of_x + last_digit_of_y\n",
    "\n",
    "print(sum)\n"
   ]
  },
  {
   "cell_type": "markdown",
   "id": "7b97d4b4",
   "metadata": {},
   "source": [
    "## Conditional statements in Python\n"
   ]
  },
  {
   "cell_type": "code",
   "execution_count": null,
   "id": "d9d21d55",
   "metadata": {},
   "outputs": [
    {
     "name": "stdout",
     "output_type": "stream",
     "text": [
      "Rain coat is necessary\n"
     ]
    }
   ],
   "source": [
    "raining = True\n",
    "\n",
    "if raining== True :\n",
    "    print(\"Rain coat is necessary\")\n",
    "else:\n",
    "    print(\"Go without a rain coat\")"
   ]
  },
  {
   "cell_type": "code",
   "execution_count": null,
   "id": "6072b98c",
   "metadata": {},
   "outputs": [
    {
     "name": "stdout",
     "output_type": "stream",
     "text": [
      "Go without a rain coat\n"
     ]
    }
   ],
   "source": [
    "raining = False\n",
    "\n",
    "if raining== True :\n",
    "    print(\"Rain coat is necessary\")\n",
    "else:\n",
    "    print(\"Go without a rain coat\")"
   ]
  },
  {
   "cell_type": "code",
   "execution_count": null,
   "id": "db60d64a",
   "metadata": {},
   "outputs": [
    {
     "name": "stdout",
     "output_type": "stream",
     "text": [
      "Rain coat is necessary\n",
      "Sandal is necessary\n"
     ]
    }
   ],
   "source": [
    "raining = True\n",
    "Muddy = True\n",
    "\n",
    "if raining== True :\n",
    "    print(\"Rain coat is necessary\")\n",
    "    if Muddy ==True :\n",
    "        print(\"Sandal is necessary\")\n",
    "else:\n",
    "    print(\"Go without a rain coat\")"
   ]
  },
  {
   "cell_type": "code",
   "execution_count": null,
   "id": "fe3810ee",
   "metadata": {},
   "outputs": [
    {
     "name": "stdout",
     "output_type": "stream",
     "text": [
      "gurte jabo\n"
     ]
    }
   ],
   "source": [
    "taka = 1000\n",
    "if taka > 500 :\n",
    "   print(\"gurte jabo\")\n",
    "elif taka >400:\n",
    "   print(\"Bashai order korbo\")\n",
    "else :\n",
    "  print(\"Taka ta save korbo\")"
   ]
  },
  {
   "cell_type": "code",
   "execution_count": null,
   "id": "2749664e",
   "metadata": {},
   "outputs": [
    {
     "name": "stdout",
     "output_type": "stream",
     "text": [
      "Bashai order korbo\n"
     ]
    }
   ],
   "source": [
    "taka = 1000\n",
    "raining = False\n",
    "if taka > 500  and raining ==True:\n",
    "   print(\"gurte jabo\")\n",
    "elif taka >400:\n",
    "   print(\"Bashai order korbo\")\n",
    "else :\n",
    "  print(\"Taka ta save korbo\")"
   ]
  },
  {
   "cell_type": "markdown",
   "id": "2bd4ceed",
   "metadata": {},
   "source": [
    "## Loop in Python"
   ]
  },
  {
   "cell_type": "code",
   "execution_count": 9,
   "id": "a04b8117",
   "metadata": {},
   "outputs": [
    {
     "name": "stdout",
     "output_type": "stream",
     "text": [
      "0 Hello world\n",
      "1 Hello world\n",
      "2 Hello world\n",
      "3 Hello world\n",
      "4 Hello world\n",
      "5 Hello world\n",
      "6 Hello world\n",
      "7 Hello world\n",
      "8 Hello world\n",
      "9 Hello world\n"
     ]
    }
   ],
   "source": [
    "for i in range(10):\n",
    "    print(i ,\"Hello world\")\n",
    "\n",
    "   "
   ]
  },
  {
   "cell_type": "code",
   "execution_count": 10,
   "id": "2b270c51",
   "metadata": {},
   "outputs": [
    {
     "name": "stdout",
     "output_type": "stream",
     "text": [
      "0 Hello world\n",
      "1 Hello world\n",
      "2 Hello world\n",
      "3 Hello world\n",
      "4 Hello world\n",
      "5 Hello world\n",
      "6 Hello world\n",
      "7 Hello world\n",
      "8 Hello world\n",
      "9 Hello world\n"
     ]
    },
    {
     "data": {
      "text/plain": [
       "[0, 1, 2, 3, 4, 5, 6, 7, 8, 9, 10, 11, 12, 13, 14]"
      ]
     },
     "execution_count": 10,
     "metadata": {},
     "output_type": "execute_result"
    }
   ],
   "source": [
    "for i in range(10):\n",
    "    print(i ,\"Hello world\")\n",
    "\n",
    "list(range(15))"
   ]
  },
  {
   "cell_type": "code",
   "execution_count": 11,
   "id": "0862f84d",
   "metadata": {},
   "outputs": [
    {
     "name": "stdout",
     "output_type": "stream",
     "text": [
      "1 Hello world\n",
      "2 Hello world\n",
      "3 Hello world\n",
      "4 Hello world\n",
      "5 Hello world\n",
      "6 Hello world\n",
      "7 Hello world\n",
      "8 Hello world\n",
      "9 Hello world\n"
     ]
    }
   ],
   "source": [
    "# range (start,end,step)\n",
    "for i in range(1,10):\n",
    "    print(i ,\"Hello world\")\n"
   ]
  },
  {
   "cell_type": "code",
   "execution_count": 12,
   "id": "1554658c",
   "metadata": {},
   "outputs": [
    {
     "name": "stdout",
     "output_type": "stream",
     "text": [
      "1 Hello world\n",
      "4 Hello world\n",
      "7 Hello world\n"
     ]
    }
   ],
   "source": [
    "# range (start,end,step)\n",
    "for i in range(1,10,3):\n",
    "    print(i ,\"Hello world\")\n"
   ]
  },
  {
   "cell_type": "code",
   "execution_count": 15,
   "id": "10e67d06",
   "metadata": {},
   "outputs": [
    {
     "name": "stdout",
     "output_type": "stream",
     "text": [
      "1 1\n",
      "1 2\n",
      "1 3\n",
      "1 4\n",
      "2 1\n",
      "2 2\n",
      "2 3\n",
      "2 4\n",
      "3 1\n",
      "3 2\n",
      "3 3\n",
      "3 4\n",
      "4 1\n",
      "4 2\n",
      "4 3\n",
      "4 4\n",
      "5 1\n",
      "5 2\n",
      "5 3\n",
      "5 4\n",
      "6 1\n",
      "6 2\n",
      "6 3\n",
      "6 4\n",
      "7 1\n",
      "7 2\n",
      "7 3\n",
      "7 4\n",
      "8 1\n",
      "8 2\n",
      "8 3\n",
      "8 4\n",
      "9 1\n",
      "9 2\n",
      "9 3\n",
      "9 4\n"
     ]
    }
   ],
   "source": [
    "for i in range (1,10):\n",
    "    for j in range(1,5):\n",
    "        print(i,j)"
   ]
  },
  {
   "cell_type": "code",
   "execution_count": 26,
   "id": "4d1ef2b8",
   "metadata": {},
   "outputs": [
    {
     "name": "stdout",
     "output_type": "stream",
     "text": [
      "hello world\n",
      "hello world\n",
      "hello world\n",
      "hello world\n",
      "hello world\n",
      "hello world\n",
      "hello world\n",
      "hello world\n",
      "hello world\n",
      "10\n"
     ]
    }
   ],
   "source": [
    "count =1\n",
    "while count < 10 :\n",
    "    print(\"hello world\")\n",
    "    count =count +1\n",
    "\n",
    "print(count)"
   ]
  },
  {
   "cell_type": "code",
   "execution_count": 28,
   "id": "26c1be25",
   "metadata": {},
   "outputs": [
    {
     "name": "stdout",
     "output_type": "stream",
     "text": [
      "1 is added to the sum\n",
      "2 is added to the sum\n",
      "3 is added to the sum\n",
      "4 is added to the sum\n",
      "5 is added to the sum\n",
      "6 is added to the sum\n",
      "7 is added to the sum\n",
      "8 is added to the sum\n",
      "9 is added to the sum\n",
      "10 is added to the sum\n",
      "55\n"
     ]
    }
   ],
   "source": [
    "sum = 0\n",
    " \n",
    "for i in range(1,11):\n",
    "    sum+=i\n",
    "    print(i,\"is added to the sum\") \n",
    "print(sum)    "
   ]
  },
  {
   "cell_type": "code",
   "execution_count": 30,
   "id": "1b5af744",
   "metadata": {},
   "outputs": [
    {
     "name": "stdout",
     "output_type": "stream",
     "text": [
      "1 is added to the sum\n",
      "3 is added to the sum\n",
      "5 is added to the sum\n",
      "7 is added to the sum\n",
      "9 is added to the sum\n"
     ]
    }
   ],
   "source": [
    "sum = 0\n",
    " \n",
    "for i in range(1,11):\n",
    "    \n",
    "    if i%2 ==0 :\n",
    "        continue\n",
    "    sum+=i\n",
    "    print(i,\"is added to the sum\") \n",
    "    "
   ]
  },
  {
   "cell_type": "code",
   "execution_count": 37,
   "id": "b131fa72",
   "metadata": {},
   "outputs": [
    {
     "name": "stdout",
     "output_type": "stream",
     "text": [
      "96\n",
      "97\n",
      "98\n",
      "99\n",
      "100\n"
     ]
    }
   ],
   "source": [
    "accuracy =95\n",
    "\n",
    "for i in range(20):\n",
    "   accuracy+=1\n",
    "   print(accuracy)\n",
    "   if accuracy== 100:\n",
    "      break "
   ]
  },
  {
   "cell_type": "code",
   "execution_count": 17,
   "id": "f98ffd56",
   "metadata": {},
   "outputs": [
    {
     "name": "stdout",
     "output_type": "stream",
     "text": [
      "Done\n"
     ]
    }
   ],
   "source": [
    "i = 0\n",
    "while i < 3:\n",
    "    i += 1\n",
    "    if i == 2:\n",
    "        break\n",
    "print(\"Done\")\n"
   ]
  },
  {
   "cell_type": "code",
   "execution_count": 18,
   "id": "80b4e6f5",
   "metadata": {},
   "outputs": [
    {
     "name": "stdout",
     "output_type": "stream",
     "text": [
      "0 0\n",
      "1 0\n"
     ]
    }
   ],
   "source": [
    "for i in range(2):\n",
    "    for j in range(3):\n",
    "        if j == 1:\n",
    "            break\n",
    "        print(i, j)\n"
   ]
  },
  {
   "cell_type": "code",
   "execution_count": 19,
   "id": "05e51914",
   "metadata": {},
   "outputs": [
    {
     "name": "stdout",
     "output_type": "stream",
     "text": [
      "2\n"
     ]
    }
   ],
   "source": [
    "count = 0\n",
    "for n in [1, 2, 3, 4, 5]:\n",
    "    if n % 2 != 0:\n",
    "        continue\n",
    "    count += 1\n",
    "print(count)\n"
   ]
  },
  {
   "cell_type": "code",
   "execution_count": 20,
   "id": "ec190366",
   "metadata": {},
   "outputs": [
    {
     "name": "stdout",
     "output_type": "stream",
     "text": [
      "2\n"
     ]
    }
   ],
   "source": [
    "s = 0\n",
    "for i in range(1, 5):\n",
    "    if i % 2 == 0:\n",
    "        s += i\n",
    "    else:\n",
    "        s -= i\n",
    "print(s)\n"
   ]
  },
  {
   "cell_type": "code",
   "execution_count": 21,
   "id": "fbe5158f",
   "metadata": {},
   "outputs": [
    {
     "name": "stdout",
     "output_type": "stream",
     "text": [
      "5"
     ]
    }
   ],
   "source": [
    "for i in range(5, 0, -1):\n",
    "    if i % 2 == 0:\n",
    "        continue\n",
    "    if i == 3:\n",
    "        break\n",
    "    print(i, end=\"\")\n"
   ]
  },
  {
   "cell_type": "markdown",
   "id": "e28e19fa",
   "metadata": {},
   "source": [
    "## Max and Min problem"
   ]
  },
  {
   "cell_type": "code",
   "execution_count": 42,
   "id": "bdd89782",
   "metadata": {},
   "outputs": [
    {
     "name": "stdout",
     "output_type": "stream",
     "text": [
      "['1', '2', '3']\n"
     ]
    }
   ],
   "source": [
    "inp =input()\n",
    "numbers = inp.split()\n",
    "print(numbers)"
   ]
  },
  {
   "cell_type": "code",
   "execution_count": 45,
   "id": "94466f3d",
   "metadata": {},
   "outputs": [
    {
     "name": "stdout",
     "output_type": "stream",
     "text": [
      "1 2 3 <class 'int'>\n"
     ]
    }
   ],
   "source": [
    "inp =input()\n",
    "numbers = inp.split()\n",
    "\n",
    "x=int(numbers[0])\n",
    "y=int(numbers[1])\n",
    "z=int(numbers[2])\n",
    "\n",
    "print(x,y,z,type(x))\n"
   ]
  },
  {
   "cell_type": "code",
   "execution_count": 48,
   "id": "a8da3083",
   "metadata": {},
   "outputs": [
    {
     "name": "stdout",
     "output_type": "stream",
     "text": [
      "1 3\n"
     ]
    }
   ],
   "source": [
    "inp =input()\n",
    "numbers = inp.split()\n",
    "\n",
    "x=int(numbers[0])\n",
    "y=int(numbers[1])\n",
    "z=int(numbers[2])\n",
    "\n",
    "min =x\n",
    "max=x\n",
    "\n",
    "## min\n",
    "if y< min :\n",
    "    min=y\n",
    "if z < min:\n",
    "    min =z\n",
    "\n",
    " # max\n",
    "if y> max :\n",
    "    max=y\n",
    "if z > max:\n",
    "    max =z\n",
    "\n",
    "print(min ,max)    \n",
    "\n",
    "\n"
   ]
  },
  {
   "cell_type": "code",
   "execution_count": 24,
   "id": "c9242f87",
   "metadata": {},
   "outputs": [
    {
     "name": "stdout",
     "output_type": "stream",
     "text": [
      "-1 9\n"
     ]
    }
   ],
   "source": [
    "# take input of 3 number \n",
    "\n",
    "a,b,c=map(int,input().split())\n",
    "\n",
    "min_num = min(a,b,c)\n",
    "max_num = max(a,b,c)\n",
    "\n",
    "print(min_num, max_num)"
   ]
  },
  {
   "cell_type": "markdown",
   "id": "aa8e5927",
   "metadata": {},
   "source": [
    "## C. Even, Odd, Positive and Negative"
   ]
  },
  {
   "cell_type": "code",
   "execution_count": 49,
   "id": "45cd4491",
   "metadata": {},
   "outputs": [
    {
     "name": "stdout",
     "output_type": "stream",
     "text": [
      "['1', '2', '3', '4', '5']\n"
     ]
    }
   ],
   "source": [
    "n= int(input())\n",
    "inp = input()\n",
    "num= inp.split()\n",
    "print(num)"
   ]
  },
  {
   "cell_type": "code",
   "execution_count": 50,
   "id": "1f798943",
   "metadata": {},
   "outputs": [
    {
     "name": "stdout",
     "output_type": "stream",
     "text": [
      "0 <class 'int'>\n",
      "1 <class 'int'>\n",
      "2 <class 'int'>\n"
     ]
    }
   ],
   "source": [
    "n= int(input())\n",
    "inp = input()\n",
    "num= inp.split()\n",
    "\n",
    "for i in range(n):\n",
    "    print(i,type(i))"
   ]
  },
  {
   "cell_type": "code",
   "execution_count": 1,
   "id": "537770d5",
   "metadata": {},
   "outputs": [
    {
     "name": "stdout",
     "output_type": "stream",
     "text": [
      "1\n",
      "4\n",
      "5\n"
     ]
    }
   ],
   "source": [
    "n= int(input())\n",
    "inp = input()\n",
    "num= inp.split()\n",
    "\n",
    "for i in range(n):\n",
    "   print(num[i])"
   ]
  },
  {
   "cell_type": "code",
   "execution_count": 6,
   "id": "f3ae57a7",
   "metadata": {},
   "outputs": [
    {
     "name": "stdout",
     "output_type": "stream",
     "text": [
      "Even: 2\n",
      "Odd: 3\n",
      "Positive: 4\n",
      "Negative: 1\n"
     ]
    }
   ],
   "source": [
    "n= int(input())\n",
    "num= input().split()\n",
    "\n",
    "pos=0;neg=0; odd=0;even=0\n",
    "\n",
    "for i in range(n):\n",
    "   x=int(num[i])\n",
    "#positive or negative\n",
    "   if x>0:\n",
    "      pos+=1\n",
    "   elif x<0:\n",
    "      neg+=1  \n",
    "\n",
    "# odd or even\n",
    "   if x%2 !=0 :\n",
    "      odd+=1\n",
    "   else:\n",
    "      even+=1\n",
    "\n",
    "\n",
    "print(\"Even:\",even)  \n",
    "print(\"Odd:\",odd)   \n",
    "print(\"Positive:\",pos)   \n",
    "print(\"Negative:\",neg)              "
   ]
  },
  {
   "cell_type": "markdown",
   "id": "0fdc99e4",
   "metadata": {},
   "source": [
    "## Digits\n"
   ]
  },
  {
   "cell_type": "code",
   "execution_count": 10,
   "id": "9bcfce72",
   "metadata": {},
   "outputs": [
    {
     "name": "stdout",
     "output_type": "stream",
     "text": [
      "4\n",
      "3\n",
      "2\n",
      "1\n"
     ]
    }
   ],
   "source": [
    "num=int(input())\n",
    "\n",
    "while num>0:\n",
    "    print(num%10)\n",
    "    #num=int(num/10)\n",
    "    num//=10"
   ]
  },
  {
   "cell_type": "code",
   "execution_count": 11,
   "id": "7bcf104c",
   "metadata": {},
   "outputs": [
    {
     "name": "stdout",
     "output_type": "stream",
     "text": [
      "4 3 2 1 "
     ]
    }
   ],
   "source": [
    "num=int(input())\n",
    "\n",
    "while num>0:\n",
    "    print(num%10,end=\" \")\n",
    "    #num=int(num/10)\n",
    "    num//=10"
   ]
  },
  {
   "cell_type": "code",
   "execution_count": null,
   "id": "07c4484d",
   "metadata": {},
   "outputs": [
    {
     "name": "stdout",
     "output_type": "stream",
     "text": [
      "4 3 2 1 \n"
     ]
    }
   ],
   "source": [
    "t = int(input())\n",
    "\n",
    "for i in range(t):\n",
    "    num = int(input())\n",
    "    if num ==0:\n",
    "        print(0)\n",
    "        continue\n",
    "    while num > 0:\n",
    "        print(num % 10, end=\" \")\n",
    "        #num=int(num/10)\n",
    "        num //= 10\n",
    "    print()\n",
    "\n"
   ]
  }
 ],
 "metadata": {
  "kernelspec": {
   "display_name": "Python 3",
   "language": "python",
   "name": "python3"
  },
  "language_info": {
   "codemirror_mode": {
    "name": "ipython",
    "version": 3
   },
   "file_extension": ".py",
   "mimetype": "text/x-python",
   "name": "python",
   "nbconvert_exporter": "python",
   "pygments_lexer": "ipython3",
   "version": "3.12.3"
  }
 },
 "nbformat": 4,
 "nbformat_minor": 5
}
