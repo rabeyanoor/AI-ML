{
 "cells": [
  {
   "cell_type": "markdown",
   "id": "705c48f6",
   "metadata": {},
   "source": [
    "- String, Indexing and Slicing\n",
    "- String Methods\n",
    "- String Splitting joining and Formatting\n",
    "- List and List Methods\n",
    "- List as Stack and Queue\n",
    "- List Comprehension\n",
    "- List Comprehension with Lits of String\n"
   ]
  },
  {
   "cell_type": "markdown",
   "id": "3a1f0621",
   "metadata": {},
   "source": [
    "## String "
   ]
  },
  {
   "cell_type": "markdown",
   "id": "a7c86057",
   "metadata": {},
   "source": [
    "split()\n",
    "\n",
    "👉 একটা string কে list আকারে ভাগ করতে ব্যবহৃত হয়।\n",
    "\n",
    "strip()\n",
    "\n",
    "👉 এটা দিয়ে string-এর শুরু ও শেষের ফাঁকা জায়গা (space, tab, newline) মুছে ফেলা হয়।"
   ]
  },
  {
   "cell_type": "code",
   "execution_count": 5,
   "id": "4667e8a3",
   "metadata": {},
   "outputs": [
    {
     "name": "stdout",
     "output_type": "stream",
     "text": [
      "what is your name?\n",
      "<class 'str'>\n"
     ]
    }
   ],
   "source": [
    "prompt = \"what is your name?\"\n",
    "print (prompt)\n",
    "print(type(prompt))"
   ]
  },
  {
   "cell_type": "code",
   "execution_count": 4,
   "id": "ec4e76be",
   "metadata": {},
   "outputs": [
    {
     "name": "stdout",
     "output_type": "stream",
     "text": [
      " tell me about yourself?\n",
      "what are the issues you've been facing while learning to code?\n",
      "How are you tackling them?\n"
     ]
    }
   ],
   "source": [
    "message = \"\"\" tell me about yourself?\n",
    "what are the issues you've been facing while learning to code?\n",
    "How are you tackling them?\"\"\"\n",
    "\n",
    "print(message)"
   ]
  },
  {
   "cell_type": "markdown",
   "id": "ed205d82",
   "metadata": {},
   "source": [
    "## Indexeing and Slicing"
   ]
  },
  {
   "cell_type": "code",
   "execution_count": 8,
   "id": "9b28cc66",
   "metadata": {},
   "outputs": [
    {
     "name": "stdout",
     "output_type": "stream",
     "text": [
      "l\n"
     ]
    }
   ],
   "source": [
    "string = \"hello world\"\n",
    "print(string[3])"
   ]
  },
  {
   "cell_type": "code",
   "execution_count": 11,
   "id": "6adbd10a",
   "metadata": {},
   "outputs": [
    {
     "name": "stdout",
     "output_type": "stream",
     "text": [
      " tell me about yourself?\n"
     ]
    }
   ],
   "source": [
    "first_message =message[0:24] #[start:end:step]\n",
    "print(first_message)\n",
    " "
   ]
  },
  {
   "cell_type": "code",
   "execution_count": 14,
   "id": "3cbcbae8",
   "metadata": {},
   "outputs": [
    {
     "name": "stdout",
     "output_type": "stream",
     "text": [
      " elm bu oref\n"
     ]
    }
   ],
   "source": [
    "first_message =message[0:24:2] \n",
    "print(first_message)"
   ]
  },
  {
   "cell_type": "code",
   "execution_count": 15,
   "id": "a0fd9f6f",
   "metadata": {},
   "outputs": [
    {
     "name": "stdout",
     "output_type": "stream",
     "text": [
      "f\n"
     ]
    }
   ],
   "source": [
    "print(first_message[-1])"
   ]
  },
  {
   "cell_type": "markdown",
   "id": "0ae1fad3",
   "metadata": {},
   "source": [
    "## Spring Method"
   ]
  },
  {
   "cell_type": "code",
   "execution_count": 18,
   "id": "19cce68a",
   "metadata": {},
   "outputs": [
    {
     "name": "stdout",
     "output_type": "stream",
     "text": [
      "17\n",
      "True\n"
     ]
    }
   ],
   "source": [
    "string =\"Welcome to Pixso \"\n",
    "print(len(string))\n",
    "print(\"Pixso\" in string)"
   ]
  },
  {
   "cell_type": "code",
   "execution_count": 19,
   "id": "7d3e470c",
   "metadata": {},
   "outputs": [
    {
     "name": "stdout",
     "output_type": "stream",
     "text": [
      "WELCOME TO PIXSO \n"
     ]
    }
   ],
   "source": [
    "string =\"Welcome to Pixso \"\n",
    "processed_string=string.upper()\n",
    "print(processed_string)\n"
   ]
  },
  {
   "cell_type": "code",
   "execution_count": 20,
   "id": "bd17bdca",
   "metadata": {},
   "outputs": [
    {
     "name": "stdout",
     "output_type": "stream",
     "text": [
      "Welcome to pixso \n"
     ]
    }
   ],
   "source": [
    "string =\"Welcome to Pixso \"\n",
    "processed_string=string.capitalize()\n",
    "print(processed_string)"
   ]
  },
  {
   "cell_type": "code",
   "execution_count": 26,
   "id": "dd82aa23",
   "metadata": {},
   "outputs": [
    {
     "name": "stdout",
     "output_type": "stream",
     "text": [
      "Welcome to pixso             pixso \n",
      "11\n",
      "29\n"
     ]
    }
   ],
   "source": [
    "string =\"Welcome to Pixso             Pixso \"\n",
    "processed_string=string.capitalize()\n",
    "print(processed_string)\n",
    "shuru_index = processed_string.find(\"pixso\")\n",
    "print(shuru_index)\n",
    "\n",
    "shesh_index = processed_string.rfind(\"pixso\")\n",
    "print(shesh_index)"
   ]
  },
  {
   "cell_type": "code",
   "execution_count": 29,
   "id": "8326e228",
   "metadata": {},
   "outputs": [
    {
     "name": "stdout",
     "output_type": "stream",
     "text": [
      "2\n"
     ]
    }
   ],
   "source": [
    "string =\"Welcome to Pixso             Pixso \"\n",
    "\n",
    "count = string.count(\"Pixso\")\n",
    "print(count)"
   ]
  },
  {
   "cell_type": "code",
   "execution_count": 31,
   "id": "176383fe",
   "metadata": {},
   "outputs": [
    {
     "name": "stdout",
     "output_type": "stream",
     "text": [
      "Welcome to Youtube AI/ML Couese, Youtube AI/ML, Hello AI/ML\n"
     ]
    }
   ],
   "source": [
    "string=\"Welcome to Youtube ML Couese, Youtube ML, Hello ML\"\n",
    "\n",
    "new_string=string.replace(\"ML\",\"AI/ML\")\n",
    "print(new_string)"
   ]
  },
  {
   "cell_type": "code",
   "execution_count": 33,
   "id": "1849c1d9",
   "metadata": {},
   "outputs": [
    {
     "name": "stdout",
     "output_type": "stream",
     "text": [
      "['what', 'is', 'Youtube', '?']\n"
     ]
    }
   ],
   "source": [
    "prompt =\" what is Youtube ?\"\n",
    "tokens = prompt.split()\n",
    "print(tokens)"
   ]
  },
  {
   "cell_type": "code",
   "execution_count": 36,
   "id": "6017f0fc",
   "metadata": {},
   "outputs": [
    {
     "name": "stdout",
     "output_type": "stream",
     "text": [
      "['what', 'is', 'Youtube', '?']\n",
      "<class 'list'>\n",
      "<class 'str'>\n",
      "what-is-Youtube-?\n",
      "<class 'str'>\n"
     ]
    }
   ],
   "source": [
    "prompt =\" what is Youtube ?\"\n",
    "tokens = prompt.split()\n",
    "print(tokens)\n",
    "print(type(tokens))\n",
    "print(type(tokens[0]))\n",
    "\n",
    "\n",
    "sentence =\"-\".join(tokens)\n",
    "print(sentence)\n",
    "print(type(sentence))"
   ]
  },
  {
   "cell_type": "markdown",
   "id": "de6fb583",
   "metadata": {},
   "source": [
    "## formatted string"
   ]
  },
  {
   "cell_type": "code",
   "execution_count": null,
   "id": "d8e47d3a",
   "metadata": {},
   "outputs": [
    {
     "name": "stdout",
     "output_type": "stream",
     "text": [
      "my name is RABEYA. I am 23 years old . my 5.5 . feel tall.\n"
     ]
    }
   ],
   "source": [
    "name =\"Rabeya\"\n",
    "age=23\n",
    "height=5.512345678890\n",
    "\n",
    "print(f\"my name is {name.upper()}. I am {age} years old . my {height:.2} . feel tall.\")"
   ]
  },
  {
   "cell_type": "code",
   "execution_count": 49,
   "id": "554f6771",
   "metadata": {},
   "outputs": [
    {
     "name": "stdout",
     "output_type": "stream",
     "text": [
      "my name is RABEYA. I am 23 years old . my 5.5 . feel tall.\n"
     ]
    }
   ],
   "source": [
    "name =\"Rabeya\"\n",
    "age=23\n",
    "height=5.512345678890\n",
    "\n",
    "info=f\"my name is {name.upper()}. I am {age} years old . my {height:.2} . feel tall.\"\n",
    "\n",
    "print(info)"
   ]
  },
  {
   "cell_type": "code",
   "execution_count": 53,
   "id": "ae695619",
   "metadata": {},
   "outputs": [
    {
     "name": "stdout",
     "output_type": "stream",
     "text": [
      "the model accuracy is 12.33%\n"
     ]
    }
   ],
   "source": [
    "\n",
    "\n",
    "model_accuracy =0.123333333334\n",
    "\n",
    "print(f\"the model accuracy is {model_accuracy:.2%}\")"
   ]
  },
  {
   "cell_type": "markdown",
   "id": "bcc749e6",
   "metadata": {},
   "source": [
    "## List"
   ]
  },
  {
   "cell_type": "code",
   "execution_count": 69,
   "id": "87b440a0",
   "metadata": {},
   "outputs": [
    {
     "name": "stdout",
     "output_type": "stream",
     "text": [
      "<class 'list'>\n"
     ]
    }
   ],
   "source": [
    "numbers=[100, 20,80,40,30,70]\n",
    "print(type(numbers))"
   ]
  },
  {
   "cell_type": "code",
   "execution_count": 70,
   "id": "836c542e",
   "metadata": {},
   "outputs": [
    {
     "name": "stdout",
     "output_type": "stream",
     "text": [
      "80\n",
      "90\n",
      "[100, 20, 90, 40]\n"
     ]
    }
   ],
   "source": [
    "# access\n",
    "\n",
    "print(numbers[2])\n",
    "numbers[2]=90\n",
    "\n",
    "print(numbers[2])\n",
    "# list = mutable\n",
    "## string = immutable\n",
    "\n",
    "new_list =numbers[0:4]\n",
    "print(new_list)\n"
   ]
  },
  {
   "cell_type": "code",
   "execution_count": 76,
   "id": "016f1c0c",
   "metadata": {},
   "outputs": [
    {
     "name": "stdout",
     "output_type": "stream",
     "text": [
      "[40, 40, 100, 20, 90, 40, 30, 70, 50, 50, 50, 50, 50, 50]\n",
      "[40, 40, 40, 100, 20, 90, 40, 30, 70, 50, 50, 50, 50, 50, 50]\n",
      "[40, 40, 40, 100, 20, 90, 40, 30, 70, 50, 50, 50, 50, 50, 50]\n"
     ]
    }
   ],
   "source": [
    "# modification\n",
    "\n",
    "numbers.append(50)\n",
    "print(numbers)\n",
    "\n",
    "numbers.insert(0,40)\n",
    "print(numbers)\n",
    "\n",
    "\n",
    "numbers.pop\n",
    "print(numbers)"
   ]
  },
  {
   "cell_type": "code",
   "execution_count": 77,
   "id": "b13ad19f",
   "metadata": {},
   "outputs": [
    {
     "name": "stdout",
     "output_type": "stream",
     "text": [
      "[20, 30, 40, 40, 40, 40, 50, 50, 50, 50, 50, 50, 70, 90, 100]\n"
     ]
    }
   ],
   "source": [
    "numbers.sort()\n",
    "print(numbers)"
   ]
  },
  {
   "cell_type": "code",
   "execution_count": null,
   "id": "fe8f7b42",
   "metadata": {},
   "outputs": [
    {
     "name": "stdout",
     "output_type": "stream",
     "text": [
      "[100, 90, 70, 50, 50, 50, 50, 50, 50, 40, 40, 40, 40, 30, 20]\n"
     ]
    }
   ],
   "source": [
    "numbers.sort(reverse=True)\n",
    "#numbers.reverse()\n",
    "print(numbers)"
   ]
  },
  {
   "cell_type": "markdown",
   "id": "180bc4c0",
   "metadata": {},
   "source": [
    "##  Stack as List"
   ]
  },
  {
   "cell_type": "code",
   "execution_count": null,
   "id": "25a5b774",
   "metadata": {},
   "outputs": [
    {
     "name": "stdout",
     "output_type": "stream",
     "text": [
      "6\n",
      "5\n",
      "4\n",
      "top element : 3\n"
     ]
    }
   ],
   "source": [
    "stack=[]\n",
    "\n",
    "stack.append(1)\n",
    "stack.append(2)\n",
    "stack.append(3)\n",
    "stack.append(4)\n",
    "stack.append(5)\n",
    "stack.append(6)\n",
    "\n",
    "#removing the top element\n",
    "print(stack.pop())\n",
    "print(stack.pop())\n",
    "print(stack.pop())\n",
    "\n",
    "\n",
    "# top element\n",
    "print(f\"top element : {stack[-1]}\")\n"
   ]
  },
  {
   "cell_type": "markdown",
   "id": "5bc9c202",
   "metadata": {},
   "source": [
    "## List as Queue\n"
   ]
  },
  {
   "cell_type": "code",
   "execution_count": 81,
   "id": "2b9f2512",
   "metadata": {},
   "outputs": [
    {
     "name": "stdout",
     "output_type": "stream",
     "text": [
      "1\n",
      "2\n",
      "front e 2\n",
      "front e 3\n"
     ]
    }
   ],
   "source": [
    "\n",
    "queue =[]\n",
    "\n",
    "queue.append(1)\n",
    "queue.append(2)\n",
    "queue.append(3)\n",
    "queue.append(4)\n",
    "queue.append(5)\n",
    "\n",
    "#remove\n",
    "print(queue.pop(0))\n",
    "\n",
    "#accessing the front element\n",
    "print(queue[0])\n",
    "print(f\"front e {queue[0]}\")\n",
    "\n",
    "queue.pop(0)\n",
    "print(f\"front e {queue[0]}\")\n"
   ]
  },
  {
   "cell_type": "markdown",
   "id": "a4ae7a50",
   "metadata": {},
   "source": [
    "## list comprehension"
   ]
  },
  {
   "cell_type": "code",
   "execution_count": 83,
   "id": "728dd7e2",
   "metadata": {},
   "outputs": [
    {
     "name": "stdout",
     "output_type": "stream",
     "text": [
      "[0, 2, 4, 6, 8, 10, 12, 14, 16, 18, 20, 22, 24, 26, 28, 30, 32, 34, 36, 38, 40, 42, 44, 46, 48, 50, 52, 54, 56, 58, 60, 62, 64, 66, 68, 70, 72, 74, 76, 78, 80, 82, 84, 86, 88, 90, 92, 94, 96, 98]\n"
     ]
    }
   ],
   "source": [
    "even =[]\n",
    "for i in range(100):\n",
    "    if i%2==0:\n",
    "        even.append(i)\n",
    "print(even)        "
   ]
  },
  {
   "cell_type": "code",
   "execution_count": 84,
   "id": "6eea93a9",
   "metadata": {},
   "outputs": [
    {
     "name": "stdout",
     "output_type": "stream",
     "text": [
      "[0, 1, 2, 3, 4, 5, 6, 7, 8, 9]\n"
     ]
    }
   ],
   "source": [
    "even=[]\n",
    "\n",
    "random_list =[x for x in range(10)]\n",
    "\n",
    "print(random_list)"
   ]
  },
  {
   "cell_type": "code",
   "execution_count": 85,
   "id": "8f3126c3",
   "metadata": {},
   "outputs": [
    {
     "name": "stdout",
     "output_type": "stream",
     "text": [
      "[0, 2, 4, 6, 8, 10, 12, 14, 16, 18]\n"
     ]
    }
   ],
   "source": [
    "even=[]\n",
    "\n",
    "random_list =[x*2 for x in range(10)]\n",
    "\n",
    "print(random_list)"
   ]
  },
  {
   "cell_type": "code",
   "execution_count": 87,
   "id": "2b2d3ad7",
   "metadata": {},
   "outputs": [
    {
     "name": "stdout",
     "output_type": "stream",
     "text": [
      "[2, 4, 6, 8]\n"
     ]
    }
   ],
   "source": [
    "even=[]\n",
    "\n",
    "random_list =[x for x in range(1,10) if x%2==0]\n",
    "\n",
    "print(random_list)"
   ]
  },
  {
   "cell_type": "code",
   "execution_count": 88,
   "id": "773e0706",
   "metadata": {},
   "outputs": [
    {
     "name": "stdout",
     "output_type": "stream",
     "text": [
      "apple\n",
      "orange\n",
      "lichi\n"
     ]
    }
   ],
   "source": [
    "fruits =['apple','orange','lichi']\n",
    "capitalize_fruits=[]\n",
    "\n",
    "for fruit in fruits:\n",
    "    print(fruit)"
   ]
  },
  {
   "cell_type": "code",
   "execution_count": 89,
   "id": "97ee7cfc",
   "metadata": {},
   "outputs": [
    {
     "name": "stdout",
     "output_type": "stream",
     "text": [
      "['Apple', 'Orange', 'Lichi']\n"
     ]
    }
   ],
   "source": [
    "fruits =['apple','orange','lichi']\n",
    "capitalize_fruits=[]\n",
    "\n",
    "for fruit in fruits:\n",
    "    capitalize_fruits.append(fruit.capitalize())\n",
    "\n",
    "print(capitalize_fruits)    "
   ]
  },
  {
   "cell_type": "code",
   "execution_count": 91,
   "id": "96b20113",
   "metadata": {},
   "outputs": [
    {
     "name": "stdout",
     "output_type": "stream",
     "text": [
      "['APPLE', 'ORANGE', 'LICHI']\n"
     ]
    }
   ],
   "source": [
    "fruits =['apple','orange','lichi']\n",
    "capitalize_fruits=[fruit.upper() for fruit in fruits]\n",
    "\n",
    "\n",
    "print(capitalize_fruits)    "
   ]
  },
  {
   "cell_type": "markdown",
   "id": "20b9fd56",
   "metadata": {},
   "source": [
    "## Quiz"
   ]
  },
  {
   "cell_type": "code",
   "execution_count": 92,
   "id": "1486e953",
   "metadata": {},
   "outputs": [
    {
     "name": "stdout",
     "output_type": "stream",
     "text": [
      "i\n"
     ]
    }
   ],
   "source": [
    "word=\"Pythonista\"\n",
    "print(word[-4])"
   ]
  },
  {
   "cell_type": "code",
   "execution_count": 93,
   "id": "0836b018",
   "metadata": {},
   "outputs": [
    {
     "name": "stdout",
     "output_type": "stream",
     "text": [
      "loo\n"
     ]
    }
   ],
   "source": [
    "s=\"HelloWorld\"\n",
    "print(s[2:8:2])"
   ]
  },
  {
   "cell_type": "code",
   "execution_count": 94,
   "id": "79b38191",
   "metadata": {},
   "outputs": [
    {
     "name": "stdout",
     "output_type": "stream",
     "text": [
      "2\n"
     ]
    }
   ],
   "source": [
    "text=\"banana banana\"\n",
    "print(text.count(\"ana\"))"
   ]
  },
  {
   "cell_type": "code",
   "execution_count": 95,
   "id": "7773a145",
   "metadata": {},
   "outputs": [
    {
     "name": "stdout",
     "output_type": "stream",
     "text": [
      "blue-green-red\n"
     ]
    }
   ],
   "source": [
    "msg=\"red,green,blue\"\n",
    "colors=msg.split(\",\")\n",
    "print(\"-\".join(colors[: :-1]))"
   ]
  },
  {
   "cell_type": "code",
   "execution_count": 96,
   "id": "65c06b55",
   "metadata": {},
   "outputs": [
    {
     "name": "stdout",
     "output_type": "stream",
     "text": [
      "[2, 4, 12, 8, 10]\n"
     ]
    }
   ],
   "source": [
    "nums=[2,4,6,8,10]\n",
    "nums[2]=nums[2]*nums[0]\n",
    "print(nums)"
   ]
  },
  {
   "cell_type": "code",
   "execution_count": 97,
   "id": "5d4752ab",
   "metadata": {},
   "outputs": [
    {
     "name": "stdout",
     "output_type": "stream",
     "text": [
      "['d', 'b']\n"
     ]
    }
   ],
   "source": [
    "letters=['a','b','c','d','e']\n",
    "print(letters[1:4][::-2])"
   ]
  },
  {
   "cell_type": "code",
   "execution_count": 98,
   "id": "4cc60724",
   "metadata": {},
   "outputs": [
    {
     "name": "stdout",
     "output_type": "stream",
     "text": [
      "2\n"
     ]
    }
   ],
   "source": [
    "stack =[]\n",
    "for i in range(1,4):\n",
    "    stack.append(i)\n",
    "stack.pop()\n",
    "print(stack[-1])    "
   ]
  },
  {
   "cell_type": "code",
   "execution_count": 100,
   "id": "a1f7c2d6",
   "metadata": {},
   "outputs": [
    {
     "name": "stdout",
     "output_type": "stream",
     "text": [
      "[10, 30, 40]\n",
      "[10, 30, 40, 50]\n",
      "30\n"
     ]
    }
   ],
   "source": [
    "queue=[10,20,30,40]\n",
    "queue.pop(1)\n",
    "print(queue)\n",
    "queue.append(50)\n",
    "print(queue)\n",
    "queue.pop(0)\n",
    "print(queue[0])\n",
    "\n",
    "\n"
   ]
  },
  {
   "cell_type": "code",
   "execution_count": 101,
   "id": "57e26569",
   "metadata": {},
   "outputs": [
    {
     "name": "stdout",
     "output_type": "stream",
     "text": [
      "[4, 16]\n"
     ]
    }
   ],
   "source": [
    "nums=[1,2,3,4]\n",
    "squares=[x**2 for x in nums if x%2==0]\n",
    "print(squares)"
   ]
  },
  {
   "cell_type": "code",
   "execution_count": 103,
   "id": "24fcfbdc",
   "metadata": {},
   "outputs": [
    {
     "name": "stdout",
     "output_type": "stream",
     "text": [
      "[1, 2, 3]\n"
     ]
    }
   ],
   "source": [
    "x=[1,2,3,2,4]\n",
    "x.remove(4)\n",
    "x.pop()\n",
    "print(x)"
   ]
  }
 ],
 "metadata": {
  "kernelspec": {
   "display_name": "Python 3",
   "language": "python",
   "name": "python3"
  },
  "language_info": {
   "codemirror_mode": {
    "name": "ipython",
    "version": 3
   },
   "file_extension": ".py",
   "mimetype": "text/x-python",
   "name": "python",
   "nbconvert_exporter": "python",
   "pygments_lexer": "ipython3",
   "version": "3.12.3"
  }
 },
 "nbformat": 4,
 "nbformat_minor": 5
}
