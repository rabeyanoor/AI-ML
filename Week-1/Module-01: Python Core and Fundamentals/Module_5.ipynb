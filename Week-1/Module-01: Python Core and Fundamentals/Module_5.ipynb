{
 "cells": [
  {
   "cell_type": "markdown",
   "id": "6325ac41",
   "metadata": {},
   "source": [
    "## Tuples"
   ]
  },
  {
   "cell_type": "code",
   "execution_count": 9,
   "id": "2642a30f",
   "metadata": {},
   "outputs": [
    {
     "name": "stdout",
     "output_type": "stream",
     "text": [
      "<class 'tuple'> (10, 20, 30, 40)\n",
      "<class 'tuple'> (10.5, 10.2)\n",
      "(10, 10.5, 'str', True)\n",
      "<class 'tuple'> (10,)\n",
      "<class 'tuple'> (10,)\n",
      "<class 'tuple'> (12, 30, 40)\n"
     ]
    }
   ],
   "source": [
    "tup =(10,20,30,40)\n",
    "print(type(tup),tup)\n",
    "\n",
    "float_tup =(10.5,10.2)\n",
    "print(type(float_tup),float_tup)\n",
    "\n",
    "mixed_tup =(10,10.5,\"str\",True)\n",
    "print(mixed_tup)\n",
    "\n",
    "tup1 =tuple([10])\n",
    "print(type(tup1),tup1)\n",
    "\n",
    "tup2 =(10,)\n",
    "print(type(tup2),tup2)\n",
    "\n",
    "lst =[12,30,40]\n",
    "tup1=tuple(lst)\n",
    "print(type(tup1),tup1)\n"
   ]
  },
  {
   "cell_type": "code",
   "execution_count": null,
   "id": "1c6c0fb6",
   "metadata": {},
   "outputs": [
    {
     "name": "stdout",
     "output_type": "stream",
     "text": [
      "10.5\n",
      "(10, 20, 30)\n"
     ]
    }
   ],
   "source": [
    "tup =(10,20,30,10.5,\"str\",False)\n",
    "#index\n",
    "print(tup[3])\n",
    "\n",
    "#slicing\n",
    "new_tup=tup[0:3]\n",
    "print(new_tup)"
   ]
  },
  {
   "cell_type": "code",
   "execution_count": 13,
   "id": "dd8f6bb3",
   "metadata": {},
   "outputs": [
    {
     "name": "stdout",
     "output_type": "stream",
     "text": [
      "[10, 100, 30, 40, 60]\n"
     ]
    }
   ],
   "source": [
    "#immutability\n",
    "\n",
    "lst=[10,20,30,40]\n",
    "lst.append(60)\n",
    "lst[1]=100\n",
    "print(lst)\n",
    "\n",
    "\n",
    "\n"
   ]
  },
  {
   "cell_type": "code",
   "execution_count": 15,
   "id": "85aac8e1",
   "metadata": {},
   "outputs": [
    {
     "name": "stdout",
     "output_type": "stream",
     "text": [
      "2\n",
      "3\n"
     ]
    }
   ],
   "source": [
    "tup=(10,20,30,40,50,60,10)\n",
    "\n",
    "print(tup.count(10))\n",
    "print(tup.index(40))"
   ]
  },
  {
   "cell_type": "markdown",
   "id": "6a77446e",
   "metadata": {},
   "source": [
    "## set"
   ]
  },
  {
   "cell_type": "code",
   "execution_count": 16,
   "id": "f36bc09e",
   "metadata": {},
   "outputs": [
    {
     "name": "stdout",
     "output_type": "stream",
     "text": [
      "<class 'set'> {1, 2, 3, 4, 5}\n"
     ]
    }
   ],
   "source": [
    "a={1,2,3,4,5}\n",
    "\n",
    "print(type(a),a)"
   ]
  },
  {
   "cell_type": "code",
   "execution_count": 19,
   "id": "bf84ca25",
   "metadata": {},
   "outputs": [
    {
     "name": "stdout",
     "output_type": "stream",
     "text": [
      "<class 'list'>\n",
      "<class 'tuple'>\n",
      "<class 'dict'>\n",
      "<class 'set'>\n"
     ]
    }
   ],
   "source": [
    "b=[]\n",
    "print(type(b))\n",
    "\n",
    "c=()\n",
    "print(type(c))\n",
    "\n",
    "s={}\n",
    "print(type(s))\n",
    "\n",
    "s=set()\n",
    "print(type(s))"
   ]
  },
  {
   "cell_type": "code",
   "execution_count": 21,
   "id": "87444242",
   "metadata": {},
   "outputs": [
    {
     "name": "stdout",
     "output_type": "stream",
     "text": [
      "{1, 2, 3, 4, 5, 6}\n"
     ]
    }
   ],
   "source": [
    "s={1,2,3,4,5,6,1,2,3,4,5,6}\n",
    "print(s)\n",
    "#set ---> duplicate is not allow"
   ]
  },
  {
   "cell_type": "code",
   "execution_count": 20,
   "id": "2b3c9d8d",
   "metadata": {},
   "outputs": [
    {
     "name": "stdout",
     "output_type": "stream",
     "text": [
      "3 is present\n"
     ]
    }
   ],
   "source": [
    "s={1,2,3,4,5,6}\n",
    "if(3 in s):\n",
    "    print(\"3 is present\")\n",
    "else :\n",
    "    print(\"not present\")    "
   ]
  },
  {
   "cell_type": "code",
   "execution_count": 24,
   "id": "55ef4f09",
   "metadata": {},
   "outputs": [
    {
     "name": "stdout",
     "output_type": "stream",
     "text": [
      "3 is present\n",
      "1\n",
      "2\n",
      "3\n",
      "4\n",
      "5\n",
      "6\n",
      "21\n"
     ]
    }
   ],
   "source": [
    "s={1,2,3,4,5,6}\n",
    "if(3 in s):\n",
    "    print(\"3 is present\")\n",
    "else :\n",
    "    print(\"not present\")    \n",
    "\n",
    "sum=0\n",
    "for element in s:\n",
    "    print(element)\n",
    "    sum+=element\n",
    "print(sum)        "
   ]
  },
  {
   "cell_type": "code",
   "execution_count": 27,
   "id": "1f473c6e",
   "metadata": {},
   "outputs": [
    {
     "name": "stdout",
     "output_type": "stream",
     "text": [
      "{0, 1, 2, 3, 4, 5, 10}\n",
      "{2, 3, 4, 5, 10}\n",
      "{2, 3, 4, 10}\n"
     ]
    }
   ],
   "source": [
    "s={5,1,2,4,3}\n",
    "s.add(10)\n",
    "s.add(0)\n",
    "\n",
    "print(s)\n",
    "\n",
    "s.pop()\n",
    "s.pop()\n",
    "\n",
    "print(s)\n",
    "\n",
    "s.remove(5)\n",
    "print(s)\n"
   ]
  },
  {
   "cell_type": "code",
   "execution_count": 32,
   "id": "b4a45a1e",
   "metadata": {},
   "outputs": [
    {
     "name": "stdout",
     "output_type": "stream",
     "text": [
      "{1, 2, 3, 4}\n",
      "{2, 3}\n",
      "False\n",
      "False\n"
     ]
    }
   ],
   "source": [
    "a={1,2,3}\n",
    "b={2,3,4}\n",
    "\n",
    "print(a.union(b))\n",
    "print(a.intersection(b))\n",
    "\n",
    "print(a.isdisjoint(b))\n",
    "print(a.issubset(b))\n"
   ]
  },
  {
   "cell_type": "markdown",
   "id": "af36496d",
   "metadata": {},
   "source": [
    "## Dictionaries Python"
   ]
  },
  {
   "cell_type": "code",
   "execution_count": 35,
   "id": "03f396dd",
   "metadata": {},
   "outputs": [
    {
     "name": "stdout",
     "output_type": "stream",
     "text": [
      "<class 'dict'>\n",
      "<class 'dict'> {'name': 'Phithon', 'age': 20, 'address': 'Dhaka', 'numbers': [10, 20, 30, 40]}\n"
     ]
    }
   ],
   "source": [
    "dic ={}\n",
    "print(type(dic))\n",
    "\n",
    "dic={\"name\":\"Phithon\",\"age\":20,\"address\":\"Dhaka\",\"numbers\":[10,20,30,40]}\n",
    "\n",
    "print(type(dic),dic)"
   ]
  },
  {
   "cell_type": "code",
   "execution_count": 41,
   "id": "3d32eb40",
   "metadata": {},
   "outputs": [
    {
     "name": "stdout",
     "output_type": "stream",
     "text": [
      "[10, 20, 30, 40]\n",
      "20\n",
      "20\n",
      "{'name': 'AI/ML', 'age': 20, 'address': 'Dhaka', 'numbers': [10, 20, 30, 40]}\n",
      "{'name': 'Youtube', 'age': 30}\n"
     ]
    }
   ],
   "source": [
    "print(dic[\"numbers\"])\n",
    "print(dic[\"age\"])\n",
    "print(dic.get(\"age\"))\n",
    "\n",
    "dic[\"name\"]=\"AI/ML\"\n",
    "print(dic)\n",
    "\n",
    "dic={\"name\":\"Youtube\",\"age\":20,\"age\":30}\n",
    "print(dic)\n",
    "\n"
   ]
  },
  {
   "cell_type": "code",
   "execution_count": 46,
   "id": "d0acb3a1",
   "metadata": {},
   "outputs": [
    {
     "name": "stdout",
     "output_type": "stream",
     "text": [
      "{'name': 'Youtube', 'age': 30, 'math_marks': 30, 'english_marks': 40}\n",
      "30\n",
      "30\n",
      "{'name': 'Youtube', 'age': 30, 'math_marks': 30, 'english_marks': 40}\n",
      "{'name': 'Youtube', 'age': 30, 'math_marks': 30, 'english_marks': 40}\n",
      "{'name': 'Youtube', 'age': 30, 'english_marks': 40}\n"
     ]
    }
   ],
   "source": [
    "print(dic)\n",
    "print(dic.get(\"math_marks\"))\n",
    "print(dic.get(\"math_marks\",0))\n",
    "\n",
    "dic[\"math_marks\"]=30\n",
    "print(dic)\n",
    "\n",
    "dic.update({\"english_marks\":40})\n",
    "print(dic)\n",
    "\n",
    "del dic[\"math_marks\"]\n",
    "print(dic)\n"
   ]
  },
  {
   "cell_type": "code",
   "execution_count": 49,
   "id": "3b9392a7",
   "metadata": {},
   "outputs": [
    {
     "name": "stdout",
     "output_type": "stream",
     "text": [
      "{'name': 'Youtube', 'age': 30, 'english_marks': 40}\n",
      "{(10, 20, 30): 'a'}\n",
      "{'key': (10, 20, 30)}\n",
      "{'key': {10, 20, 30}}\n",
      "{'key': [10, 20, 30]}\n",
      "{'key': {'name': 'Youtube', 'age': 30}}\n"
     ]
    }
   ],
   "source": [
    "dic_2=dic.copy()\n",
    "print(dic_2)\n",
    "\n",
    "dic_3={(10,20,30):\"a\"}\n",
    "print(dic_3)\n",
    "\n",
    "#tuple\n",
    "dic_3={\"key\":(10,20,30)}\n",
    "print(dic_3)\n",
    "\n",
    "#set\n",
    "dic_3={\"key\":{10,20,30}}\n",
    "print(dic_3)\n",
    "\n",
    "#list\n",
    "dic_3={\"key\":[10,20,30]}\n",
    "print(dic_3)\n",
    "\n",
    "#dictionary\n",
    "dic_3={\"key\":{\"name\":\"Youtube\",\"age\":20,\"age\":30}}\n",
    "print(dic_3)"
   ]
  },
  {
   "cell_type": "markdown",
   "id": "e401c156",
   "metadata": {},
   "source": [
    "## Iterating over Dictionary"
   ]
  },
  {
   "cell_type": "code",
   "execution_count": 56,
   "id": "24d142de",
   "metadata": {},
   "outputs": [
    {
     "name": "stdout",
     "output_type": "stream",
     "text": [
      "dict_keys(['name', 'age', 'address', 'number'])\n",
      "dict_keys(['name', 'age', 'address', 'number', 'math_numbers'])\n",
      "dict_values(['Youtube', 20, 'Dhaka', [10, 20, 30, 40], 30])\n",
      "dict_items([('name', 'Youtube'), ('age', 20), ('address', 'Dhaka'), ('number', [10, 20, 30, 40]), ('math_numbers', 30)])\n"
     ]
    }
   ],
   "source": [
    "dic={\"name\":\"Youtube\",\"age\" : 20,\"address\":\"Dhaka\",\"number\":[10,20,30,40]}\n",
    "\n",
    "keys=dic.keys()\n",
    "print(keys)\n",
    "\n",
    "dic[\"math_numbers\"]=30\n",
    "print(keys)\n",
    "\n",
    "values=dic.values()\n",
    "print(values)\n",
    "\n",
    "items=dic.items()\n",
    "print(items)"
   ]
  },
  {
   "cell_type": "code",
   "execution_count": 57,
   "id": "7ca96096",
   "metadata": {},
   "outputs": [
    {
     "name": "stdout",
     "output_type": "stream",
     "text": [
      "name dict_values(['Youtube', 20, 'Dhaka', [10, 20, 30, 40], 30])\n",
      "age dict_values(['Youtube', 20, 'Dhaka', [10, 20, 30, 40], 30])\n",
      "address dict_values(['Youtube', 20, 'Dhaka', [10, 20, 30, 40], 30])\n",
      "number dict_values(['Youtube', 20, 'Dhaka', [10, 20, 30, 40], 30])\n",
      "math_numbers dict_values(['Youtube', 20, 'Dhaka', [10, 20, 30, 40], 30])\n"
     ]
    }
   ],
   "source": [
    "#iteration\n",
    "\n",
    "for key,value in dic.items():\n",
    "    print(key,values)"
   ]
  },
  {
   "cell_type": "markdown",
   "id": "69ea2902",
   "metadata": {},
   "source": [
    "# Dictionary Comprehension"
   ]
  },
  {
   "cell_type": "code",
   "execution_count": null,
   "id": "0c18ad36",
   "metadata": {},
   "outputs": [
    {
     "name": "stdout",
     "output_type": "stream",
     "text": [
      "<class 'list'>\n",
      "[1, 2, 3, 4, 5, 6, 7, 8, 9]\n",
      "range(1, 10)\n"
     ]
    }
   ],
   "source": [
    "print(type(list(range(1,10))))\n",
    "print(list(range(1,10)))\n",
    "print(range(1,10))\n"
   ]
  },
  {
   "cell_type": "code",
   "execution_count": 61,
   "id": "73e78ae8",
   "metadata": {},
   "outputs": [
    {
     "name": "stdout",
     "output_type": "stream",
     "text": [
      "{0: 0, 1: 1, 2: 4, 3: 9, 4: 16, 5: 25, 6: 36, 7: 49, 8: 64, 9: 81}\n",
      "{2: 4, 4: 16, 6: 36, 8: 64, 10: 100}\n"
     ]
    }
   ],
   "source": [
    "square={x:x**2 for x in range(10)}\n",
    "print(square)\n",
    "\n",
    "square={x:x**2 for x in range(1,11) if x%2==0}\n",
    "print(square)"
   ]
  },
  {
   "cell_type": "code",
   "execution_count": 63,
   "id": "ee20a835",
   "metadata": {},
   "outputs": [
    {
     "name": "stdout",
     "output_type": "stream",
     "text": [
      "<class 'list'>\n",
      "{(10, 10.5): 'dhaka', (20.5, 192): 'chattagon', (101, 192): 'sylhet'}\n"
     ]
    }
   ],
   "source": [
    "co_ordinates=[(10,10.5),(20.5,192),(101,192)]\n",
    "print(type(co_ordinates))\n",
    "locations=[\"dhaka\",\"chattagon\",\"sylhet\"]\n",
    "\n",
    "exact_location={co_or : loc for co_or,loc in zip(co_ordinates,locations)}\n",
    "\n",
    "print(exact_location)"
   ]
  },
  {
   "cell_type": "markdown",
   "id": "5157e2d5",
   "metadata": {},
   "source": [
    "## Problem Solving with in Built Structures"
   ]
  },
  {
   "cell_type": "markdown",
   "id": "50c0050e",
   "metadata": {},
   "source": [
    "1. Given a list of numbers, makes a list with unique values"
   ]
  },
  {
   "cell_type": "code",
   "execution_count": 67,
   "id": "fe71b0ae",
   "metadata": {},
   "outputs": [
    {
     "name": "stdout",
     "output_type": "stream",
     "text": [
      "[10, 20, 30, 60, 70, 80, 90, 10, 20, 30, 40, 50, 60, 70, 90, 10]\n",
      "{100, 40, 10, 60, 30}\n"
     ]
    }
   ],
   "source": [
    "list =[10,20,30,60,70,80,90,10,20,30,40,50,60,70,90,10]\n",
    "print(list)\n",
    "\n",
    "unique_values=set(lst)\n",
    "print(unique_values)\n",
    "\n"
   ]
  },
  {
   "cell_type": "code",
   "execution_count": 77,
   "id": "bc401353",
   "metadata": {},
   "outputs": [
    {
     "name": "stdout",
     "output_type": "stream",
     "text": [
      "['Positive', 'psychologists', 'are', 'particularly', 'interested', 'in', 'the', 'attitude', 'of', 'optimism', 'because', 'whether', 'we', 'bring', 'a', 'stable', 'sense', 'of', 'optimism', 'to', 'situations', 'flows', 'on', 'to', 'affect', 'our', 'thoughts,', 'feelings,', 'and', 'actions', 'across', 'a', 'range', 'of', 'domains.', 'The', 'Life', 'Orientation', 'Test', '(LOT)', 'is', 'a', 'standard', 'psychological', 'instrument', 'that', 'assesses', 'one’s', 'dispositional', 'level', 'of', 'optimism,', 'providing', 'meaningful', 'insight', 'into', 'possible', 'interventions,', 'such', 'as', 'those', 'to', 'address', 'harmful', 'thought', 'patterns.', 'This', 'makes', 'the', 'instrument', 'a', 'useful', 'tool', 'for', 'any', 'practitioner’s', 'toolkit.', 'This', 'article', 'will', 'show', 'you', 'how', 'to', 'administer', 'the', 'Life', 'Orientation', 'Test,', 'outlines', 'a', 'conceptualization', 'of', 'optimism,', 'and', 'reviews', 'several', 'successful', 'examples', 'of', 'the', 'scale’s', 'application', 'in', 'research.']\n",
      "<class 'str'>\n",
      "<class 'list'>\n",
      "{'Positive': 1, 'psychologists': 1, 'are': 1, 'particularly': 1, 'interested': 1, 'in': 2, 'the': 4, 'attitude': 1, 'of': 6, 'optimism': 2, 'because': 1, 'whether': 1, 'we': 1, 'bring': 1, 'a': 5, 'stable': 1, 'sense': 1, 'to': 4, 'situations': 1, 'flows': 1, 'on': 1, 'affect': 1, 'our': 1, 'thoughts,': 1, 'feelings,': 1, 'and': 2, 'actions': 1, 'across': 1, 'range': 1, 'domains.': 1, 'The': 1, 'Life': 2, 'Orientation': 2, 'Test': 1, '(LOT)': 1, 'is': 1, 'standard': 1, 'psychological': 1, 'instrument': 2, 'that': 1, 'assesses': 1, 'one’s': 1, 'dispositional': 1, 'level': 1, 'optimism,': 2, 'providing': 1, 'meaningful': 1, 'insight': 1, 'into': 1, 'possible': 1, 'interventions,': 1, 'such': 1, 'as': 1, 'those': 1, 'address': 1, 'harmful': 1, 'thought': 1, 'patterns.': 1, 'This': 2, 'makes': 1, 'useful': 1, 'tool': 1, 'for': 1, 'any': 1, 'practitioner’s': 1, 'toolkit.': 1, 'article': 1, 'will': 1, 'show': 1, 'you': 1, 'how': 1, 'administer': 1, 'Test,': 1, 'outlines': 1, 'conceptualization': 1, 'reviews': 1, 'several': 1, 'successful': 1, 'examples': 1, 'scale’s': 1, 'application': 1, 'research.': 1}\n",
      "1\n",
      "1\n",
      "1\n",
      "1\n",
      "1\n",
      "2\n",
      "4\n",
      "1\n",
      "6\n",
      "2\n",
      "1\n",
      "1\n",
      "1\n",
      "1\n",
      "5\n",
      "1\n",
      "1\n",
      "6\n",
      "2\n",
      "4\n",
      "1\n",
      "1\n",
      "1\n",
      "4\n",
      "1\n",
      "1\n",
      "1\n",
      "1\n",
      "2\n",
      "1\n",
      "1\n",
      "5\n",
      "1\n",
      "6\n",
      "1\n",
      "1\n",
      "2\n",
      "2\n",
      "1\n",
      "1\n",
      "1\n",
      "5\n",
      "1\n",
      "1\n",
      "2\n",
      "1\n",
      "1\n",
      "1\n",
      "1\n",
      "1\n",
      "6\n",
      "2\n",
      "1\n",
      "1\n",
      "1\n",
      "1\n",
      "1\n",
      "1\n",
      "1\n",
      "1\n",
      "1\n",
      "4\n",
      "1\n",
      "1\n",
      "1\n",
      "1\n",
      "2\n",
      "1\n",
      "4\n",
      "2\n",
      "5\n",
      "1\n",
      "1\n",
      "1\n",
      "1\n",
      "1\n",
      "1\n",
      "2\n",
      "1\n",
      "1\n",
      "1\n",
      "1\n",
      "1\n",
      "4\n",
      "1\n",
      "4\n",
      "2\n",
      "2\n",
      "1\n",
      "1\n",
      "5\n",
      "1\n",
      "6\n",
      "2\n",
      "2\n",
      "1\n",
      "1\n",
      "1\n",
      "1\n",
      "6\n",
      "4\n",
      "1\n",
      "1\n",
      "2\n",
      "1\n",
      "{'Positive': 1, 'psychologists': 1, 'are': 1, 'particularly': 1, 'interested': 1, 'in': 2, 'the': 4, 'attitude': 1, 'of': 6, 'optimism': 2, 'because': 1, 'whether': 1, 'we': 1, 'bring': 1, 'a': 5, 'stable': 1, 'sense': 1, 'to': 4, 'situations': 1, 'flows': 1, 'on': 1, 'affect': 1, 'our': 1, 'thoughts,': 1, 'feelings,': 1, 'and': 2, 'actions': 1, 'across': 1, 'range': 1, 'domains.': 1, 'The': 1, 'Life': 2, 'Orientation': 2, 'Test': 1, '(LOT)': 1, 'is': 1, 'standard': 1, 'psychological': 1, 'instrument': 2, 'that': 1, 'assesses': 1, 'one’s': 1, 'dispositional': 1, 'level': 1, 'optimism,': 2, 'providing': 1, 'meaningful': 1, 'insight': 1, 'into': 1, 'possible': 1, 'interventions,': 1, 'such': 1, 'as': 1, 'those': 1, 'address': 1, 'harmful': 1, 'thought': 1, 'patterns.': 1, 'This': 2, 'makes': 1, 'useful': 1, 'tool': 1, 'for': 1, 'any': 1, 'practitioner’s': 1, 'toolkit.': 1, 'article': 1, 'will': 1, 'show': 1, 'you': 1, 'how': 1, 'administer': 1, 'Test,': 1, 'outlines': 1, 'conceptualization': 1, 'reviews': 1, 'several': 1, 'successful': 1, 'examples': 1, 'scale’s': 1, 'application': 1, 'research.': 1}\n"
     ]
    }
   ],
   "source": [
    "string=\"\"\"Positive psychologists are particularly interested in the attitude of optimism because whether we bring a stable sense of optimism to situations flows on to affect our thoughts, feelings, and actions across a range of domains.\n",
    "\n",
    "The Life Orientation Test (LOT) is a standard psychological instrument that assesses one’s dispositional level of optimism, providing meaningful insight into possible interventions, such as those to address harmful thought patterns. This makes the instrument a useful tool for any practitioner’s toolkit.\n",
    "\n",
    "This article will show you how to administer the Life Orientation Test, outlines a conceptualization of optimism, and reviews several successful examples of the scale’s application in research.\"\"\"\n",
    "\n",
    "words=string.split()\n",
    "print(words)\n",
    "print(type(string))\n",
    "print(type(words))\n",
    "\n",
    "count={}\n",
    "\n",
    "for word in words:\n",
    "    count[word]=count.get(word,0)+1\n",
    "print(count)   \n",
    "\n",
    "for word in words:\n",
    "    print(count.get(word,0))\n",
    "\n",
    "print(count)   \n",
    "\n",
    "\n"
   ]
  },
  {
   "cell_type": "code",
   "execution_count": 78,
   "id": "84195384",
   "metadata": {},
   "outputs": [
    {
     "name": "stdout",
     "output_type": "stream",
     "text": [
      "1\n",
      "1\n",
      "1\n",
      "1\n",
      "1\n",
      "2\n",
      "4\n",
      "1\n",
      "6\n",
      "2\n",
      "1\n",
      "1\n",
      "1\n",
      "1\n",
      "5\n",
      "1\n",
      "1\n",
      "6\n",
      "2\n",
      "4\n",
      "1\n",
      "1\n",
      "1\n",
      "4\n",
      "1\n",
      "1\n",
      "1\n",
      "1\n",
      "2\n",
      "1\n",
      "1\n",
      "5\n",
      "1\n",
      "6\n",
      "1\n",
      "1\n",
      "2\n",
      "2\n",
      "1\n",
      "1\n",
      "1\n",
      "5\n",
      "1\n",
      "1\n",
      "2\n",
      "1\n",
      "1\n",
      "1\n",
      "1\n",
      "1\n",
      "6\n",
      "2\n",
      "1\n",
      "1\n",
      "1\n",
      "1\n",
      "1\n",
      "1\n",
      "1\n",
      "1\n",
      "1\n",
      "4\n",
      "1\n",
      "1\n",
      "1\n",
      "1\n",
      "2\n",
      "1\n",
      "4\n",
      "2\n",
      "5\n",
      "1\n",
      "1\n",
      "1\n",
      "1\n",
      "1\n",
      "1\n",
      "2\n",
      "1\n",
      "1\n",
      "1\n",
      "1\n",
      "1\n",
      "4\n",
      "1\n",
      "4\n",
      "2\n",
      "2\n",
      "1\n",
      "1\n",
      "5\n",
      "1\n",
      "6\n",
      "2\n",
      "2\n",
      "1\n",
      "1\n",
      "1\n",
      "1\n",
      "6\n",
      "4\n",
      "1\n",
      "1\n",
      "2\n",
      "1\n",
      "{'Positive': 1, 'psychologists': 1, 'are': 1, 'particularly': 1, 'interested': 1, 'in': 2, 'the': 4, 'attitude': 1, 'of': 6, 'optimism': 2, 'because': 1, 'whether': 1, 'we': 1, 'bring': 1, 'a': 5, 'stable': 1, 'sense': 1, 'to': 4, 'situations': 1, 'flows': 1, 'on': 1, 'affect': 1, 'our': 1, 'thoughts,': 1, 'feelings,': 1, 'and': 2, 'actions': 1, 'across': 1, 'range': 1, 'domains.': 1, 'The': 1, 'Life': 2, 'Orientation': 2, 'Test': 1, '(LOT)': 1, 'is': 1, 'standard': 1, 'psychological': 1, 'instrument': 2, 'that': 1, 'assesses': 1, 'one’s': 1, 'dispositional': 1, 'level': 1, 'optimism,': 2, 'providing': 1, 'meaningful': 1, 'insight': 1, 'into': 1, 'possible': 1, 'interventions,': 1, 'such': 1, 'as': 1, 'those': 1, 'address': 1, 'harmful': 1, 'thought': 1, 'patterns.': 1, 'This': 2, 'makes': 1, 'useful': 1, 'tool': 1, 'for': 1, 'any': 1, 'practitioner’s': 1, 'toolkit.': 1, 'article': 1, 'will': 1, 'show': 1, 'you': 1, 'how': 1, 'administer': 1, 'Test,': 1, 'outlines': 1, 'conceptualization': 1, 'reviews': 1, 'several': 1, 'successful': 1, 'examples': 1, 'scale’s': 1, 'application': 1, 'research.': 1}\n"
     ]
    }
   ],
   "source": [
    "for word in words:\n",
    "    print(count.get(word,0))\n",
    "\n",
    "print(count)  "
   ]
  },
  {
   "cell_type": "code",
   "execution_count": 75,
   "id": "998e7024",
   "metadata": {},
   "outputs": [
    {
     "name": "stdout",
     "output_type": "stream",
     "text": [
      "count of Positive is 1\n",
      "count of psychologists is 1\n",
      "count of are is 1\n",
      "count of particularly is 1\n",
      "count of interested is 1\n",
      "count of in is 2\n",
      "count of the is 4\n",
      "count of attitude is 1\n",
      "count of of is 6\n",
      "count of optimism is 2\n",
      "count of because is 1\n",
      "count of whether is 1\n",
      "count of we is 1\n",
      "count of bring is 1\n",
      "count of a is 5\n",
      "count of stable is 1\n",
      "count of sense is 1\n",
      "count of to is 4\n",
      "count of situations is 1\n",
      "count of flows is 1\n",
      "count of on is 1\n",
      "count of affect is 1\n",
      "count of our is 1\n",
      "count of thoughts, is 1\n",
      "count of feelings, is 1\n",
      "count of and is 2\n",
      "count of actions is 1\n",
      "count of across is 1\n",
      "count of range is 1\n",
      "count of domains. is 1\n",
      "count of The is 1\n",
      "count of Life is 2\n",
      "count of Orientation is 2\n",
      "count of Test is 1\n",
      "count of (LOT) is 1\n",
      "count of is is 1\n",
      "count of standard is 1\n",
      "count of psychological is 1\n",
      "count of instrument is 2\n",
      "count of that is 1\n",
      "count of assesses is 1\n",
      "count of one’s is 1\n",
      "count of dispositional is 1\n",
      "count of level is 1\n",
      "count of optimism, is 2\n",
      "count of providing is 1\n",
      "count of meaningful is 1\n",
      "count of insight is 1\n",
      "count of into is 1\n",
      "count of possible is 1\n",
      "count of interventions, is 1\n",
      "count of such is 1\n",
      "count of as is 1\n",
      "count of those is 1\n",
      "count of address is 1\n",
      "count of harmful is 1\n",
      "count of thought is 1\n",
      "count of patterns. is 1\n",
      "count of This is 2\n",
      "count of makes is 1\n",
      "count of useful is 1\n",
      "count of tool is 1\n",
      "count of for is 1\n",
      "count of any is 1\n",
      "count of practitioner’s is 1\n",
      "count of toolkit. is 1\n",
      "count of article is 1\n",
      "count of will is 1\n",
      "count of show is 1\n",
      "count of you is 1\n",
      "count of how is 1\n",
      "count of administer is 1\n",
      "count of Test, is 1\n",
      "count of outlines is 1\n",
      "count of conceptualization is 1\n",
      "count of reviews is 1\n",
      "count of several is 1\n",
      "count of successful is 1\n",
      "count of examples is 1\n",
      "count of scale’s is 1\n",
      "count of application is 1\n",
      "count of research. is 1\n"
     ]
    }
   ],
   "source": [
    "for k,v in count.items():\n",
    "    print(f\"count of {k} is {v}\")"
   ]
  }
 ],
 "metadata": {
  "kernelspec": {
   "display_name": "Python 3",
   "language": "python",
   "name": "python3"
  },
  "language_info": {
   "codemirror_mode": {
    "name": "ipython",
    "version": 3
   },
   "file_extension": ".py",
   "mimetype": "text/x-python",
   "name": "python",
   "nbconvert_exporter": "python",
   "pygments_lexer": "ipython3",
   "version": "3.12.3"
  }
 },
 "nbformat": 4,
 "nbformat_minor": 5
}
