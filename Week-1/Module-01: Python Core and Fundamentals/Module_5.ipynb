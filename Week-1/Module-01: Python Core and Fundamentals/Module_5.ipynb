{
 "cells": [
  {
   "cell_type": "markdown",
   "id": "6325ac41",
   "metadata": {},
   "source": [
    "## Tuples"
   ]
  },
  {
   "cell_type": "code",
   "execution_count": 9,
   "id": "2642a30f",
   "metadata": {},
   "outputs": [
    {
     "name": "stdout",
     "output_type": "stream",
     "text": [
      "<class 'tuple'> (10, 20, 30, 40)\n",
      "<class 'tuple'> (10.5, 10.2)\n",
      "(10, 10.5, 'str', True)\n",
      "<class 'tuple'> (10,)\n",
      "<class 'tuple'> (10,)\n",
      "<class 'tuple'> (12, 30, 40)\n"
     ]
    }
   ],
   "source": [
    "tup =(10,20,30,40)\n",
    "print(type(tup),tup)\n",
    "\n",
    "float_tup =(10.5,10.2)\n",
    "print(type(float_tup),float_tup)\n",
    "\n",
    "mixed_tup =(10,10.5,\"str\",True)\n",
    "print(mixed_tup)\n",
    "\n",
    "tup1 =tuple([10])\n",
    "print(type(tup1),tup1)\n",
    "\n",
    "tup2 =(10,)\n",
    "print(type(tup2),tup2)\n",
    "\n",
    "lst =[12,30,40]\n",
    "tup1=tuple(lst)\n",
    "print(type(tup1),tup1)\n"
   ]
  },
  {
   "cell_type": "code",
   "execution_count": null,
   "id": "1c6c0fb6",
   "metadata": {},
   "outputs": [
    {
     "name": "stdout",
     "output_type": "stream",
     "text": [
      "10.5\n",
      "(10, 20, 30)\n"
     ]
    }
   ],
   "source": [
    "tup =(10,20,30,10.5,\"str\",False)\n",
    "#index\n",
    "print(tup[3])\n",
    "\n",
    "#slicing\n",
    "new_tup=tup[0:3]\n",
    "print(new_tup)"
   ]
  },
  {
   "cell_type": "code",
   "execution_count": 13,
   "id": "dd8f6bb3",
   "metadata": {},
   "outputs": [
    {
     "name": "stdout",
     "output_type": "stream",
     "text": [
      "[10, 100, 30, 40, 60]\n"
     ]
    }
   ],
   "source": [
    "#immutability\n",
    "\n",
    "lst=[10,20,30,40]\n",
    "lst.append(60)\n",
    "lst[1]=100\n",
    "print(lst)\n",
    "\n",
    "\n",
    "\n"
   ]
  },
  {
   "cell_type": "code",
   "execution_count": 15,
   "id": "85aac8e1",
   "metadata": {},
   "outputs": [
    {
     "name": "stdout",
     "output_type": "stream",
     "text": [
      "2\n",
      "3\n"
     ]
    }
   ],
   "source": [
    "tup=(10,20,30,40,50,60,10)\n",
    "\n",
    "print(tup.count(10))\n",
    "print(tup.index(40))"
   ]
  },
  {
   "cell_type": "markdown",
   "id": "6a77446e",
   "metadata": {},
   "source": [
    "## set"
   ]
  },
  {
   "cell_type": "code",
   "execution_count": 16,
   "id": "f36bc09e",
   "metadata": {},
   "outputs": [
    {
     "name": "stdout",
     "output_type": "stream",
     "text": [
      "<class 'set'> {1, 2, 3, 4, 5}\n"
     ]
    }
   ],
   "source": [
    "a={1,2,3,4,5}\n",
    "\n",
    "print(type(a),a)"
   ]
  }
 ],
 "metadata": {
  "kernelspec": {
   "display_name": "Python 3",
   "language": "python",
   "name": "python3"
  },
  "language_info": {
   "codemirror_mode": {
    "name": "ipython",
    "version": 3
   },
   "file_extension": ".py",
   "mimetype": "text/x-python",
   "name": "python",
   "nbconvert_exporter": "python",
   "pygments_lexer": "ipython3",
   "version": "3.12.3"
  }
 },
 "nbformat": 4,
 "nbformat_minor": 5
}
