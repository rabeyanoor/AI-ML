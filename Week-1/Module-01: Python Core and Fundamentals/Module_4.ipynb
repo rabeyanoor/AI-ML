{
 "cells": [
  {
   "cell_type": "markdown",
   "id": "dccb163f",
   "metadata": {},
   "source": [
    "## Hackerrank"
   ]
  },
  {
   "cell_type": "code",
   "execution_count": null,
   "id": "ff8573b8",
   "metadata": {},
   "outputs": [
    {
     "name": "stdout",
     "output_type": "stream",
     "text": [
      "OFF\n"
     ]
    }
   ],
   "source": [
    "brightness, threshold = map(float, input().split())\n",
    "\n",
    "if brightness >= threshold:\n",
    "    print(\"No\")\n",
    "else:\n",
    "    print(\"OFF\")    "
   ]
  },
  {
   "cell_type": "code",
   "execution_count": null,
   "id": "e0193b2f",
   "metadata": {},
   "outputs": [
    {
     "name": "stdout",
     "output_type": "stream",
     "text": [
      "OFF\n"
     ]
    }
   ],
   "source": [
    "inp =input()\n",
    "numbers = inp.split()\n",
    "\n",
    "brightness =float(numbers[0])\n",
    "threshold=float(numbers[1])\n",
    "\n",
    "if brightness >= threshold:\n",
    "    print(\"No\")\n",
    "else:\n",
    "    print(\"OFF\")\n",
    "\n"
   ]
  }
 ],
 "metadata": {
  "kernelspec": {
   "display_name": "Python 3",
   "language": "python",
   "name": "python3"
  },
  "language_info": {
   "codemirror_mode": {
    "name": "ipython",
    "version": 3
   },
   "file_extension": ".py",
   "mimetype": "text/x-python",
   "name": "python",
   "nbconvert_exporter": "python",
   "pygments_lexer": "ipython3",
   "version": "3.12.3"
  }
 },
 "nbformat": 4,
 "nbformat_minor": 5
}
