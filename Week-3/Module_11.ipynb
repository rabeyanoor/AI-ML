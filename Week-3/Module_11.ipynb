{
 "cells": [
  {
   "cell_type": "markdown",
   "id": "0da77e46",
   "metadata": {},
   "source": [
    "- Ndarray mapulation\n",
    "- Ndarray arithmetic operators and mathematical function\n",
    "- Numpy Broadcasting\n",
    "- Numpy Logical Functions\n",
    "- Ndarray Sorting\n",
    "- Ndarray Searching\n",
    "- Ndarray Counting\n",
    "- Statistical function\n",
    "- Linear Algebra with Numpy\n"
   ]
  },
  {
   "cell_type": "code",
   "execution_count": 3,
   "id": "e125a0d3",
   "metadata": {},
   "outputs": [],
   "source": [
    "import numpy as np\n",
    "\n",
    "arr=np.random.randint(1,100,size=(10,5)) # sample-10, feature - 5"
   ]
  },
  {
   "cell_type": "code",
   "execution_count": 4,
   "id": "cedebe70",
   "metadata": {},
   "outputs": [
    {
     "data": {
      "text/plain": [
       "(10, 5)"
      ]
     },
     "execution_count": 4,
     "metadata": {},
     "output_type": "execute_result"
    }
   ],
   "source": [
    "arr.shape"
   ]
  },
  {
   "cell_type": "code",
   "execution_count": 5,
   "metadata": {},
   "outputs": [
    {
     "data": {
      "text/plain": [
       "(5, 10)"
      ]
     },
     "execution_count": 5,
     "metadata": {},
     "output_type": "execute_result"
    }
   ],
   "source": [
    "b=arr.reshape(5,10)\n",
    "b.shape\n"
   ]
  },
  {
   "cell_type": "code",
   "execution_count": 6,
   "metadata": {},
   "outputs": [
    {
     "data": {
      "text/plain": [
       "2"
      ]
     },
     "execution_count": 6,
     "metadata": {},
     "output_type": "execute_result"
    }
   ],
   "source": [
    "b.ndim\n"
   ]
  },
  {
   "cell_type": "code",
   "execution_count": 7,
   "id": "a2c75b4d",
   "metadata": {},
   "outputs": [
    {
     "data": {
      "text/plain": [
       "array([[65, 91,  9, 87, 79, 96, 38, 61, 88, 13],\n",
       "       [91, 98, 60, 80, 20, 73, 84, 96,  3,  5],\n",
       "       [ 1, 76, 64,  1, 86, 74, 97, 84, 75, 28],\n",
       "       [64, 43,  3, 45, 59, 87, 83, 43, 23, 35],\n",
       "       [12, 42, 90, 93, 95, 18, 14, 82, 16, 78]])"
      ]
     },
     "execution_count": 7,
     "metadata": {},
     "output_type": "execute_result"
    }
   ],
   "source": [
    "b"
   ]
  },
  {
   "cell_type": "code",
   "execution_count": 8,
   "metadata": {},
   "outputs": [
    {
     "name": "stdout",
     "output_type": "stream",
     "text": [
      "1\n"
     ]
    },
    {
     "data": {
      "text/plain": [
       "array([65, 91,  9, 87, 79, 96, 38, 61, 88, 13, 91, 98, 60, 80, 20, 73, 84,\n",
       "       96,  3,  5,  1, 76, 64,  1, 86, 74, 97, 84, 75, 28, 64, 43,  3, 45,\n",
       "       59, 87, 83, 43, 23, 35, 12, 42, 90, 93, 95, 18, 14, 82, 16, 78])"
      ]
     },
     "execution_count": 8,
     "metadata": {},
     "output_type": "execute_result"
    }
   ],
   "source": [
    "flatten =b.flatten()\n",
    "print(flatten.ndim)\n",
    "flatten\n",
    "\n"
   ]
  },
  {
   "cell_type": "code",
   "execution_count": 9,
   "metadata": {},
   "outputs": [
    {
     "name": "stdout",
     "output_type": "stream",
     "text": [
      "[65 91  1 64 12 91 98 76 43 42  9 60 64  3 90 87 80  1 45 93 79 20 86 59\n",
      " 95 96 73 74 87 18 38 84 97 83 14 61 96 84 43 82 88  3 75 23 16 13  5 28\n",
      " 35 78]\n",
      "[65 91  9 87 79 96 38 61 88 13 91 98 60 80 20 73 84 96  3  5  1 76 64  1\n",
      " 86 74 97 84 75 28 64 43  3 45 59 87 83 43 23 35 12 42 90 93 95 18 14 82\n",
      " 16 78]\n"
     ]
    }
   ],
   "source": [
    "column_wise_flattening=np.ravel(b,order='F')\n",
    "print(column_wise_flattening)\n",
    "\n",
    "row_wise_flattening=np.ravel(b,order='C') #flatten er poriborte row wise evabe kora jay\n",
    "print(row_wise_flattening)"
   ]
  },
  {
   "cell_type": "code",
   "execution_count": 10,
   "id": "cd45b04a",
   "metadata": {},
   "outputs": [
    {
     "name": "stdout",
     "output_type": "stream",
     "text": [
      "[[7 9 9]\n",
      " [4 1 2]]\n",
      "[[24 21 24]\n",
      " [23 29 23]]\n"
     ]
    }
   ],
   "source": [
    "a=np.random.randint(1,10,size=(2,3))\n",
    "b=np.random.randint(20,30,size=(2,3))\n",
    "\n",
    "print(a)\n",
    "print(b)"
   ]
  },
  {
   "cell_type": "markdown",
   "id": "7df2b8c4",
   "metadata": {},
   "source": [
    "## Concatenate"
   ]
  },
  {
   "cell_type": "code",
   "execution_count": 11,
   "metadata": {},
   "outputs": [
    {
     "name": "stdout",
     "output_type": "stream",
     "text": [
      "[[ 7  9  9]\n",
      " [ 4  1  2]\n",
      " [24 21 24]\n",
      " [23 29 23]]\n",
      "\n",
      "\n",
      "[[ 7  9  9 24 21 24]\n",
      " [ 4  1  2 23 29 23]]\n"
     ]
    }
   ],
   "source": [
    "con_row = np.concatenate((a,b),axis=0) # row wise\n",
    "print(con_row)\n",
    "print('\\n')\n",
    "\n",
    "con_col = np.concatenate((a,b), axis = 1) # column wise \n",
    "print(con_col)"
   ]
  },
  {
   "cell_type": "code",
   "execution_count": 12,
   "metadata": {},
   "outputs": [
    {
     "name": "stdout",
     "output_type": "stream",
     "text": [
      "[[3 1 8]\n",
      " [2 3 9]\n",
      " [1 3 9]]\n"
     ]
    },
    {
     "ename": "ValueError",
     "evalue": "all the input array dimensions except for the concatenation axis must match exactly, but along dimension 0, the array at index 0 has size 2 and the array at index 1 has size 1",
     "output_type": "error",
     "traceback": [
      "\u001b[0;31m---------------------------------------------------------------------------\u001b[0m",
      "\u001b[0;31mValueError\u001b[0m                                Traceback (most recent call last)",
      "Cell \u001b[0;32mIn[12], line 11\u001b[0m\n\u001b[1;32m      9\u001b[0m r \u001b[38;5;241m=\u001b[39m np\u001b[38;5;241m.\u001b[39mconcatenate((x,y),axis \u001b[38;5;241m=\u001b[39m\u001b[38;5;241m0\u001b[39m ) \u001b[38;5;66;03m# row\u001b[39;00m\n\u001b[1;32m     10\u001b[0m \u001b[38;5;28mprint\u001b[39m(r)\n\u001b[0;32m---> 11\u001b[0m r \u001b[38;5;241m=\u001b[39m \u001b[43mnp\u001b[49m\u001b[38;5;241;43m.\u001b[39;49m\u001b[43mconcatenate\u001b[49m\u001b[43m(\u001b[49m\u001b[43m(\u001b[49m\u001b[43mx\u001b[49m\u001b[43m,\u001b[49m\u001b[43my\u001b[49m\u001b[43m)\u001b[49m\u001b[43m,\u001b[49m\u001b[43maxis\u001b[49m\u001b[43m \u001b[49m\u001b[38;5;241;43m=\u001b[39;49m\u001b[38;5;241;43m1\u001b[39;49m\u001b[43m \u001b[49m\u001b[43m)\u001b[49m \u001b[38;5;66;03m# col\u001b[39;00m\n\u001b[1;32m     12\u001b[0m \u001b[38;5;28mprint\u001b[39m(r)\n",
      "\u001b[0;31mValueError\u001b[0m: all the input array dimensions except for the concatenation axis must match exactly, but along dimension 0, the array at index 0 has size 2 and the array at index 1 has size 1"
     ]
    }
   ],
   "source": [
    "# error \n",
    "\n",
    "# row wise concetanate korar shomoi column same thakbe \n",
    "# col wise concat korar shomoi row ta same thakte hobe \n",
    "\n",
    "x = np.random.randint(1 ,10 , size =(2,3))\n",
    "y = np.random.randint(1 ,10 , size =(1,3))\n",
    "\n",
    "r = np.concatenate((x,y),axis =0 ) # row\n",
    "print(r)\n",
    "r = np.concatenate((x,y),axis =1 ) # col\n",
    "print(r)"
   ]
  },
  {
   "cell_type": "code",
   "execution_count": 13,
   "metadata": {},
   "outputs": [
    {
     "name": "stdout",
     "output_type": "stream",
     "text": [
      "[[10 30]\n",
      " [20 40]\n",
      " [30 50]]\n"
     ]
    }
   ],
   "source": [
    "# transpose \n",
    "\n",
    "mat = np.array([[10,20,30],\n",
    "                [30,40,50]\n",
    "               ])\n",
    "\n",
    "transpose = mat.T\n",
    "\n",
    "print(transpose) "
   ]
  },
  {
   "cell_type": "code",
   "execution_count": 14,
   "metadata": {},
   "outputs": [
    {
     "name": "stdout",
     "output_type": "stream",
     "text": [
      "[3 7 2 4 6 1 4 1 1 5]\n",
      "[array([3, 7, 2, 4]), array([6, 1, 4]), array([1, 1, 5])]\n"
     ]
    },
    {
     "ename": "ValueError",
     "evalue": "array split does not result in an equal division",
     "output_type": "error",
     "traceback": [
      "\u001b[0;31m---------------------------------------------------------------------------\u001b[0m",
      "\u001b[0;31mValueError\u001b[0m                                Traceback (most recent call last)",
      "Cell \u001b[0;32mIn[14], line 10\u001b[0m\n\u001b[1;32m      7\u001b[0m \u001b[38;5;28mprint\u001b[39m(splitted_array)\n\u001b[1;32m      9\u001b[0m \u001b[38;5;66;03m# split -> equal division \u001b[39;00m\n\u001b[0;32m---> 10\u001b[0m splitted_array \u001b[38;5;241m=\u001b[39m \u001b[43mnp\u001b[49m\u001b[38;5;241;43m.\u001b[39;49m\u001b[43msplit\u001b[49m\u001b[43m(\u001b[49m\u001b[43ma\u001b[49m\u001b[43m,\u001b[49m\u001b[38;5;241;43m3\u001b[39;49m\u001b[43m)\u001b[49m \n",
      "File \u001b[0;32m/usr/lib/python3/dist-packages/numpy/lib/shape_base.py:864\u001b[0m, in \u001b[0;36msplit\u001b[0;34m(ary, indices_or_sections, axis)\u001b[0m\n\u001b[1;32m    862\u001b[0m     N \u001b[38;5;241m=\u001b[39m ary\u001b[38;5;241m.\u001b[39mshape[axis]\n\u001b[1;32m    863\u001b[0m     \u001b[38;5;28;01mif\u001b[39;00m N \u001b[38;5;241m%\u001b[39m sections:\n\u001b[0;32m--> 864\u001b[0m         \u001b[38;5;28;01mraise\u001b[39;00m \u001b[38;5;167;01mValueError\u001b[39;00m(\n\u001b[1;32m    865\u001b[0m             \u001b[38;5;124m'\u001b[39m\u001b[38;5;124marray split does not result in an equal division\u001b[39m\u001b[38;5;124m'\u001b[39m) \u001b[38;5;28;01mfrom\u001b[39;00m \u001b[38;5;28;01mNone\u001b[39;00m\n\u001b[1;32m    866\u001b[0m \u001b[38;5;28;01mreturn\u001b[39;00m array_split(ary, indices_or_sections, axis)\n",
      "\u001b[0;31mValueError\u001b[0m: array split does not result in an equal division"
     ]
    }
   ],
   "source": [
    "# array split \n",
    "\n",
    "a = np.random.randint(1 ,10 , size =(10,))\n",
    "print(a)\n",
    "splitted_array = np.array_split(a,3) \n",
    "\n",
    "print(splitted_array)\n",
    "\n",
    "# split -> equal division \n",
    "splitted_array = np.split(a,3) "
   ]
  },
  {
   "cell_type": "markdown",
   "id": "1d677329",
   "metadata": {},
   "source": [
    "## arithmetic operator and mathematical functions"
   ]
  },
  {
   "cell_type": "code",
   "execution_count": null,
   "metadata": {},
   "outputs": [
    {
     "name": "stdout",
     "output_type": "stream",
     "text": [
      "[ 12  11  34 105]\n",
      "[ 12  11  34 105]\n",
      "[ 8  5 26 95]\n",
      "[ 20  24 120 500]\n",
      "[ 5.          2.66666667  7.5        20.        ]\n",
      "[0 2 2 0]\n"
     ]
    }
   ],
   "source": [
    "# faster for vectorization\n",
    "\n",
    "x = np.array([ 10 , 8 , 30 , 100 ])\n",
    "y = np.array([ 2 , 3 ,4  ,5 ]) \n",
    "\n",
    "add = np.add(x,y) #same\n",
    "print(add)\n",
    "\n",
    "add = x+y # same\n",
    "print(add)\n",
    "\n",
    "sub = x-y \n",
    "print(sub)\n",
    "\n",
    "mul = x*y \n",
    "print(mul) \n",
    "\n",
    "div = x/y \n",
    "print(div) \n",
    "\n",
    "remainder = x % y\n",
    "print(remainder) "
   ]
  },
  {
   "cell_type": "code",
   "execution_count": 16,
   "metadata": {},
   "outputs": [
    {
     "name": "stdout",
     "output_type": "stream",
     "text": [
      "[-0.54402111  0.98935825 -0.98803162 -0.50636564]\n",
      "[-0.83907153 -0.14550003  0.15425145  0.86231887]\n",
      "[ 572.95779513  458.3662361  1718.87338539 5729.57795131]\n"
     ]
    }
   ],
   "source": [
    "# mathematical function \n",
    "\n",
    "# trigonometry \n",
    "\n",
    "# sin , cos , tan takes values in radian \n",
    "\n",
    "sin_val = np.sin(x)\n",
    "print(sin_val) \n",
    "\n",
    "cos_val = np.cos(x)\n",
    "print(cos_val) \n",
    "\n",
    "deg_con = np.rad2deg(x)\n",
    "print(deg_con)\n",
    "\n",
    "# deg2rad "
   ]
  },
  {
   "cell_type": "code",
   "execution_count": 17,
   "metadata": {},
   "outputs": [
    {
     "name": "stdout",
     "output_type": "stream",
     "text": [
      "[ 10   8  30 100]\n",
      "[1.         0.90308999 1.20411998 2.        ]\n",
      "[3.32192809 3.         4.         6.64385619]\n",
      "[ 3.16227766  2.82842712  4.         10.        ]\n"
     ]
    }
   ],
   "source": [
    "#log \n",
    "\n",
    "print(x)\n",
    "x = np.array([ 10 , 8 , 16 , 100 ])\n",
    "base_10_log_val = np.log10(x)\n",
    "print(base_10_log_val)\n",
    "\n",
    "\n",
    "two_diye_bhag = np.log2(x) \n",
    "print(two_diye_bhag)\n",
    "\n",
    "sqrt= np.sqrt(x)\n",
    "print(sqrt)"
   ]
  },
  {
   "cell_type": "code",
   "execution_count": 23,
   "metadata": {},
   "outputs": [
    {
     "name": "stdout",
     "output_type": "stream",
     "text": [
      "[ 10   8  16 100]\n",
      "134\n",
      "[ 10  18  34 134]\n"
     ]
    }
   ],
   "source": [
    "# different \n",
    "\n",
    "print(x)\n",
    "s = np.sum(x)\n",
    "print(s)\n",
    "\n",
    "#prefix sum \n",
    "cumul =np.cumsum(x)\n",
    "print(cumul)"
   ]
  },
  {
   "cell_type": "code",
   "execution_count": 28,
   "metadata": {},
   "outputs": [
    {
     "name": "stdout",
     "output_type": "stream",
     "text": [
      "[  100    64   256 10000]\n",
      "[ 12  10  18 102]\n",
      "[[11 22 33]\n",
      " [31 42 53]]\n"
     ]
    }
   ],
   "source": [
    "#broadcasting \n",
    "\n",
    "x = np.array([ 10 , 8 , 16 , 100 ])\n",
    "result=x**2\n",
    "print(result)\n",
    "\n",
    "result = x + 2 \n",
    "print(result)\n",
    "\n",
    "#rulings = columns er size and vector er size same hote hobe \n",
    "\n",
    "matrix = np.array([[10,20,30],\n",
    "                [30,40,50]\n",
    "               ])\n",
    "result = matrix + 2 \n",
    "\n",
    "vector = np.array([1,2,3]) \n",
    "\n",
    "result = matrix +vector\n",
    "print(result)"
   ]
  },
  {
   "cell_type": "markdown",
   "id": "1726d310",
   "metadata": {},
   "source": [
    "## Logical Function"
   ]
  },
  {
   "cell_type": "code",
   "execution_count": 29,
   "metadata": {},
   "outputs": [
    {
     "name": "stdout",
     "output_type": "stream",
     "text": [
      "[ True  True False  True]\n",
      "[False False  True False]\n",
      "False\n",
      "True\n"
     ]
    }
   ],
   "source": [
    "# comparison - >,< , >= ,<= , == , !=\n",
    "\n",
    "x = np.array([ 10 , 8 , 16 , 100 ])\n",
    "y = np.array([ 2 , 3 ,16  ,5 ]) \n",
    "\n",
    "greater_than = x>y \n",
    "print(greater_than)\n",
    "\n",
    "equal = x==y \n",
    "print(equal) \n",
    "\n",
    "# all () -> shob true kina \n",
    "# any() -> jekono ekta true ase kina \n",
    "\n",
    "print(np.all(greater_than)) \n",
    "\n",
    "print(np.any(equal))"
   ]
  },
  {
   "cell_type": "markdown",
   "id": "cd2a0a5e",
   "metadata": {},
   "source": [
    "## Sorting"
   ]
  },
  {
   "cell_type": "code",
   "execution_count": null,
   "metadata": {},
   "outputs": [
    {
     "name": "stdout",
     "output_type": "stream",
     "text": [
      "[ 10   8  16 100]\n",
      "[  8  10  16 100]\n"
     ]
    }
   ],
   "source": [
    "#inplace \n",
    "x = np.array([ 10 , 8 , 16 , 100 ])\n",
    "z = x.copy()\n",
    "\n",
    "print(z) \n",
    "\n",
    "z.sort()\n",
    "print(z)\n"
   ]
  },
  {
   "cell_type": "code",
   "execution_count": 30,
   "metadata": {},
   "outputs": [
    {
     "name": "stdout",
     "output_type": "stream",
     "text": [
      "[ 10   8  16 100]\n",
      "[  8  10  16 100]\n",
      "[ 10   8  16 100]\n"
     ]
    }
   ],
   "source": [
    "# copy sorting\n",
    "print(x)\n",
    "sort_arr = np.sort(x) \n",
    "\n",
    "print(sort_arr)\n",
    "print(x)"
   ]
  },
  {
   "cell_type": "code",
   "execution_count": 32,
   "metadata": {},
   "outputs": [
    {
     "name": "stdout",
     "output_type": "stream",
     "text": [
      "[[ 3  5 10]\n",
      " [ 4  8  9]]\n",
      "\n",
      "\n",
      "[[ 8  3  5]\n",
      " [10  4  9]]\n"
     ]
    }
   ],
   "source": [
    "# 2d array sorting \n",
    "mat = np.array([[10,3,5],[8,4,9]])\n",
    "\n",
    "# horizon axis = 1 \n",
    "\n",
    "hor_sort = np.sort(mat,axis=1) # row\n",
    "print(hor_sort)\n",
    "print(\"\\n\")\n",
    "\n",
    "vert_sort = np.sort(mat,axis=0) # column\n",
    "print(vert_sort)"
   ]
  },
  {
   "cell_type": "markdown",
   "id": "49ff9750",
   "metadata": {},
   "source": [
    "## Searching"
   ]
  },
  {
   "cell_type": "code",
   "execution_count": 33,
   "metadata": {},
   "outputs": [
    {
     "name": "stdout",
     "output_type": "stream",
     "text": [
      "[ 10   8  16 100]\n"
     ]
    }
   ],
   "source": [
    "print(x)"
   ]
  },
  {
   "cell_type": "code",
   "execution_count": 39,
   "id": "6f0b4942",
   "metadata": {},
   "outputs": [
    {
     "name": "stdout",
     "output_type": "stream",
     "text": [
      "(array([1]),)\n",
      "(array([0, 2, 3]),)\n",
      "[ 10   0  16 100]\n"
     ]
    }
   ],
   "source": [
    "index = np.where(x==8) # returns index\n",
    "print(index)\n",
    "\n",
    "arr = np.where(x>8) \n",
    "print(arr)\n",
    "\n",
    "\n",
    "# np.where( condition , x , y ) if true x , otherwise replace with y \n",
    "\n",
    "arr = np.where(x>8,x,0) # if x, 8 theke boro hoy tahole x er man print hobe . r baki gulo a 0 print hobe\n",
    "print(arr)"
   ]
  },
  {
   "cell_type": "code",
   "execution_count": 37,
   "metadata": {},
   "outputs": [
    {
     "name": "stdout",
     "output_type": "stream",
     "text": [
      "[[10  3  5]\n",
      " [ 8  4  9]]\n"
     ]
    }
   ],
   "source": [
    "print(mat)"
   ]
  },
  {
   "cell_type": "code",
   "execution_count": 38,
   "metadata": {},
   "outputs": [
    {
     "name": "stdout",
     "output_type": "stream",
     "text": [
      "(array([0, 1]), array([0, 2]))\n",
      "[[10  0  0]\n",
      " [ 0  0  9]]\n"
     ]
    }
   ],
   "source": [
    "index = np.where(mat>8) # returns index\n",
    "print(index)\n",
    "\n",
    "arr = np.where(mat>8,mat,0) # returns array \n",
    "print(arr)"
   ]
  },
  {
   "cell_type": "code",
   "execution_count": 55,
   "metadata": {},
   "outputs": [
    {
     "name": "stdout",
     "output_type": "stream",
     "text": [
      "1\n",
      "2\n"
     ]
    }
   ],
   "source": [
    "x = np.array([ 10,100 , 8 , 16 , 100 ])\n",
    "\n",
    "maximum_value_indx = np.argmax(x) \n",
    "minimum_value_indx = np.argmin(x)\n",
    "\n",
    "print(maximum_value_indx)\n",
    "print(minimum_value_indx)"
   ]
  },
  {
   "cell_type": "markdown",
   "id": "abe6492b",
   "metadata": {},
   "source": [
    "## counting in ndarray"
   ]
  },
  {
   "cell_type": "code",
   "execution_count": 56,
   "metadata": {},
   "outputs": [
    {
     "name": "stdout",
     "output_type": "stream",
     "text": [
      "[10 39 32 53 39 37 54 39 69 91  1 44 26 52 61 40 22 84 74 44 96 50 98 26\n",
      " 11 83 25 84 91 71 60 10 54 17 93 63 60 42 58 42 94 65 34 65  8 77 99  7\n",
      " 96 66 54 74 18 68 20 48  8 78  3 70 43 18 57 65 73 59 51 27 79  5 46 82\n",
      " 86 43 53 50 61 30 87 20 92  8  9 38 91 28 59 33 17  3 10 52 98 83 10 64\n",
      "  9  1  9 11]\n"
     ]
    }
   ],
   "source": [
    "a = np.random.randint(1 ,100 , size =(100,))\n",
    "print(a)"
   ]
  },
  {
   "cell_type": "code",
   "execution_count": 44,
   "metadata": {},
   "outputs": [
    {
     "name": "stdout",
     "output_type": "stream",
     "text": [
      "0\n",
      "10\n"
     ]
    }
   ],
   "source": [
    "value = np.count_nonzero(a==97)\n",
    "print(value)\n",
    "\n",
    "\n",
    "value_great_than_60 = np.count_nonzero(a<60)\n",
    "print(value_great_than_60)"
   ]
  },
  {
   "cell_type": "code",
   "execution_count": 45,
   "id": "4e0b16a2",
   "metadata": {},
   "outputs": [
    {
     "name": "stdout",
     "output_type": "stream",
     "text": [
      "[1 2 3 4 5 6 7]\n",
      "[3 1 1 2 1 1 1]\n"
     ]
    }
   ],
   "source": [
    "unique_value,count = np.unique(a,return_counts=True)\n",
    "\n",
    "print(unique_value) \n",
    "print(count)"
   ]
  },
  {
   "cell_type": "markdown",
   "id": "4d557bc2",
   "metadata": {},
   "source": [
    "## statistical function"
   ]
  },
  {
   "cell_type": "code",
   "execution_count": 58,
   "id": "5f3afe73",
   "metadata": {},
   "outputs": [
    {
     "name": "stdout",
     "output_type": "stream",
     "text": [
      "[[78. 85. 82.]\n",
      " [56. 67. 72.]\n",
      " [89. 92. 88.]\n",
      " [45. 52. 58.]\n",
      " [70. 75. 80.]\n",
      " [92. 90. 91.]\n",
      " [61. 60. 62.]\n",
      " [55. 57. 54.]\n",
      " [88. 89. 87.]\n",
      " [74. 70. 76.]\n",
      " [66. 69. 68.]\n",
      " [80. 82. 81.]\n",
      " [59. 64. 60.]\n",
      " [73. 78. 74.]\n",
      " [91. 93. 90.]\n",
      " [68. 71. 69.]\n",
      " [77. 79. 78.]\n",
      " [84. 86. 85.]\n",
      " [62. 63. 65.]\n",
      " [95. 97. 96.]]\n"
     ]
    }
   ],
   "source": [
    "#data load \n",
    "import numpy as np\n",
    "\n",
    "# data = np.genfromtxt('student_scores.csv' ,delimiter=',',skip_header=1)\n",
    "data = np.genfromtxt('student_scores.csv', delimiter=',', skip_header=1)\n",
    "print(data)\n",
    "\n",
    "# print(data) "
   ]
  },
  {
   "cell_type": "code",
   "execution_count": 59,
   "metadata": {},
   "outputs": [
    {
     "name": "stdout",
     "output_type": "stream",
     "text": [
      "[[78. 56. 89. 45. 70. 92. 61. 55. 88. 74. 66. 80. 59. 73. 91. 68. 77. 84.\n",
      "  62. 95.]]\n",
      "95.0\n",
      "45.0\n",
      "73.15\n",
      "73.5\n",
      "13.788672887555204\n"
     ]
    }
   ],
   "source": [
    "# statistics  \n",
    "math_marks = data[::,:1]\n",
    "\n",
    "print(math_marks.T)\n",
    "\n",
    "max_math_marks = np.max(math_marks)\n",
    "print(max_math_marks)\n",
    "\n",
    "min_math_marks = np.min(math_marks)\n",
    "print(min_math_marks)\n",
    "\n",
    "average_math_marks = np.mean(math_marks)\n",
    "print(average_math_marks)\n",
    "\n",
    "median_math_marks = np.median(math_marks)\n",
    "print(median_math_marks) \n",
    "\n",
    "# standard deviation\n",
    "\n",
    "std_math_marks = np.std(math_marks)\n",
    "print(std_math_marks)"
   ]
  },
  {
   "cell_type": "code",
   "execution_count": 56,
   "metadata": {},
   "outputs": [
    {
     "name": "stdout",
     "output_type": "stream",
     "text": [
      "Correlation Matrix:\n",
      " [[1.         0.99859154]\n",
      " [0.99859154 1.        ]]\n"
     ]
    }
   ],
   "source": [
    "study_hours = np.array([2, 4, 5, 7, 8])\n",
    "exam_scores = np.array([65, 75, 78, 88, 92])\n",
    "\n",
    "data = np.array([study_hours, exam_scores])\n",
    "\n",
    "correlation = np.corrcoef(data)\n",
    "\n",
    "print(\"Correlation Matrix:\\n\", correlation)"
   ]
  },
  {
   "cell_type": "markdown",
   "id": "197354f6",
   "metadata": {},
   "source": [
    "## linear algebra"
   ]
  },
  {
   "cell_type": "code",
   "execution_count": null,
   "metadata": {},
   "outputs": [
    {
     "name": "stdout",
     "output_type": "stream",
     "text": [
      "[[ 58  64]\n",
      " [139 154]]\n",
      "17\n"
     ]
    }
   ],
   "source": [
    "\n",
    "A = np.array([\n",
    "    [1, 2, 3],\n",
    "    [4, 5, 6]\n",
    "])\n",
    "\n",
    "B = np.array([\n",
    "    [7, 8],\n",
    "    [9, 10],\n",
    "    [11, 12]\n",
    "])\n",
    "\n",
    "# a er column and b er row same length hote hobe \n",
    "dot_product = np.dot(A,B)\n",
    "print(dot_product)\n",
    "\n",
    "\n",
    "# trace \n",
    "print(np.trace(B))\n"
   ]
  },
  {
   "cell_type": "code",
   "execution_count": 57,
   "metadata": {},
   "outputs": [
    {
     "name": "stdout",
     "output_type": "stream",
     "text": [
      "6.66133814775094e-16\n",
      "2\n"
     ]
    }
   ],
   "source": [
    "\n",
    "sq_mat = np.array([[1,2,3],\n",
    "          [4,5,6],\n",
    "          [7,8,9]\n",
    "         ])\n",
    "\n",
    "det_of_sq = np.linalg.det(sq_mat)\n",
    "\n",
    "rank_sq = np.linalg.matrix_rank(sq_mat)\n",
    "\n",
    "print(det_of_sq)\n",
    "\n",
    "print(rank_sq)"
   ]
  },
  {
   "cell_type": "code",
   "execution_count": 64,
   "metadata": {},
   "outputs": [
    {
     "name": "stdout",
     "output_type": "stream",
     "text": [
      "[[19 22]\n",
      " [43 50]]\n"
     ]
    }
   ],
   "source": [
    "A = np.array([[1, 2], [3, 4]]) \n",
    "B = np.array([[5, 6], [7, 8]])\n",
    "\n",
    "print(np.dot(A,B))"
   ]
  },
  {
   "cell_type": "markdown",
   "id": "52e29306",
   "metadata": {},
   "source": [
    "## Quiz"
   ]
  },
  {
   "cell_type": "code",
   "execution_count": 1,
   "id": "cc74b22c",
   "metadata": {},
   "outputs": [
    {
     "name": "stdout",
     "output_type": "stream",
     "text": [
      "(2, 3)\n"
     ]
    }
   ],
   "source": [
    "import numpy as np\n",
    "a = np.array([1, 2, 3, 4, 5, 6])\n",
    "b = a.reshape(2, 3)\n",
    "print(b.shape)\n"
   ]
  },
  {
   "cell_type": "code",
   "execution_count": 2,
   "id": "2b027eb2",
   "metadata": {},
   "outputs": [
    {
     "data": {
      "text/plain": [
       "1.0"
      ]
     },
     "execution_count": 2,
     "metadata": {},
     "output_type": "execute_result"
    }
   ],
   "source": [
    "import numpy as np\n",
    "np.sin(np.pi / 2)\n"
   ]
  },
  {
   "cell_type": "code",
   "execution_count": 5,
   "id": "5a1a56d5",
   "metadata": {},
   "outputs": [
    {
     "name": "stdout",
     "output_type": "stream",
     "text": [
      "[5 7 9]\n"
     ]
    }
   ],
   "source": [
    "import numpy as np\n",
    "\n",
    "a = np.array([1, 2, 3])\n",
    "b = np.array([4, 5, 6])\n",
    "print(a + b)\n"
   ]
  },
  {
   "cell_type": "code",
   "execution_count": 6,
   "id": "5d3aee8a",
   "metadata": {},
   "outputs": [
    {
     "name": "stdout",
     "output_type": "stream",
     "text": [
      "[1 2 3]\n"
     ]
    }
   ],
   "source": [
    "import numpy as np\n",
    "a = np.array([3, 1, 2])\n",
    "print(np.sort(a))\n"
   ]
  },
  {
   "cell_type": "code",
   "execution_count": 7,
   "id": "4634b253",
   "metadata": {},
   "outputs": [
    {
     "name": "stdout",
     "output_type": "stream",
     "text": [
      "[[19 22]\n",
      " [43 50]]\n"
     ]
    }
   ],
   "source": [
    "import numpy as np\n",
    "\n",
    "A = np.array([[1, 2], [3, 4]])\n",
    "B = np.array([[5, 6], [7, 8]])\n",
    "\n",
    "print(np.dot(A, B))\n"
   ]
  }
 ],
 "metadata": {
  "kernelspec": {
   "display_name": "Python 3",
   "language": "python",
   "name": "python3"
  },
  "language_info": {
   "codemirror_mode": {
    "name": "ipython",
    "version": 3
   },
   "file_extension": ".py",
   "mimetype": "text/x-python",
   "name": "python",
   "nbconvert_exporter": "python",
   "pygments_lexer": "ipython3",
   "version": "3.12.3"
  }
 },
 "nbformat": 4,
 "nbformat_minor": 5
}
