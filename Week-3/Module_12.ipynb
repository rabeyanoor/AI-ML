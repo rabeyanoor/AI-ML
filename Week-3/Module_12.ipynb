{
 "cells": [
  {
   "cell_type": "markdown",
   "id": "bd043b9e-ba11-4e1f-b84d-32ab102249a7",
   "metadata": {},
   "source": [
    "# 1.Pandas intro\n",
    "# 2.Dataframe and series\n",
    "# 3.Working with different file type\n",
    "# 4.Basic functionalities\n",
    "# 5.Creating df from list,tuple,dic\n",
    "# 6.Accessing data --> loc(), iloc ()\n",
    "# 7.clanging index and column\n",
    "# 8.Deleting rows and column\n",
    "# 9.Sorting\n",
    "# 10.filtering data based on condition\n",
    "\n",
    "\n"
   ]
  },
  {
   "cell_type": "code",
   "execution_count": 2,
   "id": "1ecc52cb-714c-48aa-9044-03d1246046f8",
   "metadata": {
    "scrolled": true
   },
   "outputs": [
    {
     "name": "stdout",
     "output_type": "stream",
     "text": [
      "   StudentID          FullName  Data Structure Marks  Algorithm Marks  \\\n",
      "0     PH1001       Alif Rahman                  85.0             85.0   \n",
      "1     PH1002     Fatima Akhter                  92.0             92.0   \n",
      "2     PH1003     Imran Hossain                  88.0             88.0   \n",
      "3     PH1004  Jannatul Ferdous                  78.0             78.0   \n",
      "4     PH1005       Kamal Uddin                   NaN              NaN   \n",
      "5     PH1006       Laila Begum                  75.0             75.0   \n",
      "6     PH1007    Mahmudul Hasan                  80.0             80.0   \n",
      "7     PH1008       Nadia Islam                  81.0             81.0   \n",
      "8     PH1009        Omar Faruq                  72.0             72.0   \n",
      "9     PH1010      Priya Sharma                  89.0             89.0   \n",
      "10    PH1011      Rahim Sheikh                   NaN              NaN   \n",
      "11    PH1012   Sadia Chowdhury                  85.0             85.0   \n",
      "12    PH1013      Tanvir Ahmed                  75.0             75.0   \n",
      "13    PH1014        Urmi Akter                   NaN              NaN   \n",
      "14    PH1015      Wahiduzzaman                  86.0             86.0   \n",
      "15    PH1016      Ziaur Rahman                  94.0             94.0   \n",
      "16    PH1017       Afsana Mimi                  90.0             90.0   \n",
      "17    PH1018       Babul Ahmed                  88.0             88.0   \n",
      "18    PH1019      Faria Rahman                   NaN              NaN   \n",
      "19    PH1020        Nasir Khan                  86.0             86.0   \n",
      "\n",
      "    Python Marks CompletionStatus EnrollmentDate Instructor    Location  \n",
      "0           88.0        Completed     2024-01-15  Mr. Karim       Dhaka  \n",
      "1            NaN      In Progress     2024-01-20  Ms. Salma  Chattogram  \n",
      "2           85.0        Completed     2024-02-10  Mr. Karim       Dhaka  \n",
      "3           82.0        Completed     2024-02-12  Ms. Salma      Sylhet  \n",
      "4           95.0      In Progress     2024-03-05  Mr. Karim  Chattogram  \n",
      "5           78.0        Completed     2024-03-08  Ms. Salma    Rajshahi  \n",
      "6            NaN      In Progress     2024-04-01  Mr. Karim       Dhaka  \n",
      "7           85.0        Completed     2024-04-22  Ms. Salma  Chattogram  \n",
      "8           76.0        Completed     2024-05-16  Mr. David       Dhaka  \n",
      "9           88.0        Completed     2024-05-20  Ms. Salma      Sylhet  \n",
      "10          91.0      In Progress     2024-06-11  Mr. Karim      Khulna  \n",
      "11          87.0        Completed     2024-06-14  Ms. Salma  Chattogram  \n",
      "12          79.0        Completed     2024-07-02  Mr. David       Dhaka  \n",
      "13           NaN      Not Started     2024-07-09  Ms. Salma    Rajshahi  \n",
      "14          84.0        Completed     2024-08-18  Mr. Karim       Dhaka  \n",
      "15           NaN      In Progress     2024-08-21  Ms. Salma  Chattogram  \n",
      "16          93.0        Completed     2025-09-01  Mr. Karim       Dhaka  \n",
      "17          85.0        Completed     2025-09-05  Ms. Salma      Sylhet  \n",
      "18           NaN      Not Started     2025-09-15  Mr. David  Chattogram  \n",
      "19          89.0        Completed     2025-10-02  Ms. Salma       Dhaka  \n"
     ]
    }
   ],
   "source": [
    "import pandas as pd\n",
    "\n",
    "df = pd.read_csv('student_data.csv')\n",
    "print(df)"
   ]
  },
  {
   "cell_type": "code",
   "execution_count": 3,
   "id": "c6e5ee2e-100f-4464-b25f-27d5b5324011",
   "metadata": {},
   "outputs": [
    {
     "name": "stdout",
     "output_type": "stream",
     "text": [
      "<class 'pandas.core.frame.DataFrame'>\n"
     ]
    }
   ],
   "source": [
    "print(type(df))"
   ]
  },
  {
   "cell_type": "code",
   "execution_count": 4,
   "id": "7865204e-68a7-45be-8a33-4149c48d9793",
   "metadata": {},
   "outputs": [
    {
     "name": "stdout",
     "output_type": "stream",
     "text": [
      "0     PH1001\n",
      "1     PH1002\n",
      "2     PH1003\n",
      "3     PH1004\n",
      "4     PH1005\n",
      "5     PH1006\n",
      "6     PH1007\n",
      "7     PH1008\n",
      "8     PH1009\n",
      "9     PH1010\n",
      "10    PH1011\n",
      "11    PH1012\n",
      "12    PH1013\n",
      "13    PH1014\n",
      "14    PH1015\n",
      "15    PH1016\n",
      "16    PH1017\n",
      "17    PH1018\n",
      "18    PH1019\n",
      "19    PH1020\n",
      "Name: StudentID, dtype: object\n"
     ]
    }
   ],
   "source": [
    "student_id= df['StudentID']\n",
    "\n",
    "print(student_id)"
   ]
  },
  {
   "cell_type": "code",
   "execution_count": 5,
   "id": "33861b58-c85c-4674-9436-01576a9d346f",
   "metadata": {},
   "outputs": [
    {
     "name": "stdout",
     "output_type": "stream",
     "text": [
      "<class 'pandas.core.series.Series'>\n"
     ]
    }
   ],
   "source": [
    "print(type(student_id))"
   ]
  },
  {
   "cell_type": "markdown",
   "id": "eab47669",
   "metadata": {},
   "source": [
    "Pandas Dataframe and Series \n",
    "\n",
    "# ** Dataframe --> Tabular data , ( 2d data)\n",
    "# ** Series --> Single row, single column ,(1d data) "
   ]
  },
  {
   "cell_type": "code",
   "execution_count": null,
   "id": "a9896ec1-4d5e-490d-9d7b-ac2769b3bfbe",
   "metadata": {},
   "outputs": [],
   "source": []
  }
 ],
 "metadata": {
  "kernelspec": {
   "display_name": "pandas_env",
   "language": "python",
   "name": "python3"
  },
  "language_info": {
   "codemirror_mode": {
    "name": "ipython",
    "version": 3
   },
   "file_extension": ".py",
   "mimetype": "text/x-python",
   "name": "python",
   "nbconvert_exporter": "python",
   "pygments_lexer": "ipython3",
   "version": "3.12.12"
  }
 },
 "nbformat": 4,
 "nbformat_minor": 5
}
